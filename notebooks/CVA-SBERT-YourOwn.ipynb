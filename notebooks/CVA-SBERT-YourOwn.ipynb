{
  "cells": [
    {
      "cell_type": "markdown",
      "source": [
        "# Do Your Own Analysis\n",
        "\n",
        "1. First, work through Setup and a few analysis notebooks\n",
        "1. Perform new analyses on CVA and Token dataframes\n",
        "1. Rename and save your changes to this notebook on your gDrive\n",
        "1. Add lots & lots of comments if you want others to understand & collaborate\n",
        "1. Finally, contribute back to this repository, sharing your insights."
      ],
      "metadata": {
        "id": "Ps4LDam0XMic"
      }
    },
    {
      "cell_type": "markdown",
      "metadata": {
        "id": "AZSRG_0rm3t9"
      },
      "source": [
        "# Setup Environment"
      ]
    },
    {
      "cell_type": "markdown",
      "source": [
        "## Set Notebook Parameters"
      ],
      "metadata": {
        "id": "v4HpIXy15osX"
      }
    },
    {
      "cell_type": "code",
      "source": [
        "# use gDrive if you previously saved train_data, etc.\n",
        "# otherwise, use pre-generated data from repos (Default)\n",
        "USE_GDRIVE = False\n",
        "\n",
        "# save analysis plots if customized\n",
        "SAVE_PLOT = False"
      ],
      "metadata": {
        "id": "xLjXg6zv5tUY"
      },
      "execution_count": null,
      "outputs": []
    },
    {
      "cell_type": "markdown",
      "metadata": {
        "id": "hzoUz1FwWVvd"
      },
      "source": [
        "## Import various packages\n"
      ]
    },
    {
      "cell_type": "code",
      "execution_count": null,
      "metadata": {
        "id": "bok6iQwnoy_f"
      },
      "outputs": [],
      "source": [
        "import pandas as pd\n",
        "import numpy as np\n",
        "\n",
        "import os.path\n",
        "from os import path\n",
        "from time import strftime, localtime\n",
        "from google.colab import drive"
      ]
    },
    {
      "cell_type": "markdown",
      "metadata": {
        "id": "zd1FLW2gVfAa"
      },
      "source": [
        "## Clone CVA-SBERT GitHub or mount gDrive"
      ]
    },
    {
      "cell_type": "code",
      "execution_count": null,
      "metadata": {
        "colab": {
          "base_uri": "https://localhost:8080/"
        },
        "id": "vdnQd5jXVotB",
        "outputId": "91dcce98-6d60-4d35-bffc-2bc42524d249"
      },
      "outputs": [
        {
          "output_type": "stream",
          "name": "stdout",
          "text": [
            "Cloning into 'CVA-SBERT'...\n",
            "remote: Enumerating objects: 197, done.\u001b[K\n",
            "remote: Counting objects: 100% (35/35), done.\u001b[K\n",
            "remote: Compressing objects: 100% (23/23), done.\u001b[K\n",
            "remote: Total 197 (delta 21), reused 19 (delta 12), pack-reused 162\u001b[K\n",
            "Receiving objects: 100% (197/197), 87.56 MiB | 23.53 MiB/s, done.\n",
            "Resolving deltas: 100% (122/122), done.\n",
            "/content/CVA-SBERT\n"
          ]
        }
      ],
      "source": [
        "if USE_GDRIVE:\n",
        "    drive.mount('/content/drive')               # mount YOUR gDrive\n",
        "\n",
        "    # Path to data -- change for YOUR specific Analysis folder\n",
        "    path = '/content/drive/MyDrive/CVA-SBERT/Analysis-20221203-190207' ### CHANGE!!!\n",
        "\n",
        "else:\n",
        "    !git clone https://github.com/Hackathorn/CVA-SBERT  # clone repos\n",
        "\n",
        "    # Path to data in repository\n",
        "    path = '/content/CVA-SBERT/data/SetUp_Data'\n",
        "\n",
        "path"
      ]
    },
    {
      "cell_type": "markdown",
      "source": [
        "Load dataframes and create working df as simply ```df```"
      ],
      "metadata": {
        "id": "2hm3JjxQhrY-"
      }
    },
    {
      "cell_type": "code",
      "source": [
        "# load previous dataframes from SetUp notebook\n",
        "CVA_df = pd.read_pickle(path + '/CVA_df.pkl')\n",
        "token_df = pd.read_pickle(path + '/token_df.pkl')\n",
        "\n",
        "#### select/rename/transform data into working df to be analyzed\n",
        "df = CVA_df     # ...or CVA_df[CVA_df.is_train == True] etc\n",
        "df"
      ],
      "metadata": {
        "id": "cgpcSDJqWC1f",
        "outputId": "c2370e3d-8b97-4505-e3a1-67208a5ca6cb",
        "colab": {
          "base_uri": "https://localhost:8080/",
          "height": 424
        }
      },
      "execution_count": null,
      "outputs": [
        {
          "output_type": "execute_result",
          "data": {
            "text/plain": [
              "       DataId  SourceId  Target  \\\n",
              "0           0      2978       1   \n",
              "1           1      1056       0   \n",
              "2           3      1015       0   \n",
              "3           4      2988       0   \n",
              "4           7      3130       0   \n",
              "...       ...       ...     ...   \n",
              "23030   28070     12341       0   \n",
              "23031   28071     12822       1   \n",
              "23032   28072      3350       1   \n",
              "23033   28074      2361       1   \n",
              "23034   28075      3093       1   \n",
              "\n",
              "                                              Definition  \\\n",
              "0      People whose past behavior is consistent with ...   \n",
              "1                      Facilitation from work to school.   \n",
              "2             Employees? sense of belongingness at work.   \n",
              "3      How attracted members were to the crew and the...   \n",
              "4                                Things Manny didn?t do.   \n",
              "...                                                  ...   \n",
              "23030  The extent to which reputations were observabl...   \n",
              "23031  How characteristic each of the attractiveness ...   \n",
              "23032  Participants' explanations for why the seller ...   \n",
              "23033  Newcomers? belief that good alternative work e...   \n",
              "23034  Employees? perceptions of the interpersonal tr...   \n",
              "\n",
              "                                                    Item   Cos_Sim   Euc_Sim  \n",
              "0      Have any of your current or previous partners ...  0.183756  1.277688  \n",
              "1                I enjoy being a student on this campus.  0.292208  1.189783  \n",
              "2      Helps others when it is clear their workload i...  0.322255  1.164255  \n",
              "3      Managers rate each crew (low performance/high ...  0.446235  1.052393  \n",
              "4       Did Manny tear the book while he was reading it?  0.565577  0.932119  \n",
              "...                                                  ...       ...       ...  \n",
              "23030  The project required close working relationshi...  0.213506  1.254188  \n",
              "23031                                              Wise.  0.147961  1.305403  \n",
              "23032                            The buyer is persuasive  0.569600  0.927793  \n",
              "23033  To what extent have other co-workers influence...  0.447036  1.051631  \n",
              "23034                Employees? suggestions are ignored.  0.443676  1.054822  \n",
              "\n",
              "[23035 rows x 7 columns]"
            ],
            "text/html": [
              "\n",
              "  <div id=\"df-0d3f3c89-07e3-4c34-a710-37a13c876a74\">\n",
              "    <div class=\"colab-df-container\">\n",
              "      <div>\n",
              "<style scoped>\n",
              "    .dataframe tbody tr th:only-of-type {\n",
              "        vertical-align: middle;\n",
              "    }\n",
              "\n",
              "    .dataframe tbody tr th {\n",
              "        vertical-align: top;\n",
              "    }\n",
              "\n",
              "    .dataframe thead th {\n",
              "        text-align: right;\n",
              "    }\n",
              "</style>\n",
              "<table border=\"1\" class=\"dataframe\">\n",
              "  <thead>\n",
              "    <tr style=\"text-align: right;\">\n",
              "      <th></th>\n",
              "      <th>DataId</th>\n",
              "      <th>SourceId</th>\n",
              "      <th>Target</th>\n",
              "      <th>Definition</th>\n",
              "      <th>Item</th>\n",
              "      <th>Cos_Sim</th>\n",
              "      <th>Euc_Sim</th>\n",
              "    </tr>\n",
              "  </thead>\n",
              "  <tbody>\n",
              "    <tr>\n",
              "      <th>0</th>\n",
              "      <td>0</td>\n",
              "      <td>2978</td>\n",
              "      <td>1</td>\n",
              "      <td>People whose past behavior is consistent with ...</td>\n",
              "      <td>Have any of your current or previous partners ...</td>\n",
              "      <td>0.183756</td>\n",
              "      <td>1.277688</td>\n",
              "    </tr>\n",
              "    <tr>\n",
              "      <th>1</th>\n",
              "      <td>1</td>\n",
              "      <td>1056</td>\n",
              "      <td>0</td>\n",
              "      <td>Facilitation from work to school.</td>\n",
              "      <td>I enjoy being a student on this campus.</td>\n",
              "      <td>0.292208</td>\n",
              "      <td>1.189783</td>\n",
              "    </tr>\n",
              "    <tr>\n",
              "      <th>2</th>\n",
              "      <td>3</td>\n",
              "      <td>1015</td>\n",
              "      <td>0</td>\n",
              "      <td>Employees? sense of belongingness at work.</td>\n",
              "      <td>Helps others when it is clear their workload i...</td>\n",
              "      <td>0.322255</td>\n",
              "      <td>1.164255</td>\n",
              "    </tr>\n",
              "    <tr>\n",
              "      <th>3</th>\n",
              "      <td>4</td>\n",
              "      <td>2988</td>\n",
              "      <td>0</td>\n",
              "      <td>How attracted members were to the crew and the...</td>\n",
              "      <td>Managers rate each crew (low performance/high ...</td>\n",
              "      <td>0.446235</td>\n",
              "      <td>1.052393</td>\n",
              "    </tr>\n",
              "    <tr>\n",
              "      <th>4</th>\n",
              "      <td>7</td>\n",
              "      <td>3130</td>\n",
              "      <td>0</td>\n",
              "      <td>Things Manny didn?t do.</td>\n",
              "      <td>Did Manny tear the book while he was reading it?</td>\n",
              "      <td>0.565577</td>\n",
              "      <td>0.932119</td>\n",
              "    </tr>\n",
              "    <tr>\n",
              "      <th>...</th>\n",
              "      <td>...</td>\n",
              "      <td>...</td>\n",
              "      <td>...</td>\n",
              "      <td>...</td>\n",
              "      <td>...</td>\n",
              "      <td>...</td>\n",
              "      <td>...</td>\n",
              "    </tr>\n",
              "    <tr>\n",
              "      <th>23030</th>\n",
              "      <td>28070</td>\n",
              "      <td>12341</td>\n",
              "      <td>0</td>\n",
              "      <td>The extent to which reputations were observabl...</td>\n",
              "      <td>The project required close working relationshi...</td>\n",
              "      <td>0.213506</td>\n",
              "      <td>1.254188</td>\n",
              "    </tr>\n",
              "    <tr>\n",
              "      <th>23031</th>\n",
              "      <td>28071</td>\n",
              "      <td>12822</td>\n",
              "      <td>1</td>\n",
              "      <td>How characteristic each of the attractiveness ...</td>\n",
              "      <td>Wise.</td>\n",
              "      <td>0.147961</td>\n",
              "      <td>1.305403</td>\n",
              "    </tr>\n",
              "    <tr>\n",
              "      <th>23032</th>\n",
              "      <td>28072</td>\n",
              "      <td>3350</td>\n",
              "      <td>1</td>\n",
              "      <td>Participants' explanations for why the seller ...</td>\n",
              "      <td>The buyer is persuasive</td>\n",
              "      <td>0.569600</td>\n",
              "      <td>0.927793</td>\n",
              "    </tr>\n",
              "    <tr>\n",
              "      <th>23033</th>\n",
              "      <td>28074</td>\n",
              "      <td>2361</td>\n",
              "      <td>1</td>\n",
              "      <td>Newcomers? belief that good alternative work e...</td>\n",
              "      <td>To what extent have other co-workers influence...</td>\n",
              "      <td>0.447036</td>\n",
              "      <td>1.051631</td>\n",
              "    </tr>\n",
              "    <tr>\n",
              "      <th>23034</th>\n",
              "      <td>28075</td>\n",
              "      <td>3093</td>\n",
              "      <td>1</td>\n",
              "      <td>Employees? perceptions of the interpersonal tr...</td>\n",
              "      <td>Employees? suggestions are ignored.</td>\n",
              "      <td>0.443676</td>\n",
              "      <td>1.054822</td>\n",
              "    </tr>\n",
              "  </tbody>\n",
              "</table>\n",
              "<p>23035 rows × 7 columns</p>\n",
              "</div>\n",
              "      <button class=\"colab-df-convert\" onclick=\"convertToInteractive('df-0d3f3c89-07e3-4c34-a710-37a13c876a74')\"\n",
              "              title=\"Convert this dataframe to an interactive table.\"\n",
              "              style=\"display:none;\">\n",
              "        \n",
              "  <svg xmlns=\"http://www.w3.org/2000/svg\" height=\"24px\"viewBox=\"0 0 24 24\"\n",
              "       width=\"24px\">\n",
              "    <path d=\"M0 0h24v24H0V0z\" fill=\"none\"/>\n",
              "    <path d=\"M18.56 5.44l.94 2.06.94-2.06 2.06-.94-2.06-.94-.94-2.06-.94 2.06-2.06.94zm-11 1L8.5 8.5l.94-2.06 2.06-.94-2.06-.94L8.5 2.5l-.94 2.06-2.06.94zm10 10l.94 2.06.94-2.06 2.06-.94-2.06-.94-.94-2.06-.94 2.06-2.06.94z\"/><path d=\"M17.41 7.96l-1.37-1.37c-.4-.4-.92-.59-1.43-.59-.52 0-1.04.2-1.43.59L10.3 9.45l-7.72 7.72c-.78.78-.78 2.05 0 2.83L4 21.41c.39.39.9.59 1.41.59.51 0 1.02-.2 1.41-.59l7.78-7.78 2.81-2.81c.8-.78.8-2.07 0-2.86zM5.41 20L4 18.59l7.72-7.72 1.47 1.35L5.41 20z\"/>\n",
              "  </svg>\n",
              "      </button>\n",
              "      \n",
              "  <style>\n",
              "    .colab-df-container {\n",
              "      display:flex;\n",
              "      flex-wrap:wrap;\n",
              "      gap: 12px;\n",
              "    }\n",
              "\n",
              "    .colab-df-convert {\n",
              "      background-color: #E8F0FE;\n",
              "      border: none;\n",
              "      border-radius: 50%;\n",
              "      cursor: pointer;\n",
              "      display: none;\n",
              "      fill: #1967D2;\n",
              "      height: 32px;\n",
              "      padding: 0 0 0 0;\n",
              "      width: 32px;\n",
              "    }\n",
              "\n",
              "    .colab-df-convert:hover {\n",
              "      background-color: #E2EBFA;\n",
              "      box-shadow: 0px 1px 2px rgba(60, 64, 67, 0.3), 0px 1px 3px 1px rgba(60, 64, 67, 0.15);\n",
              "      fill: #174EA6;\n",
              "    }\n",
              "\n",
              "    [theme=dark] .colab-df-convert {\n",
              "      background-color: #3B4455;\n",
              "      fill: #D2E3FC;\n",
              "    }\n",
              "\n",
              "    [theme=dark] .colab-df-convert:hover {\n",
              "      background-color: #434B5C;\n",
              "      box-shadow: 0px 1px 3px 1px rgba(0, 0, 0, 0.15);\n",
              "      filter: drop-shadow(0px 1px 2px rgba(0, 0, 0, 0.3));\n",
              "      fill: #FFFFFF;\n",
              "    }\n",
              "  </style>\n",
              "\n",
              "      <script>\n",
              "        const buttonEl =\n",
              "          document.querySelector('#df-0d3f3c89-07e3-4c34-a710-37a13c876a74 button.colab-df-convert');\n",
              "        buttonEl.style.display =\n",
              "          google.colab.kernel.accessAllowed ? 'block' : 'none';\n",
              "\n",
              "        async function convertToInteractive(key) {\n",
              "          const element = document.querySelector('#df-0d3f3c89-07e3-4c34-a710-37a13c876a74');\n",
              "          const dataTable =\n",
              "            await google.colab.kernel.invokeFunction('convertToInteractive',\n",
              "                                                     [key], {});\n",
              "          if (!dataTable) return;\n",
              "\n",
              "          const docLinkHtml = 'Like what you see? Visit the ' +\n",
              "            '<a target=\"_blank\" href=https://colab.research.google.com/notebooks/data_table.ipynb>data table notebook</a>'\n",
              "            + ' to learn more about interactive tables.';\n",
              "          element.innerHTML = '';\n",
              "          dataTable['output_type'] = 'display_data';\n",
              "          await google.colab.output.renderOutput(dataTable, element);\n",
              "          const docLink = document.createElement('div');\n",
              "          docLink.innerHTML = docLinkHtml;\n",
              "          element.appendChild(docLink);\n",
              "        }\n",
              "      </script>\n",
              "    </div>\n",
              "  </div>\n",
              "  "
            ]
          },
          "metadata": {},
          "execution_count": 13
        }
      ]
    },
    {
      "cell_type": "markdown",
      "source": [
        "RESULTS...\n",
        "- some insights from above results??? "
      ],
      "metadata": {
        "id": "6cVYaaEWgbGH"
      }
    },
    {
      "cell_type": "markdown",
      "metadata": {
        "id": "Jpc-anfNgFzt"
      },
      "source": [
        "# Next step in your analysis"
      ]
    },
    {
      "cell_type": "markdown",
      "source": [
        "## Next piece of this step"
      ],
      "metadata": {
        "id": "kgfBuNTpcZ6Z"
      }
    },
    {
      "cell_type": "code",
      "source": [
        "# some code"
      ],
      "metadata": {
        "id": "hOVupb6lt9xO"
      },
      "execution_count": null,
      "outputs": []
    },
    {
      "cell_type": "markdown",
      "source": [
        "RESULTS...\n",
        "- Some insights........"
      ],
      "metadata": {
        "id": "vF0EBJehgVpA"
      }
    },
    {
      "cell_type": "markdown",
      "source": [
        "# Save analysis results to your gDrive - OPTIONAL"
      ],
      "metadata": {
        "id": "ix6C4m6lMI4H"
      }
    },
    {
      "cell_type": "markdown",
      "source": [
        "Mount gDrive and create timestamped Experiment Folder"
      ],
      "metadata": {
        "id": "m9mE0i6lNk6L"
      }
    },
    {
      "cell_type": "code",
      "source": [
        "drive.mount('/content/drive')   # ignore warning if already mounted\n",
        "\n",
        "BASE_PATH = '/content/drive/MyDrive/CVA-SBERT/'\n",
        "EXP_PATH = BASE_PATH + 'Analysis-' + strftime(\"%Y%m%d-%H%M%S\", localtime())\n",
        "\n",
        "if path.exists(BASE_PATH) == False:\n",
        "    os.mkdir(BASE_PATH)\n",
        "if path.exists(EXP_PATH) == False:\n",
        "    os.mkdir(EXP_PATH)"
      ],
      "metadata": {
        "id": "-iZJ4HC0MSa7"
      },
      "execution_count": null,
      "outputs": []
    },
    {
      "cell_type": "markdown",
      "source": [
        "Save dataframes or other results to Experiment Folder"
      ],
      "metadata": {
        "id": "Ec7wkgVtNuBd"
      }
    },
    {
      "cell_type": "code",
      "source": [
        "# save initial two dataframes\n",
        "CVA_df.to_pickle(EXP_PATH + '/CVA_df.pkl')\n",
        "token_df.to_pickle(EXP_PATH + '/token_df.pkl')\n",
        "\n",
        "# ...or other saving of other results, like plots\n",
        "#"
      ],
      "metadata": {
        "id": "FdvEn6tMOKMy"
      },
      "execution_count": null,
      "outputs": []
    }
  ],
  "metadata": {
    "colab": {
      "provenance": [],
      "toc_visible": true
    },
    "kernelspec": {
      "display_name": "Python 3.8.12 ('ESSL')",
      "language": "python",
      "name": "python3"
    },
    "language_info": {
      "name": "python",
      "version": "3.8.12"
    },
    "vscode": {
      "interpreter": {
        "hash": "033f8c6fda077bd21b7ae1b6f69c8e3d2300139e3a7502197592234d857a2a7b"
      }
    }
  },
  "nbformat": 4,
  "nbformat_minor": 0
}