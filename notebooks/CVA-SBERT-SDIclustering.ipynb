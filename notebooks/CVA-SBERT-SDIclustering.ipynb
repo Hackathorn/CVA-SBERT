{
  "cells": [
    {
      "cell_type": "markdown",
      "metadata": {
        "id": "view-in-github",
        "colab_type": "text"
      },
      "source": [
        "<a href=\"https://colab.research.google.com/github/Hackathorn/CVA-SBERT/blob/main/notebooks/CVA-SBERT-SDIclustering.ipynb\" target=\"_parent\"><img src=\"https://colab.research.google.com/assets/colab-badge.svg\" alt=\"Open In Colab\"/></a>"
      ]
    },
    {
      "cell_type": "markdown",
      "source": [
        "# Analyzes cluster similarity within Source-Definition-Item hierarchy\n",
        "\n",
        "1. Setup analysis environment and load dataframes\n",
        "1. Create working df as 3-level grouping using only Target=1\n",
        "1. Compute counts/mean/var aggregations for top levels\n",
        "1. Analyze those cluster similarity aggregations"
      ],
      "metadata": {
        "id": "Ps4LDam0XMic"
      }
    },
    {
      "cell_type": "markdown",
      "metadata": {
        "id": "AZSRG_0rm3t9"
      },
      "source": [
        "# Setup Environment"
      ]
    },
    {
      "cell_type": "markdown",
      "source": [
        "## Set Notebook Parameters"
      ],
      "metadata": {
        "id": "v4HpIXy15osX"
      }
    },
    {
      "cell_type": "code",
      "source": [
        "# use gDrive if you previously saved train_data, etc.\n",
        "# otherwise, use pre-generated data from repos (Default)\n",
        "USE_GDRIVE = False\n",
        "\n",
        "# save analysis plots if customized\n",
        "SAVE_PLOT = False"
      ],
      "metadata": {
        "id": "xLjXg6zv5tUY"
      },
      "execution_count": 1,
      "outputs": []
    },
    {
      "cell_type": "markdown",
      "metadata": {
        "id": "hzoUz1FwWVvd"
      },
      "source": [
        "## Import various packages\n"
      ]
    },
    {
      "cell_type": "code",
      "execution_count": 2,
      "metadata": {
        "id": "bok6iQwnoy_f"
      },
      "outputs": [],
      "source": [
        "import pandas as pd\n",
        "import numpy as np\n",
        "\n",
        "import os.path\n",
        "from os import path\n",
        "from time import strftime, localtime\n",
        "from google.colab import drive"
      ]
    },
    {
      "cell_type": "markdown",
      "metadata": {
        "id": "zd1FLW2gVfAa"
      },
      "source": [
        "## Clone CVA-SBERT GitHub or mount gDrive"
      ]
    },
    {
      "cell_type": "code",
      "execution_count": 3,
      "metadata": {
        "colab": {
          "base_uri": "https://localhost:8080/",
          "height": 52
        },
        "id": "vdnQd5jXVotB",
        "outputId": "edcc378d-37b1-4bb2-f34a-7cc6849c99d5"
      },
      "outputs": [
        {
          "output_type": "stream",
          "name": "stdout",
          "text": [
            "fatal: destination path 'CVA-SBERT' already exists and is not an empty directory.\n"
          ]
        },
        {
          "output_type": "execute_result",
          "data": {
            "text/plain": [
              "'/content/CVA-SBERT/data/SetUp_Data'"
            ],
            "application/vnd.google.colaboratory.intrinsic+json": {
              "type": "string"
            }
          },
          "metadata": {},
          "execution_count": 3
        }
      ],
      "source": [
        "if USE_GDRIVE:\n",
        "    drive.mount('/content/drive')               # mount YOUR gDrive\n",
        "\n",
        "    # Path to data -- change for YOUR specific Analysis folder\n",
        "    path = '/content/drive/MyDrive/CVA-SBERT/Analysis-20221203-190207' ### CHANGE!!!\n",
        "\n",
        "else:\n",
        "    !git clone https://github.com/Hackathorn/CVA-SBERT  # clone repos\n",
        "\n",
        "    # Path to data in repository\n",
        "    path = '/content/CVA-SBERT/data/SetUp_Data'\n",
        "\n",
        "path"
      ]
    },
    {
      "cell_type": "markdown",
      "source": [
        "Load dataframes and create working df as simply ```df```"
      ],
      "metadata": {
        "id": "2hm3JjxQhrY-"
      }
    },
    {
      "cell_type": "code",
      "source": [
        "# load previous dataframes from SetUp notebook\n",
        "CVA_df = pd.read_pickle(path + '/CVA_df.pkl')\n",
        "token_df = pd.read_pickle(path + '/token_df.pkl')\n",
        "\n",
        "# use only 'good' data\n",
        "df = CVA_df[CVA_df.Target == 1]\n",
        "# remove unneeded columns\n",
        "df = df.drop(columns = ['Target', 'Definition', 'Item', 'is_train'])\n",
        "# rename columns to short consist names\n",
        "df.rename(columns={\"Source\": \"S\", \"Def_token\": \"D\", \"Item_token\": 'I'}, inplace=True)\n",
        "df.rename(columns={\"Cos_Sim\": \"Csim\", \"Euc_Sim\": \"Esim\"}, inplace=True)\n",
        "\n",
        "df"
      ],
      "metadata": {
        "id": "cgpcSDJqWC1f",
        "outputId": "c924bf05-8a40-45a8-d0d8-d7a6c9a7a110",
        "colab": {
          "base_uri": "https://localhost:8080/",
          "height": 424
        }
      },
      "execution_count": 4,
      "outputs": [
        {
          "output_type": "execute_result",
          "data": {
            "text/plain": [
              "       Index      S     D      I      Csim      Esim\n",
              "0          0   2978  7060   2240  0.185577  1.276263\n",
              "6          6   3169  5361   5119  0.414065  1.082529\n",
              "8          8   2367  9846   4760  0.253170  1.222154\n",
              "13        13  12426  9358   7035  0.488197  1.011734\n",
              "18        18  13903  7165   4199  0.240013  1.232872\n",
              "...      ...    ...   ...    ...       ...       ...\n",
              "28069  28069   1915  2576   2574  0.624945  0.866089\n",
              "28071  28071  12822  2404  11294  0.169479  1.288814\n",
              "28072  28072   3350  6839   8420  0.583409  0.912789\n",
              "28074  28074   2361  6453  10551  0.383094  1.110771\n",
              "28075  28075   3093  1722   1749  0.346923  1.142871\n",
              "\n",
              "[14036 rows x 6 columns]"
            ],
            "text/html": [
              "\n",
              "  <div id=\"df-09c65b39-caab-4054-9046-b1bcc7ec85be\">\n",
              "    <div class=\"colab-df-container\">\n",
              "      <div>\n",
              "<style scoped>\n",
              "    .dataframe tbody tr th:only-of-type {\n",
              "        vertical-align: middle;\n",
              "    }\n",
              "\n",
              "    .dataframe tbody tr th {\n",
              "        vertical-align: top;\n",
              "    }\n",
              "\n",
              "    .dataframe thead th {\n",
              "        text-align: right;\n",
              "    }\n",
              "</style>\n",
              "<table border=\"1\" class=\"dataframe\">\n",
              "  <thead>\n",
              "    <tr style=\"text-align: right;\">\n",
              "      <th></th>\n",
              "      <th>Index</th>\n",
              "      <th>S</th>\n",
              "      <th>D</th>\n",
              "      <th>I</th>\n",
              "      <th>Csim</th>\n",
              "      <th>Esim</th>\n",
              "    </tr>\n",
              "  </thead>\n",
              "  <tbody>\n",
              "    <tr>\n",
              "      <th>0</th>\n",
              "      <td>0</td>\n",
              "      <td>2978</td>\n",
              "      <td>7060</td>\n",
              "      <td>2240</td>\n",
              "      <td>0.185577</td>\n",
              "      <td>1.276263</td>\n",
              "    </tr>\n",
              "    <tr>\n",
              "      <th>6</th>\n",
              "      <td>6</td>\n",
              "      <td>3169</td>\n",
              "      <td>5361</td>\n",
              "      <td>5119</td>\n",
              "      <td>0.414065</td>\n",
              "      <td>1.082529</td>\n",
              "    </tr>\n",
              "    <tr>\n",
              "      <th>8</th>\n",
              "      <td>8</td>\n",
              "      <td>2367</td>\n",
              "      <td>9846</td>\n",
              "      <td>4760</td>\n",
              "      <td>0.253170</td>\n",
              "      <td>1.222154</td>\n",
              "    </tr>\n",
              "    <tr>\n",
              "      <th>13</th>\n",
              "      <td>13</td>\n",
              "      <td>12426</td>\n",
              "      <td>9358</td>\n",
              "      <td>7035</td>\n",
              "      <td>0.488197</td>\n",
              "      <td>1.011734</td>\n",
              "    </tr>\n",
              "    <tr>\n",
              "      <th>18</th>\n",
              "      <td>18</td>\n",
              "      <td>13903</td>\n",
              "      <td>7165</td>\n",
              "      <td>4199</td>\n",
              "      <td>0.240013</td>\n",
              "      <td>1.232872</td>\n",
              "    </tr>\n",
              "    <tr>\n",
              "      <th>...</th>\n",
              "      <td>...</td>\n",
              "      <td>...</td>\n",
              "      <td>...</td>\n",
              "      <td>...</td>\n",
              "      <td>...</td>\n",
              "      <td>...</td>\n",
              "    </tr>\n",
              "    <tr>\n",
              "      <th>28069</th>\n",
              "      <td>28069</td>\n",
              "      <td>1915</td>\n",
              "      <td>2576</td>\n",
              "      <td>2574</td>\n",
              "      <td>0.624945</td>\n",
              "      <td>0.866089</td>\n",
              "    </tr>\n",
              "    <tr>\n",
              "      <th>28071</th>\n",
              "      <td>28071</td>\n",
              "      <td>12822</td>\n",
              "      <td>2404</td>\n",
              "      <td>11294</td>\n",
              "      <td>0.169479</td>\n",
              "      <td>1.288814</td>\n",
              "    </tr>\n",
              "    <tr>\n",
              "      <th>28072</th>\n",
              "      <td>28072</td>\n",
              "      <td>3350</td>\n",
              "      <td>6839</td>\n",
              "      <td>8420</td>\n",
              "      <td>0.583409</td>\n",
              "      <td>0.912789</td>\n",
              "    </tr>\n",
              "    <tr>\n",
              "      <th>28074</th>\n",
              "      <td>28074</td>\n",
              "      <td>2361</td>\n",
              "      <td>6453</td>\n",
              "      <td>10551</td>\n",
              "      <td>0.383094</td>\n",
              "      <td>1.110771</td>\n",
              "    </tr>\n",
              "    <tr>\n",
              "      <th>28075</th>\n",
              "      <td>28075</td>\n",
              "      <td>3093</td>\n",
              "      <td>1722</td>\n",
              "      <td>1749</td>\n",
              "      <td>0.346923</td>\n",
              "      <td>1.142871</td>\n",
              "    </tr>\n",
              "  </tbody>\n",
              "</table>\n",
              "<p>14036 rows × 6 columns</p>\n",
              "</div>\n",
              "      <button class=\"colab-df-convert\" onclick=\"convertToInteractive('df-09c65b39-caab-4054-9046-b1bcc7ec85be')\"\n",
              "              title=\"Convert this dataframe to an interactive table.\"\n",
              "              style=\"display:none;\">\n",
              "        \n",
              "  <svg xmlns=\"http://www.w3.org/2000/svg\" height=\"24px\"viewBox=\"0 0 24 24\"\n",
              "       width=\"24px\">\n",
              "    <path d=\"M0 0h24v24H0V0z\" fill=\"none\"/>\n",
              "    <path d=\"M18.56 5.44l.94 2.06.94-2.06 2.06-.94-2.06-.94-.94-2.06-.94 2.06-2.06.94zm-11 1L8.5 8.5l.94-2.06 2.06-.94-2.06-.94L8.5 2.5l-.94 2.06-2.06.94zm10 10l.94 2.06.94-2.06 2.06-.94-2.06-.94-.94-2.06-.94 2.06-2.06.94z\"/><path d=\"M17.41 7.96l-1.37-1.37c-.4-.4-.92-.59-1.43-.59-.52 0-1.04.2-1.43.59L10.3 9.45l-7.72 7.72c-.78.78-.78 2.05 0 2.83L4 21.41c.39.39.9.59 1.41.59.51 0 1.02-.2 1.41-.59l7.78-7.78 2.81-2.81c.8-.78.8-2.07 0-2.86zM5.41 20L4 18.59l7.72-7.72 1.47 1.35L5.41 20z\"/>\n",
              "  </svg>\n",
              "      </button>\n",
              "      \n",
              "  <style>\n",
              "    .colab-df-container {\n",
              "      display:flex;\n",
              "      flex-wrap:wrap;\n",
              "      gap: 12px;\n",
              "    }\n",
              "\n",
              "    .colab-df-convert {\n",
              "      background-color: #E8F0FE;\n",
              "      border: none;\n",
              "      border-radius: 50%;\n",
              "      cursor: pointer;\n",
              "      display: none;\n",
              "      fill: #1967D2;\n",
              "      height: 32px;\n",
              "      padding: 0 0 0 0;\n",
              "      width: 32px;\n",
              "    }\n",
              "\n",
              "    .colab-df-convert:hover {\n",
              "      background-color: #E2EBFA;\n",
              "      box-shadow: 0px 1px 2px rgba(60, 64, 67, 0.3), 0px 1px 3px 1px rgba(60, 64, 67, 0.15);\n",
              "      fill: #174EA6;\n",
              "    }\n",
              "\n",
              "    [theme=dark] .colab-df-convert {\n",
              "      background-color: #3B4455;\n",
              "      fill: #D2E3FC;\n",
              "    }\n",
              "\n",
              "    [theme=dark] .colab-df-convert:hover {\n",
              "      background-color: #434B5C;\n",
              "      box-shadow: 0px 1px 3px 1px rgba(0, 0, 0, 0.15);\n",
              "      filter: drop-shadow(0px 1px 2px rgba(0, 0, 0, 0.3));\n",
              "      fill: #FFFFFF;\n",
              "    }\n",
              "  </style>\n",
              "\n",
              "      <script>\n",
              "        const buttonEl =\n",
              "          document.querySelector('#df-09c65b39-caab-4054-9046-b1bcc7ec85be button.colab-df-convert');\n",
              "        buttonEl.style.display =\n",
              "          google.colab.kernel.accessAllowed ? 'block' : 'none';\n",
              "\n",
              "        async function convertToInteractive(key) {\n",
              "          const element = document.querySelector('#df-09c65b39-caab-4054-9046-b1bcc7ec85be');\n",
              "          const dataTable =\n",
              "            await google.colab.kernel.invokeFunction('convertToInteractive',\n",
              "                                                     [key], {});\n",
              "          if (!dataTable) return;\n",
              "\n",
              "          const docLinkHtml = 'Like what you see? Visit the ' +\n",
              "            '<a target=\"_blank\" href=https://colab.research.google.com/notebooks/data_table.ipynb>data table notebook</a>'\n",
              "            + ' to learn more about interactive tables.';\n",
              "          element.innerHTML = '';\n",
              "          dataTable['output_type'] = 'display_data';\n",
              "          await google.colab.output.renderOutput(dataTable, element);\n",
              "          const docLink = document.createElement('div');\n",
              "          docLink.innerHTML = docLinkHtml;\n",
              "          element.appendChild(docLink);\n",
              "        }\n",
              "      </script>\n",
              "    </div>\n",
              "  </div>\n",
              "  "
            ]
          },
          "metadata": {},
          "execution_count": 4
        }
      ]
    },
    {
      "cell_type": "markdown",
      "source": [
        "# General stats on Target=1 SD Items"
      ],
      "metadata": {
        "id": "V4m5X2Ph7GLA"
      }
    },
    {
      "cell_type": "markdown",
      "source": [
        "Find unique tokens for Sources, Definitions & Items"
      ],
      "metadata": {
        "id": "Z8ErDWbA5oN4"
      }
    },
    {
      "cell_type": "code",
      "source": [
        "s = sorted(set(list(df['S'])))\n",
        "d = sorted(set(list(df['D'])))\n",
        "i = sorted(set(list(df['I'])))\n",
        "\n",
        "print(f\"Sources: unique={len(s)} head={s[:5]} tail={s[-5:]}\")\n",
        "print(f\"Definitions: unique={len(d)} head={d[:5]} tail={d[-5:]}\")\n",
        "print(f\"Items: unique={len(i)} head={i[:5]} tail={i[-5:]}\")"
      ],
      "metadata": {
        "colab": {
          "base_uri": "https://localhost:8080/"
        },
        "id": "8J4X1SUe4VF_",
        "outputId": "c460a89f-3547-4247-f7e7-14fe78519f01"
      },
      "execution_count": 5,
      "outputs": [
        {
          "output_type": "stream",
          "name": "stdout",
          "text": [
            "Sources: unique=833 head=[317, 353, 354, 417, 875] tail=[14027, 14031, 14032, 14038, 14046]\n",
            "Definitions: unique=2884 head=[0, 1, 2, 3, 4] tail=[11499, 11500, 11501, 11502, 11505]\n",
            "Items: unique=8624 head=[46, 60, 66, 67, 68] tail=[11497, 11498, 11503, 11504, 11506]\n"
          ]
        }
      ]
    },
    {
      "cell_type": "markdown",
      "source": [
        "Create dict of Defintion tokens for each Source\n",
        "- Question... How many Defination"
      ],
      "metadata": {
        "id": "YUtHmxY298dK"
      }
    },
    {
      "cell_type": "code",
      "source": [
        "Source_to_Def = {ss: sorted(set(list(df[df.S==ss]['D']))) for ss in s}\n",
        "\n",
        "count_Def_per_Source = [len(v) for (k, v) in Source_to_Def.items()]\n",
        "\n",
        "print('Source + its Defs = ', {k: v for i, (k, v) in enumerate(Source_to_Def.items()) if i < 5})\n",
        "print('Ratio of Defs per Source = ', sum(count_Def_per_Source)/len(count_Def_per_Source))\n",
        "print('Max Defs per Source = ', max(count_Def_per_Source))"
      ],
      "metadata": {
        "id": "0ZCmtgni82QL",
        "outputId": "1b7619a0-64fa-47cc-bd5f-4b138d96e22c",
        "colab": {
          "base_uri": "https://localhost:8080/"
        }
      },
      "execution_count": 6,
      "outputs": [
        {
          "output_type": "stream",
          "name": "stdout",
          "text": [
            "Source + its Defs =  {317: [1976, 7325], 353: [9148], 354: [130, 6809, 8466], 417: [5302, 8765], 875: [7638]}\n",
            "Ratio of Defs per Source =  3.4777911164465785\n",
            "Max Defs per Source =  25\n"
          ]
        }
      ]
    },
    {
      "cell_type": "markdown",
      "source": [
        "Create dict of Source tokens for each Definition\n",
        "- Question... Is the same Def used in more than one Source?"
      ],
      "metadata": {
        "id": "cO1TASBDGyA8"
      }
    },
    {
      "cell_type": "code",
      "source": [
        "Def_to_Source = {dd: sorted(set(list(df[df.D==dd]['S']))) for dd in d}\n",
        "\n",
        "count_Source_per_Def = [len(v) for (k, v) in Def_to_Source.items()]\n",
        "\n",
        "print('Def + its Sources = ', {k: v for i, (k, v) in enumerate(Def_to_Source.items()) if i < 5})\n",
        "print('Ratio of Sources per Def = ', sum(count_Source_per_Def)/len(count_Source_per_Def))\n",
        "print('Max Sources per Def = ', max(count_Source_per_Def))\n",
        "print('Defs with multiple Sources = ', [(k,v) for (k, v) in Def_to_Source.items() if len(v) > 1])"
      ],
      "metadata": {
        "id": "TTbZIzsDGyY2",
        "outputId": "8a171295-60b8-4e4c-fcfd-d26b675c91b4",
        "colab": {
          "base_uri": "https://localhost:8080/"
        }
      },
      "execution_count": 7,
      "outputs": [
        {
          "output_type": "stream",
          "name": "stdout",
          "text": [
            "Def + its Sources =  {0: [12417], 1: [1932], 2: [1930], 3: [1926], 4: [9525]}\n",
            "Ratio of Sources per Def =  1.0045076282940362\n",
            "Max Sources per Def =  3\n",
            "Defs with multiple Sources =  [(62, [1926, 2488]), (808, [1139, 1921, 2488]), (1670, [9531, 12452]), (2752, [1010, 3360]), (5338, [1006, 12543]), (8251, [2346, 13686]), (8644, [12641, 13679]), (9525, [1087, 1225]), (9669, [1228, 2692, 3037]), (10734, [12430, 12431]), (10793, [1123, 2586])]\n"
          ]
        }
      ]
    },
    {
      "cell_type": "markdown",
      "source": [
        "RESULTS...\n",
        "- Approx half of the rows (approx) for eliminating Target=0 Def-Items\n",
        "- Average no of Defintions per Source is approx 3.5 with max of 25\n",
        "- 9 Definitions are used by two Sources; 2 Defs are used by three Sources\n"
      ],
      "metadata": {
        "id": "iy45Qeb9I2lp"
      }
    },
    {
      "cell_type": "markdown",
      "source": [
        "#### Create function to return dict of Source-Def tuple keys with list of Item tokens\n",
        "\n",
        "- if parms Sou & Def are not specified, assume all Sources and/or Definitions\n",
        "- TODO: use pandas GroupBy for efficiency"
      ],
      "metadata": {
        "id": "KRElBK28H3mO"
      }
    },
    {
      "cell_type": "code",
      "source": [
        "def find_Item_tokens_for_SD(Sou=None, Def=None):\n",
        "\n",
        "    # set parms Sou & Def properly\n",
        "    if Sou is None: \n",
        "        Sou = sorted(set(list(df['S'])))\n",
        "    elif type(Sou) != list:\n",
        "        Sou = [Sou]     # if scalar, change to one-item list\n",
        "        assert Sou in sorted(set(list(df['S'])))    # check if valid\n",
        "    # print('Sou = ', Sou)\n",
        "\n",
        "    if Def is None: \n",
        "        Def = sorted(set(list(df['D'])))\n",
        "    elif type(Def) != list:\n",
        "        Def = [Def]\n",
        "        assert Def in sorted(set(list(df['D'])))    # check if valid\n",
        "    # print('Def = ', Def)\n",
        "\n",
        "    # x = [df[(df.S==s) & (df.D==d)]['I'] for d in Def for s in Sou]\n",
        "    # x = df[(df.S==s) & (df.D==d)]['I'].items for d in Def for s in Sou\n",
        "\n",
        "    Sou_Def_Items = []\n",
        "    for s in Sou:\n",
        "        for d in Def:\n",
        "            x = df[(df.S==s) & (df.D==d)]['I'].tolist()\n",
        "            if len(x) == 0: continue    # ignore is no Items for Sou+Def pair\n",
        "            Sou_Def_Items.append([s,d,x])\n",
        "            # print(s, d, len(x))\n",
        "\n",
        "    return Sou_Def_Items\n",
        "\n",
        "\n",
        "# find_Item_tokens_for_SD(353, 9148)\n",
        "find_Item_tokens_for_SD([317, 353], [1976, 9148])"
      ],
      "metadata": {
        "id": "FQYzBChJH4LW",
        "outputId": "6f6aed5b-95f4-47c5-ba88-35b7f3f1e064",
        "colab": {
          "base_uri": "https://localhost:8080/"
        }
      },
      "execution_count": 8,
      "outputs": [
        {
          "output_type": "execute_result",
          "data": {
            "text/plain": [
              "[[317,\n",
              "  1976,\n",
              "  [6446,\n",
              "   5734,\n",
              "   11356,\n",
              "   6447,\n",
              "   7331,\n",
              "   2380,\n",
              "   7520,\n",
              "   5866,\n",
              "   5503,\n",
              "   5733,\n",
              "   5488,\n",
              "   1082,\n",
              "   1785,\n",
              "   5472,\n",
              "   5483,\n",
              "   5465,\n",
              "   5486,\n",
              "   1975]],\n",
              " [353, 9148, [3139]]]"
            ]
          },
          "metadata": {},
          "execution_count": 8
        }
      ]
    },
    {
      "cell_type": "markdown",
      "metadata": {
        "id": "Jpc-anfNgFzt"
      },
      "source": [
        "# Group as 2-level S-D Item hierarchy"
      ]
    },
    {
      "cell_type": "markdown",
      "source": [
        "## Group Source-Def items into clusters"
      ],
      "metadata": {
        "id": "kgfBuNTpcZ6Z"
      }
    },
    {
      "cell_type": "code",
      "source": [
        "# group Source/Definition items into cluster\n",
        "\n",
        "SD_clus = df.groupby(['S', 'D'], as_index=False)\n",
        "\n",
        "sim = 'Esim'    # Csim or Esim metrics\n",
        "df1 =   SD_clus.agg(\n",
        "        count = pd.NamedAgg(column=sim, aggfunc='size'),\n",
        "        mean = pd.NamedAgg(column=sim, aggfunc='mean'),\n",
        "        var = pd.NamedAgg(column=sim, aggfunc='var'),\n",
        "    )\n",
        "# for count=1, set var to 0\n",
        "df1.loc[df1['count'] == 1, 'var'] = 0.0\n",
        "\n",
        "print(df1.info())\n",
        "df1"
      ],
      "metadata": {
        "id": "hyfb90KffBne",
        "outputId": "b4bd66be-2ed4-4f75-a81f-a294ae6b5a78",
        "colab": {
          "base_uri": "https://localhost:8080/",
          "height": 880
        }
      },
      "execution_count": 9,
      "outputs": [
        {
          "output_type": "stream",
          "name": "stdout",
          "text": [
            "<class 'pandas.core.frame.DataFrame'>\n",
            "RangeIndex: 2897 entries, 0 to 2896\n",
            "Data columns (total 5 columns):\n",
            " #   Column  Non-Null Count  Dtype  \n",
            "---  ------  --------------  -----  \n",
            " 0   S       2897 non-null   int64  \n",
            " 1   D       2897 non-null   int64  \n",
            " 2   count   2897 non-null   int64  \n",
            " 3   mean    2897 non-null   float64\n",
            " 4   var     2897 non-null   float64\n",
            "dtypes: float64(2), int64(3)\n",
            "memory usage: 113.3 KB\n",
            "None\n"
          ]
        },
        {
          "output_type": "execute_result",
          "data": {
            "text/plain": [
              "          S      D  count      mean       var\n",
              "0       317   1976     18  1.223931  0.009735\n",
              "1       317   7325     18  1.158767  0.009396\n",
              "2       353   9148      1  1.164086  0.000000\n",
              "3       354    130      4  1.356913  0.006391\n",
              "4       354   6809     20  1.276854  0.003485\n",
              "...     ...    ...    ...       ...       ...\n",
              "2892  14032  10876      3  1.295804  0.012065\n",
              "2893  14038   6622      4  0.915098  0.008272\n",
              "2894  14038   8978      3  0.820599  0.012991\n",
              "2895  14046   8673      2  1.176519  0.007942\n",
              "2896  14046   8815      2  0.988605  0.003969\n",
              "\n",
              "[2897 rows x 5 columns]"
            ],
            "text/html": [
              "\n",
              "  <div id=\"df-92533580-7b00-465f-839b-9b1112442a25\">\n",
              "    <div class=\"colab-df-container\">\n",
              "      <div>\n",
              "<style scoped>\n",
              "    .dataframe tbody tr th:only-of-type {\n",
              "        vertical-align: middle;\n",
              "    }\n",
              "\n",
              "    .dataframe tbody tr th {\n",
              "        vertical-align: top;\n",
              "    }\n",
              "\n",
              "    .dataframe thead th {\n",
              "        text-align: right;\n",
              "    }\n",
              "</style>\n",
              "<table border=\"1\" class=\"dataframe\">\n",
              "  <thead>\n",
              "    <tr style=\"text-align: right;\">\n",
              "      <th></th>\n",
              "      <th>S</th>\n",
              "      <th>D</th>\n",
              "      <th>count</th>\n",
              "      <th>mean</th>\n",
              "      <th>var</th>\n",
              "    </tr>\n",
              "  </thead>\n",
              "  <tbody>\n",
              "    <tr>\n",
              "      <th>0</th>\n",
              "      <td>317</td>\n",
              "      <td>1976</td>\n",
              "      <td>18</td>\n",
              "      <td>1.223931</td>\n",
              "      <td>0.009735</td>\n",
              "    </tr>\n",
              "    <tr>\n",
              "      <th>1</th>\n",
              "      <td>317</td>\n",
              "      <td>7325</td>\n",
              "      <td>18</td>\n",
              "      <td>1.158767</td>\n",
              "      <td>0.009396</td>\n",
              "    </tr>\n",
              "    <tr>\n",
              "      <th>2</th>\n",
              "      <td>353</td>\n",
              "      <td>9148</td>\n",
              "      <td>1</td>\n",
              "      <td>1.164086</td>\n",
              "      <td>0.000000</td>\n",
              "    </tr>\n",
              "    <tr>\n",
              "      <th>3</th>\n",
              "      <td>354</td>\n",
              "      <td>130</td>\n",
              "      <td>4</td>\n",
              "      <td>1.356913</td>\n",
              "      <td>0.006391</td>\n",
              "    </tr>\n",
              "    <tr>\n",
              "      <th>4</th>\n",
              "      <td>354</td>\n",
              "      <td>6809</td>\n",
              "      <td>20</td>\n",
              "      <td>1.276854</td>\n",
              "      <td>0.003485</td>\n",
              "    </tr>\n",
              "    <tr>\n",
              "      <th>...</th>\n",
              "      <td>...</td>\n",
              "      <td>...</td>\n",
              "      <td>...</td>\n",
              "      <td>...</td>\n",
              "      <td>...</td>\n",
              "    </tr>\n",
              "    <tr>\n",
              "      <th>2892</th>\n",
              "      <td>14032</td>\n",
              "      <td>10876</td>\n",
              "      <td>3</td>\n",
              "      <td>1.295804</td>\n",
              "      <td>0.012065</td>\n",
              "    </tr>\n",
              "    <tr>\n",
              "      <th>2893</th>\n",
              "      <td>14038</td>\n",
              "      <td>6622</td>\n",
              "      <td>4</td>\n",
              "      <td>0.915098</td>\n",
              "      <td>0.008272</td>\n",
              "    </tr>\n",
              "    <tr>\n",
              "      <th>2894</th>\n",
              "      <td>14038</td>\n",
              "      <td>8978</td>\n",
              "      <td>3</td>\n",
              "      <td>0.820599</td>\n",
              "      <td>0.012991</td>\n",
              "    </tr>\n",
              "    <tr>\n",
              "      <th>2895</th>\n",
              "      <td>14046</td>\n",
              "      <td>8673</td>\n",
              "      <td>2</td>\n",
              "      <td>1.176519</td>\n",
              "      <td>0.007942</td>\n",
              "    </tr>\n",
              "    <tr>\n",
              "      <th>2896</th>\n",
              "      <td>14046</td>\n",
              "      <td>8815</td>\n",
              "      <td>2</td>\n",
              "      <td>0.988605</td>\n",
              "      <td>0.003969</td>\n",
              "    </tr>\n",
              "  </tbody>\n",
              "</table>\n",
              "<p>2897 rows × 5 columns</p>\n",
              "</div>\n",
              "      <button class=\"colab-df-convert\" onclick=\"convertToInteractive('df-92533580-7b00-465f-839b-9b1112442a25')\"\n",
              "              title=\"Convert this dataframe to an interactive table.\"\n",
              "              style=\"display:none;\">\n",
              "        \n",
              "  <svg xmlns=\"http://www.w3.org/2000/svg\" height=\"24px\"viewBox=\"0 0 24 24\"\n",
              "       width=\"24px\">\n",
              "    <path d=\"M0 0h24v24H0V0z\" fill=\"none\"/>\n",
              "    <path d=\"M18.56 5.44l.94 2.06.94-2.06 2.06-.94-2.06-.94-.94-2.06-.94 2.06-2.06.94zm-11 1L8.5 8.5l.94-2.06 2.06-.94-2.06-.94L8.5 2.5l-.94 2.06-2.06.94zm10 10l.94 2.06.94-2.06 2.06-.94-2.06-.94-.94-2.06-.94 2.06-2.06.94z\"/><path d=\"M17.41 7.96l-1.37-1.37c-.4-.4-.92-.59-1.43-.59-.52 0-1.04.2-1.43.59L10.3 9.45l-7.72 7.72c-.78.78-.78 2.05 0 2.83L4 21.41c.39.39.9.59 1.41.59.51 0 1.02-.2 1.41-.59l7.78-7.78 2.81-2.81c.8-.78.8-2.07 0-2.86zM5.41 20L4 18.59l7.72-7.72 1.47 1.35L5.41 20z\"/>\n",
              "  </svg>\n",
              "      </button>\n",
              "      \n",
              "  <style>\n",
              "    .colab-df-container {\n",
              "      display:flex;\n",
              "      flex-wrap:wrap;\n",
              "      gap: 12px;\n",
              "    }\n",
              "\n",
              "    .colab-df-convert {\n",
              "      background-color: #E8F0FE;\n",
              "      border: none;\n",
              "      border-radius: 50%;\n",
              "      cursor: pointer;\n",
              "      display: none;\n",
              "      fill: #1967D2;\n",
              "      height: 32px;\n",
              "      padding: 0 0 0 0;\n",
              "      width: 32px;\n",
              "    }\n",
              "\n",
              "    .colab-df-convert:hover {\n",
              "      background-color: #E2EBFA;\n",
              "      box-shadow: 0px 1px 2px rgba(60, 64, 67, 0.3), 0px 1px 3px 1px rgba(60, 64, 67, 0.15);\n",
              "      fill: #174EA6;\n",
              "    }\n",
              "\n",
              "    [theme=dark] .colab-df-convert {\n",
              "      background-color: #3B4455;\n",
              "      fill: #D2E3FC;\n",
              "    }\n",
              "\n",
              "    [theme=dark] .colab-df-convert:hover {\n",
              "      background-color: #434B5C;\n",
              "      box-shadow: 0px 1px 3px 1px rgba(0, 0, 0, 0.15);\n",
              "      filter: drop-shadow(0px 1px 2px rgba(0, 0, 0, 0.3));\n",
              "      fill: #FFFFFF;\n",
              "    }\n",
              "  </style>\n",
              "\n",
              "      <script>\n",
              "        const buttonEl =\n",
              "          document.querySelector('#df-92533580-7b00-465f-839b-9b1112442a25 button.colab-df-convert');\n",
              "        buttonEl.style.display =\n",
              "          google.colab.kernel.accessAllowed ? 'block' : 'none';\n",
              "\n",
              "        async function convertToInteractive(key) {\n",
              "          const element = document.querySelector('#df-92533580-7b00-465f-839b-9b1112442a25');\n",
              "          const dataTable =\n",
              "            await google.colab.kernel.invokeFunction('convertToInteractive',\n",
              "                                                     [key], {});\n",
              "          if (!dataTable) return;\n",
              "\n",
              "          const docLinkHtml = 'Like what you see? Visit the ' +\n",
              "            '<a target=\"_blank\" href=https://colab.research.google.com/notebooks/data_table.ipynb>data table notebook</a>'\n",
              "            + ' to learn more about interactive tables.';\n",
              "          element.innerHTML = '';\n",
              "          dataTable['output_type'] = 'display_data';\n",
              "          await google.colab.output.renderOutput(dataTable, element);\n",
              "          const docLink = document.createElement('div');\n",
              "          docLink.innerHTML = docLinkHtml;\n",
              "          element.appendChild(docLink);\n",
              "        }\n",
              "      </script>\n",
              "    </div>\n",
              "  </div>\n",
              "  "
            ]
          },
          "metadata": {},
          "execution_count": 9
        }
      ]
    },
    {
      "cell_type": "markdown",
      "source": [
        "Example of single Source with 4 Defs and many Items (336 total)  \n",
        "30\t882\t10331\t68  \n",
        "23\t882\t10300\t54  \n",
        "26\t882\t10313\t54  \n",
        "29\t882\t10325\t54\t\n"
      ],
      "metadata": {
        "id": "sKvi25iMp5Ef"
      }
    },
    {
      "cell_type": "markdown",
      "source": [
        "## Apply HDBSCAN to SD Item clusters"
      ],
      "metadata": {
        "id": "EpiiRQiuAI78"
      }
    },
    {
      "cell_type": "code",
      "source": [
        "%%capture\n",
        "!pip install umap-learn hdbscan"
      ],
      "metadata": {
        "id": "h32jIKRRGwpU"
      },
      "execution_count": 10,
      "outputs": []
    },
    {
      "cell_type": "code",
      "source": [
        "from sklearn.datasets import make_blobs\n",
        "import pandas as pd\n",
        "import hdbscan"
      ],
      "metadata": {
        "id": "-cGBzDDnH_rJ"
      },
      "execution_count": 11,
      "outputs": []
    },
    {
      "cell_type": "markdown",
      "source": [
        "See [HDBSCAN API Reference](https://hdbscan.readthedocs.io/en/latest/api.html)"
      ],
      "metadata": {
        "id": "28U8EF743Jfj"
      }
    },
    {
      "cell_type": "code",
      "source": [
        "clusterer = hdbscan.HDBSCAN(\n",
        "    algorithm='best', \n",
        "    alpha=1.0, \n",
        "    approx_min_span_tree=True,\n",
        "    gen_min_span_tree=False, \n",
        "    leaf_size=40, \n",
        "    metric='euclidean', \n",
        "    min_cluster_size=13, \n",
        "    min_samples=None, \n",
        "    p=None\n",
        ")"
      ],
      "metadata": {
        "id": "vsD9rXSGIFZi"
      },
      "execution_count": 66,
      "outputs": []
    },
    {
      "cell_type": "code",
      "source": [
        "# Use first Source #317 with 2 Defs each with 18 Items  882 w 366\n",
        "# df = SD_clus.get_group(317)\n",
        "\n",
        "\n",
        "item_tokens = df.groupby(['S'], as_index=False).get_group(882)['I'].tolist()\n",
        "embeds = np.array(token_df.loc[item_tokens]['encoding'].to_list())\n",
        "\n",
        "clusterer.fit(embeds)"
      ],
      "metadata": {
        "id": "t1TJkixNBX4y",
        "outputId": "46be789d-2a8e-49b8-ee89-e6ccd0743267",
        "colab": {
          "base_uri": "https://localhost:8080/"
        }
      },
      "execution_count": 67,
      "outputs": [
        {
          "output_type": "execute_result",
          "data": {
            "text/plain": [
              "HDBSCAN(min_cluster_size=13)"
            ]
          },
          "metadata": {},
          "execution_count": 67
        }
      ]
    },
    {
      "cell_type": "code",
      "source": [
        "len(clusterer.labels_), max(clusterer.labels_), clusterer.labels_[:10]"
      ],
      "metadata": {
        "id": "BGBUuLcayvQN",
        "outputId": "35c1d592-6fa2-4841-ee77-ad300420c289",
        "colab": {
          "base_uri": "https://localhost:8080/"
        }
      },
      "execution_count": 68,
      "outputs": [
        {
          "output_type": "execute_result",
          "data": {
            "text/plain": [
              "(366, 9, array([-1, -1,  2,  7,  9,  6,  7,  8, -1,  1]))"
            ]
          },
          "metadata": {},
          "execution_count": 68
        }
      ]
    },
    {
      "cell_type": "markdown",
      "source": [
        "plot(leaf_separation=1, cmap='viridis', select_clusters=False, label_clusters=False, selection_palette=None, axis=None, colorbar=True, log_size=False, max_rectangles_per_icicle=20)"
      ],
      "metadata": {
        "id": "oq5gd_I1_SfT"
      }
    },
    {
      "cell_type": "code",
      "source": [
        "ax = clusterer.condensed_tree_.plot( \n",
        "    leaf_separation=1, \n",
        "    cmap='viridis', \n",
        "    select_clusters=True, \n",
        "    label_clusters=True, \n",
        "    selection_palette=None, \n",
        "    axis=None, \n",
        "    colorbar=True, \n",
        "    log_size=True, \n",
        "    max_rectangles_per_icicle=20\n",
        ")"
      ],
      "metadata": {
        "id": "KG1iaAAxyvM8",
        "outputId": "ee6d690e-cb09-4466-d9f6-18414009becc",
        "colab": {
          "base_uri": "https://localhost:8080/",
          "height": 258
        }
      },
      "execution_count": 69,
      "outputs": [
        {
          "output_type": "display_data",
          "data": {
            "text/plain": [
              "<Figure size 432x288 with 2 Axes>"
            ],
            "image/png": "[encoded data removed]"
          },
          "metadata": {
            "needs_background": "light"
          }
        }
      ]
    },
    {
      "cell_type": "code",
      "source": [
        "from IPython.display import Image\n",
        "Image('/content/CVA-SBERT/images/Typical_Clustering_Aims.jpg')"
      ],
      "metadata": {
        "id": "SEgOauHah2rb",
        "outputId": "87ac3ec9-3db5-4660-c4b0-6b76a69961aa",
        "colab": {
          "base_uri": "https://localhost:8080/",
          "height": 866
        }
      },
      "execution_count": 15,
      "outputs": [
        {
          "output_type": "error",
          "ename": "FileNotFoundError",
          "evalue": "ignored",
          "traceback": [
            "\u001b[0;31m---------------------------------------------------------------------------\u001b[0m",
            "\u001b[0;31mTypeError\u001b[0m                                 Traceback (most recent call last)",
            "\u001b[0;32m/usr/local/lib/python3.8/dist-packages/IPython/core/display.py\u001b[0m in \u001b[0;36m_data_and_metadata\u001b[0;34m(self, always_both)\u001b[0m\n\u001b[1;32m   1271\u001b[0m         \u001b[0;32mtry\u001b[0m\u001b[0;34m:\u001b[0m\u001b[0;34m\u001b[0m\u001b[0;34m\u001b[0m\u001b[0m\n\u001b[0;32m-> 1272\u001b[0;31m             \u001b[0mb64_data\u001b[0m \u001b[0;34m=\u001b[0m \u001b[0mb2a_base64\u001b[0m\u001b[0;34m(\u001b[0m\u001b[0mself\u001b[0m\u001b[0;34m.\u001b[0m\u001b[0mdata\u001b[0m\u001b[0;34m)\u001b[0m\u001b[0;34m.\u001b[0m\u001b[0mdecode\u001b[0m\u001b[0;34m(\u001b[0m\u001b[0;34m'ascii'\u001b[0m\u001b[0;34m)\u001b[0m\u001b[0;34m\u001b[0m\u001b[0;34m\u001b[0m\u001b[0m\n\u001b[0m\u001b[1;32m   1273\u001b[0m         \u001b[0;32mexcept\u001b[0m \u001b[0mTypeError\u001b[0m\u001b[0;34m:\u001b[0m\u001b[0;34m\u001b[0m\u001b[0;34m\u001b[0m\u001b[0m\n",
            "\u001b[0;31mTypeError\u001b[0m: a bytes-like object is required, not 'str'",
            "\nDuring handling of the above exception, another exception occurred:\n",
            "\u001b[0;31mFileNotFoundError\u001b[0m                         Traceback (most recent call last)",
            "\u001b[0;32m/usr/local/lib/python3.8/dist-packages/IPython/core/formatters.py\u001b[0m in \u001b[0;36m__call__\u001b[0;34m(self, obj, include, exclude)\u001b[0m\n\u001b[1;32m    968\u001b[0m \u001b[0;34m\u001b[0m\u001b[0m\n\u001b[1;32m    969\u001b[0m             \u001b[0;32mif\u001b[0m \u001b[0mmethod\u001b[0m \u001b[0;32mis\u001b[0m \u001b[0;32mnot\u001b[0m \u001b[0;32mNone\u001b[0m\u001b[0;34m:\u001b[0m\u001b[0;34m\u001b[0m\u001b[0;34m\u001b[0m\u001b[0m\n\u001b[0;32m--> 970\u001b[0;31m                 \u001b[0;32mreturn\u001b[0m \u001b[0mmethod\u001b[0m\u001b[0;34m(\u001b[0m\u001b[0minclude\u001b[0m\u001b[0;34m=\u001b[0m\u001b[0minclude\u001b[0m\u001b[0;34m,\u001b[0m \u001b[0mexclude\u001b[0m\u001b[0;34m=\u001b[0m\u001b[0mexclude\u001b[0m\u001b[0;34m)\u001b[0m\u001b[0;34m\u001b[0m\u001b[0;34m\u001b[0m\u001b[0m\n\u001b[0m\u001b[1;32m    971\u001b[0m             \u001b[0;32mreturn\u001b[0m \u001b[0;32mNone\u001b[0m\u001b[0;34m\u001b[0m\u001b[0;34m\u001b[0m\u001b[0m\n\u001b[1;32m    972\u001b[0m         \u001b[0;32melse\u001b[0m\u001b[0;34m:\u001b[0m\u001b[0;34m\u001b[0m\u001b[0;34m\u001b[0m\u001b[0m\n",
            "\u001b[0;32m/usr/local/lib/python3.8/dist-packages/IPython/core/display.py\u001b[0m in \u001b[0;36m_repr_mimebundle_\u001b[0;34m(self, include, exclude)\u001b[0m\n\u001b[1;32m   1260\u001b[0m         \u001b[0;32mif\u001b[0m \u001b[0mself\u001b[0m\u001b[0;34m.\u001b[0m\u001b[0membed\u001b[0m\u001b[0;34m:\u001b[0m\u001b[0;34m\u001b[0m\u001b[0;34m\u001b[0m\u001b[0m\n\u001b[1;32m   1261\u001b[0m             \u001b[0mmimetype\u001b[0m \u001b[0;34m=\u001b[0m \u001b[0mself\u001b[0m\u001b[0;34m.\u001b[0m\u001b[0m_mimetype\u001b[0m\u001b[0;34m\u001b[0m\u001b[0;34m\u001b[0m\u001b[0m\n\u001b[0;32m-> 1262\u001b[0;31m             \u001b[0mdata\u001b[0m\u001b[0;34m,\u001b[0m \u001b[0mmetadata\u001b[0m \u001b[0;34m=\u001b[0m \u001b[0mself\u001b[0m\u001b[0;34m.\u001b[0m\u001b[0m_data_and_metadata\u001b[0m\u001b[0;34m(\u001b[0m\u001b[0malways_both\u001b[0m\u001b[0;34m=\u001b[0m\u001b[0;32mTrue\u001b[0m\u001b[0;34m)\u001b[0m\u001b[0;34m\u001b[0m\u001b[0;34m\u001b[0m\u001b[0m\n\u001b[0m\u001b[1;32m   1263\u001b[0m             \u001b[0;32mif\u001b[0m \u001b[0mmetadata\u001b[0m\u001b[0;34m:\u001b[0m\u001b[0;34m\u001b[0m\u001b[0;34m\u001b[0m\u001b[0m\n\u001b[1;32m   1264\u001b[0m                 \u001b[0mmetadata\u001b[0m \u001b[0;34m=\u001b[0m \u001b[0;34m{\u001b[0m\u001b[0mmimetype\u001b[0m\u001b[0;34m:\u001b[0m \u001b[0mmetadata\u001b[0m\u001b[0;34m}\u001b[0m\u001b[0;34m\u001b[0m\u001b[0;34m\u001b[0m\u001b[0m\n",
            "\u001b[0;32m/usr/local/lib/python3.8/dist-packages/IPython/core/display.py\u001b[0m in \u001b[0;36m_data_and_metadata\u001b[0;34m(self, always_both)\u001b[0m\n\u001b[1;32m   1272\u001b[0m             \u001b[0mb64_data\u001b[0m \u001b[0;34m=\u001b[0m \u001b[0mb2a_base64\u001b[0m\u001b[0;34m(\u001b[0m\u001b[0mself\u001b[0m\u001b[0;34m.\u001b[0m\u001b[0mdata\u001b[0m\u001b[0;34m)\u001b[0m\u001b[0;34m.\u001b[0m\u001b[0mdecode\u001b[0m\u001b[0;34m(\u001b[0m\u001b[0;34m'ascii'\u001b[0m\u001b[0;34m)\u001b[0m\u001b[0;34m\u001b[0m\u001b[0;34m\u001b[0m\u001b[0m\n\u001b[1;32m   1273\u001b[0m         \u001b[0;32mexcept\u001b[0m \u001b[0mTypeError\u001b[0m\u001b[0;34m:\u001b[0m\u001b[0;34m\u001b[0m\u001b[0;34m\u001b[0m\u001b[0m\n\u001b[0;32m-> 1274\u001b[0;31m             raise FileNotFoundError(\n\u001b[0m\u001b[1;32m   1275\u001b[0m                 \"No such file or directory: '%s'\" % (self.data))\n\u001b[1;32m   1276\u001b[0m         \u001b[0mmd\u001b[0m \u001b[0;34m=\u001b[0m \u001b[0;34m{\u001b[0m\u001b[0;34m}\u001b[0m\u001b[0;34m\u001b[0m\u001b[0;34m\u001b[0m\u001b[0m\n",
            "\u001b[0;31mFileNotFoundError\u001b[0m: No such file or directory: '/content/CVA-SBERT/images/Typical_Clustering_Aims.jpg'"
          ]
        },
        {
          "output_type": "error",
          "ename": "FileNotFoundError",
          "evalue": "ignored",
          "traceback": [
            "\u001b[0;31m---------------------------------------------------------------------------\u001b[0m",
            "\u001b[0;31mTypeError\u001b[0m                                 Traceback (most recent call last)",
            "\u001b[0;32m/usr/local/lib/python3.8/dist-packages/IPython/core/display.py\u001b[0m in \u001b[0;36m_data_and_metadata\u001b[0;34m(self, always_both)\u001b[0m\n\u001b[1;32m   1271\u001b[0m         \u001b[0;32mtry\u001b[0m\u001b[0;34m:\u001b[0m\u001b[0;34m\u001b[0m\u001b[0;34m\u001b[0m\u001b[0m\n\u001b[0;32m-> 1272\u001b[0;31m             \u001b[0mb64_data\u001b[0m \u001b[0;34m=\u001b[0m \u001b[0mb2a_base64\u001b[0m\u001b[0;34m(\u001b[0m\u001b[0mself\u001b[0m\u001b[0;34m.\u001b[0m\u001b[0mdata\u001b[0m\u001b[0;34m)\u001b[0m\u001b[0;34m.\u001b[0m\u001b[0mdecode\u001b[0m\u001b[0;34m(\u001b[0m\u001b[0;34m'ascii'\u001b[0m\u001b[0;34m)\u001b[0m\u001b[0;34m\u001b[0m\u001b[0;34m\u001b[0m\u001b[0m\n\u001b[0m\u001b[1;32m   1273\u001b[0m         \u001b[0;32mexcept\u001b[0m \u001b[0mTypeError\u001b[0m\u001b[0;34m:\u001b[0m\u001b[0;34m\u001b[0m\u001b[0;34m\u001b[0m\u001b[0m\n",
            "\u001b[0;31mTypeError\u001b[0m: a bytes-like object is required, not 'str'",
            "\nDuring handling of the above exception, another exception occurred:\n",
            "\u001b[0;31mFileNotFoundError\u001b[0m                         Traceback (most recent call last)",
            "\u001b[0;32m/usr/local/lib/python3.8/dist-packages/IPython/core/formatters.py\u001b[0m in \u001b[0;36m__call__\u001b[0;34m(self, obj)\u001b[0m\n\u001b[1;32m    343\u001b[0m             \u001b[0mmethod\u001b[0m \u001b[0;34m=\u001b[0m \u001b[0mget_real_method\u001b[0m\u001b[0;34m(\u001b[0m\u001b[0mobj\u001b[0m\u001b[0;34m,\u001b[0m \u001b[0mself\u001b[0m\u001b[0;34m.\u001b[0m\u001b[0mprint_method\u001b[0m\u001b[0;34m)\u001b[0m\u001b[0;34m\u001b[0m\u001b[0;34m\u001b[0m\u001b[0m\n\u001b[1;32m    344\u001b[0m             \u001b[0;32mif\u001b[0m \u001b[0mmethod\u001b[0m \u001b[0;32mis\u001b[0m \u001b[0;32mnot\u001b[0m \u001b[0;32mNone\u001b[0m\u001b[0;34m:\u001b[0m\u001b[0;34m\u001b[0m\u001b[0;34m\u001b[0m\u001b[0m\n\u001b[0;32m--> 345\u001b[0;31m                 \u001b[0;32mreturn\u001b[0m \u001b[0mmethod\u001b[0m\u001b[0;34m(\u001b[0m\u001b[0;34m)\u001b[0m\u001b[0;34m\u001b[0m\u001b[0;34m\u001b[0m\u001b[0m\n\u001b[0m\u001b[1;32m    346\u001b[0m             \u001b[0;32mreturn\u001b[0m \u001b[0;32mNone\u001b[0m\u001b[0;34m\u001b[0m\u001b[0;34m\u001b[0m\u001b[0m\n\u001b[1;32m    347\u001b[0m         \u001b[0;32melse\u001b[0m\u001b[0;34m:\u001b[0m\u001b[0;34m\u001b[0m\u001b[0;34m\u001b[0m\u001b[0m\n",
            "\u001b[0;32m/usr/local/lib/python3.8/dist-packages/IPython/core/display.py\u001b[0m in \u001b[0;36m_repr_png_\u001b[0;34m(self)\u001b[0m\n\u001b[1;32m   1290\u001b[0m     \u001b[0;32mdef\u001b[0m \u001b[0m_repr_png_\u001b[0m\u001b[0;34m(\u001b[0m\u001b[0mself\u001b[0m\u001b[0;34m)\u001b[0m\u001b[0;34m:\u001b[0m\u001b[0;34m\u001b[0m\u001b[0;34m\u001b[0m\u001b[0m\n\u001b[1;32m   1291\u001b[0m         \u001b[0;32mif\u001b[0m \u001b[0mself\u001b[0m\u001b[0;34m.\u001b[0m\u001b[0membed\u001b[0m \u001b[0;32mand\u001b[0m \u001b[0mself\u001b[0m\u001b[0;34m.\u001b[0m\u001b[0mformat\u001b[0m \u001b[0;34m==\u001b[0m \u001b[0mself\u001b[0m\u001b[0;34m.\u001b[0m\u001b[0m_FMT_PNG\u001b[0m\u001b[0;34m:\u001b[0m\u001b[0;34m\u001b[0m\u001b[0;34m\u001b[0m\u001b[0m\n\u001b[0;32m-> 1292\u001b[0;31m             \u001b[0;32mreturn\u001b[0m \u001b[0mself\u001b[0m\u001b[0;34m.\u001b[0m\u001b[0m_data_and_metadata\u001b[0m\u001b[0;34m(\u001b[0m\u001b[0;34m)\u001b[0m\u001b[0;34m\u001b[0m\u001b[0;34m\u001b[0m\u001b[0m\n\u001b[0m\u001b[1;32m   1293\u001b[0m \u001b[0;34m\u001b[0m\u001b[0m\n\u001b[1;32m   1294\u001b[0m     \u001b[0;32mdef\u001b[0m \u001b[0m_repr_jpeg_\u001b[0m\u001b[0;34m(\u001b[0m\u001b[0mself\u001b[0m\u001b[0;34m)\u001b[0m\u001b[0;34m:\u001b[0m\u001b[0;34m\u001b[0m\u001b[0;34m\u001b[0m\u001b[0m\n",
            "\u001b[0;32m/usr/local/lib/python3.8/dist-packages/IPython/core/display.py\u001b[0m in \u001b[0;36m_data_and_metadata\u001b[0;34m(self, always_both)\u001b[0m\n\u001b[1;32m   1272\u001b[0m             \u001b[0mb64_data\u001b[0m \u001b[0;34m=\u001b[0m \u001b[0mb2a_base64\u001b[0m\u001b[0;34m(\u001b[0m\u001b[0mself\u001b[0m\u001b[0;34m.\u001b[0m\u001b[0mdata\u001b[0m\u001b[0;34m)\u001b[0m\u001b[0;34m.\u001b[0m\u001b[0mdecode\u001b[0m\u001b[0;34m(\u001b[0m\u001b[0;34m'ascii'\u001b[0m\u001b[0;34m)\u001b[0m\u001b[0;34m\u001b[0m\u001b[0;34m\u001b[0m\u001b[0m\n\u001b[1;32m   1273\u001b[0m         \u001b[0;32mexcept\u001b[0m \u001b[0mTypeError\u001b[0m\u001b[0;34m:\u001b[0m\u001b[0;34m\u001b[0m\u001b[0;34m\u001b[0m\u001b[0m\n\u001b[0;32m-> 1274\u001b[0;31m             raise FileNotFoundError(\n\u001b[0m\u001b[1;32m   1275\u001b[0m                 \"No such file or directory: '%s'\" % (self.data))\n\u001b[1;32m   1276\u001b[0m         \u001b[0mmd\u001b[0m \u001b[0;34m=\u001b[0m \u001b[0;34m{\u001b[0m\u001b[0;34m}\u001b[0m\u001b[0;34m\u001b[0m\u001b[0;34m\u001b[0m\u001b[0m\n",
            "\u001b[0;31mFileNotFoundError\u001b[0m: No such file or directory: '/content/CVA-SBERT/images/Typical_Clustering_Aims.jpg'"
          ]
        },
        {
          "output_type": "execute_result",
          "data": {
            "text/plain": [
              "<IPython.core.display.Image object>"
            ]
          },
          "metadata": {},
          "execution_count": 15
        }
      ]
    },
    {
      "cell_type": "code",
      "source": [
        "fig = ax.get_figure()\n",
        "fig"
      ],
      "metadata": {
        "id": "qjz6zL3dyvIt",
        "outputId": "9cd30361-4483-4b9e-d3f6-d51ac4df4724",
        "colab": {
          "base_uri": "https://localhost:8080/",
          "height": 258
        }
      },
      "execution_count": 46,
      "outputs": [
        {
          "output_type": "execute_result",
          "data": {
            "text/plain": [
              "<Figure size 432x288 with 2 Axes>"
            ],
            "image/png": "[encoded data removed]"
          },
          "metadata": {},
          "execution_count": 46
        }
      ]
    },
    {
      "cell_type": "code",
      "source": [],
      "metadata": {
        "id": "1y7od5YnyvCS"
      },
      "execution_count": null,
      "outputs": []
    },
    {
      "cell_type": "code",
      "source": [],
      "metadata": {
        "id": "ZpcNLhJIyu9z"
      },
      "execution_count": null,
      "outputs": []
    },
    {
      "cell_type": "code",
      "source": [
        "# SD_clus['Csim', 'Esim'].mean()\n",
        "SD1 = SD_clus['Csim', 'Esim'].describe(percentiles=[])"
      ],
      "metadata": {
        "id": "SCD_HcGMJbh5",
        "colab": {
          "base_uri": "https://localhost:8080/"
        },
        "outputId": "0cddd8e6-65fe-4ae7-90f8-c977b404747a"
      },
      "execution_count": null,
      "outputs": [
        {
          "output_type": "stream",
          "name": "stderr",
          "text": [
            "<ipython-input-16-ed85d98e0c9d>:2: FutureWarning: Indexing with multiple keys (implicitly converted to a tuple of keys) will be deprecated, use a list instead.\n",
            "  SD1 = SD_clus['Csim', 'Esim'].describe(percentiles=[])\n"
          ]
        }
      ]
    },
    {
      "cell_type": "code",
      "source": [
        "SD1"
      ],
      "metadata": {
        "id": "j14f07peG0TE",
        "outputId": "5818cf47-d8d2-4edc-be9d-a41e47c82d7b",
        "colab": {
          "base_uri": "https://localhost:8080/",
          "height": 455
        }
      },
      "execution_count": null,
      "outputs": [
        {
          "output_type": "execute_result",
          "data": {
            "text/plain": [
              "      Csim                                                    Esim            \\\n",
              "     count      mean       std       min       50%       max count      mean   \n",
              "0     18.0  0.246400  0.115493  0.098793  0.222941  0.522491  18.0  1.223931   \n",
              "1     18.0  0.324193  0.109385  0.150702  0.323953  0.572357  18.0  1.158767   \n",
              "2      1.0  0.322452       NaN  0.322452  0.322452  0.322452   1.0  1.164086   \n",
              "3      4.0  0.076997  0.105993 -0.014949  0.046689  0.229559   4.0  1.356913   \n",
              "4     20.0  0.183167  0.075195  0.065572  0.187732  0.316475  20.0  1.276854   \n",
              "...    ...       ...       ...       ...       ...       ...   ...       ...   \n",
              "2892   3.0  0.156425  0.142639  0.009886  0.164572  0.294816   3.0  1.295804   \n",
              "2893   4.0  0.578196  0.083418  0.475173  0.581915  0.673783   4.0  0.915098   \n",
              "2894   3.0  0.658978  0.090310  0.590200  0.625485  0.761249   3.0  0.820599   \n",
              "2895   2.0  0.305916  0.104846  0.231778  0.305916  0.380053   2.0  1.176519   \n",
              "2896   2.0  0.510337  0.062280  0.466299  0.510337  0.554376   2.0  0.988605   \n",
              "\n",
              "                                              \n",
              "           std       min       50%       max  \n",
              "0     0.098666  0.977250  1.246642  1.342540  \n",
              "1     0.096931  0.924817  1.162717  1.303302  \n",
              "2          NaN  1.164086  1.164086  1.164086  \n",
              "3     0.079947  1.241323  1.380792  1.424745  \n",
              "4     0.059032  1.169209  1.274555  1.367061  \n",
              "...        ...       ...       ...       ...  \n",
              "2892  0.109843  1.187589  1.292616  1.407205  \n",
              "2893  0.090952  0.807734  0.914065  1.024527  \n",
              "2894  0.113979  0.691015  0.865465  0.905318  \n",
              "2895  0.089116  1.113505  1.176519  1.239534  \n",
              "2896  0.062998  0.944059  0.988605  1.033152  \n",
              "\n",
              "[2897 rows x 12 columns]"
            ],
            "text/html": [
              "\n",
              "  <div id=\"df-408deb40-7541-4a92-a4cd-c9dbf0ec712a\">\n",
              "    <div class=\"colab-df-container\">\n",
              "      <div>\n",
              "<style scoped>\n",
              "    .dataframe tbody tr th:only-of-type {\n",
              "        vertical-align: middle;\n",
              "    }\n",
              "\n",
              "    .dataframe tbody tr th {\n",
              "        vertical-align: top;\n",
              "    }\n",
              "\n",
              "    .dataframe thead tr th {\n",
              "        text-align: left;\n",
              "    }\n",
              "</style>\n",
              "<table border=\"1\" class=\"dataframe\">\n",
              "  <thead>\n",
              "    <tr>\n",
              "      <th></th>\n",
              "      <th colspan=\"6\" halign=\"left\">Csim</th>\n",
              "      <th colspan=\"6\" halign=\"left\">Esim</th>\n",
              "    </tr>\n",
              "    <tr>\n",
              "      <th></th>\n",
              "      <th>count</th>\n",
              "      <th>mean</th>\n",
              "      <th>std</th>\n",
              "      <th>min</th>\n",
              "      <th>50%</th>\n",
              "      <th>max</th>\n",
              "      <th>count</th>\n",
              "      <th>mean</th>\n",
              "      <th>std</th>\n",
              "      <th>min</th>\n",
              "      <th>50%</th>\n",
              "      <th>max</th>\n",
              "    </tr>\n",
              "  </thead>\n",
              "  <tbody>\n",
              "    <tr>\n",
              "      <th>0</th>\n",
              "      <td>18.0</td>\n",
              "      <td>0.246400</td>\n",
              "      <td>0.115493</td>\n",
              "      <td>0.098793</td>\n",
              "      <td>0.222941</td>\n",
              "      <td>0.522491</td>\n",
              "      <td>18.0</td>\n",
              "      <td>1.223931</td>\n",
              "      <td>0.098666</td>\n",
              "      <td>0.977250</td>\n",
              "      <td>1.246642</td>\n",
              "      <td>1.342540</td>\n",
              "    </tr>\n",
              "    <tr>\n",
              "      <th>1</th>\n",
              "      <td>18.0</td>\n",
              "      <td>0.324193</td>\n",
              "      <td>0.109385</td>\n",
              "      <td>0.150702</td>\n",
              "      <td>0.323953</td>\n",
              "      <td>0.572357</td>\n",
              "      <td>18.0</td>\n",
              "      <td>1.158767</td>\n",
              "      <td>0.096931</td>\n",
              "      <td>0.924817</td>\n",
              "      <td>1.162717</td>\n",
              "      <td>1.303302</td>\n",
              "    </tr>\n",
              "    <tr>\n",
              "      <th>2</th>\n",
              "      <td>1.0</td>\n",
              "      <td>0.322452</td>\n",
              "      <td>NaN</td>\n",
              "      <td>0.322452</td>\n",
              "      <td>0.322452</td>\n",
              "      <td>0.322452</td>\n",
              "      <td>1.0</td>\n",
              "      <td>1.164086</td>\n",
              "      <td>NaN</td>\n",
              "      <td>1.164086</td>\n",
              "      <td>1.164086</td>\n",
              "      <td>1.164086</td>\n",
              "    </tr>\n",
              "    <tr>\n",
              "      <th>3</th>\n",
              "      <td>4.0</td>\n",
              "      <td>0.076997</td>\n",
              "      <td>0.105993</td>\n",
              "      <td>-0.014949</td>\n",
              "      <td>0.046689</td>\n",
              "      <td>0.229559</td>\n",
              "      <td>4.0</td>\n",
              "      <td>1.356913</td>\n",
              "      <td>0.079947</td>\n",
              "      <td>1.241323</td>\n",
              "      <td>1.380792</td>\n",
              "      <td>1.424745</td>\n",
              "    </tr>\n",
              "    <tr>\n",
              "      <th>4</th>\n",
              "      <td>20.0</td>\n",
              "      <td>0.183167</td>\n",
              "      <td>0.075195</td>\n",
              "      <td>0.065572</td>\n",
              "      <td>0.187732</td>\n",
              "      <td>0.316475</td>\n",
              "      <td>20.0</td>\n",
              "      <td>1.276854</td>\n",
              "      <td>0.059032</td>\n",
              "      <td>1.169209</td>\n",
              "      <td>1.274555</td>\n",
              "      <td>1.367061</td>\n",
              "    </tr>\n",
              "    <tr>\n",
              "      <th>...</th>\n",
              "      <td>...</td>\n",
              "      <td>...</td>\n",
              "      <td>...</td>\n",
              "      <td>...</td>\n",
              "      <td>...</td>\n",
              "      <td>...</td>\n",
              "      <td>...</td>\n",
              "      <td>...</td>\n",
              "      <td>...</td>\n",
              "      <td>...</td>\n",
              "      <td>...</td>\n",
              "      <td>...</td>\n",
              "    </tr>\n",
              "    <tr>\n",
              "      <th>2892</th>\n",
              "      <td>3.0</td>\n",
              "      <td>0.156425</td>\n",
              "      <td>0.142639</td>\n",
              "      <td>0.009886</td>\n",
              "      <td>0.164572</td>\n",
              "      <td>0.294816</td>\n",
              "      <td>3.0</td>\n",
              "      <td>1.295804</td>\n",
              "      <td>0.109843</td>\n",
              "      <td>1.187589</td>\n",
              "      <td>1.292616</td>\n",
              "      <td>1.407205</td>\n",
              "    </tr>\n",
              "    <tr>\n",
              "      <th>2893</th>\n",
              "      <td>4.0</td>\n",
              "      <td>0.578196</td>\n",
              "      <td>0.083418</td>\n",
              "      <td>0.475173</td>\n",
              "      <td>0.581915</td>\n",
              "      <td>0.673783</td>\n",
              "      <td>4.0</td>\n",
              "      <td>0.915098</td>\n",
              "      <td>0.090952</td>\n",
              "      <td>0.807734</td>\n",
              "      <td>0.914065</td>\n",
              "      <td>1.024527</td>\n",
              "    </tr>\n",
              "    <tr>\n",
              "      <th>2894</th>\n",
              "      <td>3.0</td>\n",
              "      <td>0.658978</td>\n",
              "      <td>0.090310</td>\n",
              "      <td>0.590200</td>\n",
              "      <td>0.625485</td>\n",
              "      <td>0.761249</td>\n",
              "      <td>3.0</td>\n",
              "      <td>0.820599</td>\n",
              "      <td>0.113979</td>\n",
              "      <td>0.691015</td>\n",
              "      <td>0.865465</td>\n",
              "      <td>0.905318</td>\n",
              "    </tr>\n",
              "    <tr>\n",
              "      <th>2895</th>\n",
              "      <td>2.0</td>\n",
              "      <td>0.305916</td>\n",
              "      <td>0.104846</td>\n",
              "      <td>0.231778</td>\n",
              "      <td>0.305916</td>\n",
              "      <td>0.380053</td>\n",
              "      <td>2.0</td>\n",
              "      <td>1.176519</td>\n",
              "      <td>0.089116</td>\n",
              "      <td>1.113505</td>\n",
              "      <td>1.176519</td>\n",
              "      <td>1.239534</td>\n",
              "    </tr>\n",
              "    <tr>\n",
              "      <th>2896</th>\n",
              "      <td>2.0</td>\n",
              "      <td>0.510337</td>\n",
              "      <td>0.062280</td>\n",
              "      <td>0.466299</td>\n",
              "      <td>0.510337</td>\n",
              "      <td>0.554376</td>\n",
              "      <td>2.0</td>\n",
              "      <td>0.988605</td>\n",
              "      <td>0.062998</td>\n",
              "      <td>0.944059</td>\n",
              "      <td>0.988605</td>\n",
              "      <td>1.033152</td>\n",
              "    </tr>\n",
              "  </tbody>\n",
              "</table>\n",
              "<p>2897 rows × 12 columns</p>\n",
              "</div>\n",
              "      <button class=\"colab-df-convert\" onclick=\"convertToInteractive('df-408deb40-7541-4a92-a4cd-c9dbf0ec712a')\"\n",
              "              title=\"Convert this dataframe to an interactive table.\"\n",
              "              style=\"display:none;\">\n",
              "        \n",
              "  <svg xmlns=\"http://www.w3.org/2000/svg\" height=\"24px\"viewBox=\"0 0 24 24\"\n",
              "       width=\"24px\">\n",
              "    <path d=\"M0 0h24v24H0V0z\" fill=\"none\"/>\n",
              "    <path d=\"M18.56 5.44l.94 2.06.94-2.06 2.06-.94-2.06-.94-.94-2.06-.94 2.06-2.06.94zm-11 1L8.5 8.5l.94-2.06 2.06-.94-2.06-.94L8.5 2.5l-.94 2.06-2.06.94zm10 10l.94 2.06.94-2.06 2.06-.94-2.06-.94-.94-2.06-.94 2.06-2.06.94z\"/><path d=\"M17.41 7.96l-1.37-1.37c-.4-.4-.92-.59-1.43-.59-.52 0-1.04.2-1.43.59L10.3 9.45l-7.72 7.72c-.78.78-.78 2.05 0 2.83L4 21.41c.39.39.9.59 1.41.59.51 0 1.02-.2 1.41-.59l7.78-7.78 2.81-2.81c.8-.78.8-2.07 0-2.86zM5.41 20L4 18.59l7.72-7.72 1.47 1.35L5.41 20z\"/>\n",
              "  </svg>\n",
              "      </button>\n",
              "      \n",
              "  <style>\n",
              "    .colab-df-container {\n",
              "      display:flex;\n",
              "      flex-wrap:wrap;\n",
              "      gap: 12px;\n",
              "    }\n",
              "\n",
              "    .colab-df-convert {\n",
              "      background-color: #E8F0FE;\n",
              "      border: none;\n",
              "      border-radius: 50%;\n",
              "      cursor: pointer;\n",
              "      display: none;\n",
              "      fill: #1967D2;\n",
              "      height: 32px;\n",
              "      padding: 0 0 0 0;\n",
              "      width: 32px;\n",
              "    }\n",
              "\n",
              "    .colab-df-convert:hover {\n",
              "      background-color: #E2EBFA;\n",
              "      box-shadow: 0px 1px 2px rgba(60, 64, 67, 0.3), 0px 1px 3px 1px rgba(60, 64, 67, 0.15);\n",
              "      fill: #174EA6;\n",
              "    }\n",
              "\n",
              "    [theme=dark] .colab-df-convert {\n",
              "      background-color: #3B4455;\n",
              "      fill: #D2E3FC;\n",
              "    }\n",
              "\n",
              "    [theme=dark] .colab-df-convert:hover {\n",
              "      background-color: #434B5C;\n",
              "      box-shadow: 0px 1px 3px 1px rgba(0, 0, 0, 0.15);\n",
              "      filter: drop-shadow(0px 1px 2px rgba(0, 0, 0, 0.3));\n",
              "      fill: #FFFFFF;\n",
              "    }\n",
              "  </style>\n",
              "\n",
              "      <script>\n",
              "        const buttonEl =\n",
              "          document.querySelector('#df-408deb40-7541-4a92-a4cd-c9dbf0ec712a button.colab-df-convert');\n",
              "        buttonEl.style.display =\n",
              "          google.colab.kernel.accessAllowed ? 'block' : 'none';\n",
              "\n",
              "        async function convertToInteractive(key) {\n",
              "          const element = document.querySelector('#df-408deb40-7541-4a92-a4cd-c9dbf0ec712a');\n",
              "          const dataTable =\n",
              "            await google.colab.kernel.invokeFunction('convertToInteractive',\n",
              "                                                     [key], {});\n",
              "          if (!dataTable) return;\n",
              "\n",
              "          const docLinkHtml = 'Like what you see? Visit the ' +\n",
              "            '<a target=\"_blank\" href=https://colab.research.google.com/notebooks/data_table.ipynb>data table notebook</a>'\n",
              "            + ' to learn more about interactive tables.';\n",
              "          element.innerHTML = '';\n",
              "          dataTable['output_type'] = 'display_data';\n",
              "          await google.colab.output.renderOutput(dataTable, element);\n",
              "          const docLink = document.createElement('div');\n",
              "          docLink.innerHTML = docLinkHtml;\n",
              "          element.appendChild(docLink);\n",
              "        }\n",
              "      </script>\n",
              "    </div>\n",
              "  </div>\n",
              "  "
            ]
          },
          "metadata": {},
          "execution_count": 17
        }
      ]
    },
    {
      "cell_type": "code",
      "source": [
        "# group Source/Definition items into cluster\n",
        "SD_clus = df.groupby(['S', 'D'], as_index=False)\n",
        "SD_clus['Csim', 'Esim'].mean()"
      ],
      "metadata": {
        "id": "qj2rFgtkhac7",
        "outputId": "685c7a30-f5f3-4638-f9f8-1d3038a40080",
        "colab": {
          "base_uri": "https://localhost:8080/",
          "height": 458
        }
      },
      "execution_count": null,
      "outputs": [
        {
          "output_type": "stream",
          "name": "stderr",
          "text": [
            "<ipython-input-10-43f8cba3c843>:3: FutureWarning: Indexing with multiple keys (implicitly converted to a tuple of keys) will be deprecated, use a list instead.\n",
            "  SD_clus['Csim', 'Esim'].mean()\n"
          ]
        },
        {
          "output_type": "execute_result",
          "data": {
            "text/plain": [
              "          S      D      Csim      Esim\n",
              "0       317   1976  0.246400  1.223931\n",
              "1       317   7325  0.324193  1.158767\n",
              "2       353   9148  0.322452  1.164086\n",
              "3       354    130  0.076997  1.356913\n",
              "4       354   6809  0.183167  1.276854\n",
              "...     ...    ...       ...       ...\n",
              "2892  14032  10876  0.156425  1.295804\n",
              "2893  14038   6622  0.578196  0.915098\n",
              "2894  14038   8978  0.658978  0.820599\n",
              "2895  14046   8673  0.305916  1.176519\n",
              "2896  14046   8815  0.510337  0.988605\n",
              "\n",
              "[2897 rows x 4 columns]"
            ],
            "text/html": [
              "\n",
              "  <div id=\"df-53418c7f-eff9-456e-a276-0cfbb00a6f2e\">\n",
              "    <div class=\"colab-df-container\">\n",
              "      <div>\n",
              "<style scoped>\n",
              "    .dataframe tbody tr th:only-of-type {\n",
              "        vertical-align: middle;\n",
              "    }\n",
              "\n",
              "    .dataframe tbody tr th {\n",
              "        vertical-align: top;\n",
              "    }\n",
              "\n",
              "    .dataframe thead th {\n",
              "        text-align: right;\n",
              "    }\n",
              "</style>\n",
              "<table border=\"1\" class=\"dataframe\">\n",
              "  <thead>\n",
              "    <tr style=\"text-align: right;\">\n",
              "      <th></th>\n",
              "      <th>S</th>\n",
              "      <th>D</th>\n",
              "      <th>Csim</th>\n",
              "      <th>Esim</th>\n",
              "    </tr>\n",
              "  </thead>\n",
              "  <tbody>\n",
              "    <tr>\n",
              "      <th>0</th>\n",
              "      <td>317</td>\n",
              "      <td>1976</td>\n",
              "      <td>0.246400</td>\n",
              "      <td>1.223931</td>\n",
              "    </tr>\n",
              "    <tr>\n",
              "      <th>1</th>\n",
              "      <td>317</td>\n",
              "      <td>7325</td>\n",
              "      <td>0.324193</td>\n",
              "      <td>1.158767</td>\n",
              "    </tr>\n",
              "    <tr>\n",
              "      <th>2</th>\n",
              "      <td>353</td>\n",
              "      <td>9148</td>\n",
              "      <td>0.322452</td>\n",
              "      <td>1.164086</td>\n",
              "    </tr>\n",
              "    <tr>\n",
              "      <th>3</th>\n",
              "      <td>354</td>\n",
              "      <td>130</td>\n",
              "      <td>0.076997</td>\n",
              "      <td>1.356913</td>\n",
              "    </tr>\n",
              "    <tr>\n",
              "      <th>4</th>\n",
              "      <td>354</td>\n",
              "      <td>6809</td>\n",
              "      <td>0.183167</td>\n",
              "      <td>1.276854</td>\n",
              "    </tr>\n",
              "    <tr>\n",
              "      <th>...</th>\n",
              "      <td>...</td>\n",
              "      <td>...</td>\n",
              "      <td>...</td>\n",
              "      <td>...</td>\n",
              "    </tr>\n",
              "    <tr>\n",
              "      <th>2892</th>\n",
              "      <td>14032</td>\n",
              "      <td>10876</td>\n",
              "      <td>0.156425</td>\n",
              "      <td>1.295804</td>\n",
              "    </tr>\n",
              "    <tr>\n",
              "      <th>2893</th>\n",
              "      <td>14038</td>\n",
              "      <td>6622</td>\n",
              "      <td>0.578196</td>\n",
              "      <td>0.915098</td>\n",
              "    </tr>\n",
              "    <tr>\n",
              "      <th>2894</th>\n",
              "      <td>14038</td>\n",
              "      <td>8978</td>\n",
              "      <td>0.658978</td>\n",
              "      <td>0.820599</td>\n",
              "    </tr>\n",
              "    <tr>\n",
              "      <th>2895</th>\n",
              "      <td>14046</td>\n",
              "      <td>8673</td>\n",
              "      <td>0.305916</td>\n",
              "      <td>1.176519</td>\n",
              "    </tr>\n",
              "    <tr>\n",
              "      <th>2896</th>\n",
              "      <td>14046</td>\n",
              "      <td>8815</td>\n",
              "      <td>0.510337</td>\n",
              "      <td>0.988605</td>\n",
              "    </tr>\n",
              "  </tbody>\n",
              "</table>\n",
              "<p>2897 rows × 4 columns</p>\n",
              "</div>\n",
              "      <button class=\"colab-df-convert\" onclick=\"convertToInteractive('df-53418c7f-eff9-456e-a276-0cfbb00a6f2e')\"\n",
              "              title=\"Convert this dataframe to an interactive table.\"\n",
              "              style=\"display:none;\">\n",
              "        \n",
              "  <svg xmlns=\"http://www.w3.org/2000/svg\" height=\"24px\"viewBox=\"0 0 24 24\"\n",
              "       width=\"24px\">\n",
              "    <path d=\"M0 0h24v24H0V0z\" fill=\"none\"/>\n",
              "    <path d=\"M18.56 5.44l.94 2.06.94-2.06 2.06-.94-2.06-.94-.94-2.06-.94 2.06-2.06.94zm-11 1L8.5 8.5l.94-2.06 2.06-.94-2.06-.94L8.5 2.5l-.94 2.06-2.06.94zm10 10l.94 2.06.94-2.06 2.06-.94-2.06-.94-.94-2.06-.94 2.06-2.06.94z\"/><path d=\"M17.41 7.96l-1.37-1.37c-.4-.4-.92-.59-1.43-.59-.52 0-1.04.2-1.43.59L10.3 9.45l-7.72 7.72c-.78.78-.78 2.05 0 2.83L4 21.41c.39.39.9.59 1.41.59.51 0 1.02-.2 1.41-.59l7.78-7.78 2.81-2.81c.8-.78.8-2.07 0-2.86zM5.41 20L4 18.59l7.72-7.72 1.47 1.35L5.41 20z\"/>\n",
              "  </svg>\n",
              "      </button>\n",
              "      \n",
              "  <style>\n",
              "    .colab-df-container {\n",
              "      display:flex;\n",
              "      flex-wrap:wrap;\n",
              "      gap: 12px;\n",
              "    }\n",
              "\n",
              "    .colab-df-convert {\n",
              "      background-color: #E8F0FE;\n",
              "      border: none;\n",
              "      border-radius: 50%;\n",
              "      cursor: pointer;\n",
              "      display: none;\n",
              "      fill: #1967D2;\n",
              "      height: 32px;\n",
              "      padding: 0 0 0 0;\n",
              "      width: 32px;\n",
              "    }\n",
              "\n",
              "    .colab-df-convert:hover {\n",
              "      background-color: #E2EBFA;\n",
              "      box-shadow: 0px 1px 2px rgba(60, 64, 67, 0.3), 0px 1px 3px 1px rgba(60, 64, 67, 0.15);\n",
              "      fill: #174EA6;\n",
              "    }\n",
              "\n",
              "    [theme=dark] .colab-df-convert {\n",
              "      background-color: #3B4455;\n",
              "      fill: #D2E3FC;\n",
              "    }\n",
              "\n",
              "    [theme=dark] .colab-df-convert:hover {\n",
              "      background-color: #434B5C;\n",
              "      box-shadow: 0px 1px 3px 1px rgba(0, 0, 0, 0.15);\n",
              "      filter: drop-shadow(0px 1px 2px rgba(0, 0, 0, 0.3));\n",
              "      fill: #FFFFFF;\n",
              "    }\n",
              "  </style>\n",
              "\n",
              "      <script>\n",
              "        const buttonEl =\n",
              "          document.querySelector('#df-53418c7f-eff9-456e-a276-0cfbb00a6f2e button.colab-df-convert');\n",
              "        buttonEl.style.display =\n",
              "          google.colab.kernel.accessAllowed ? 'block' : 'none';\n",
              "\n",
              "        async function convertToInteractive(key) {\n",
              "          const element = document.querySelector('#df-53418c7f-eff9-456e-a276-0cfbb00a6f2e');\n",
              "          const dataTable =\n",
              "            await google.colab.kernel.invokeFunction('convertToInteractive',\n",
              "                                                     [key], {});\n",
              "          if (!dataTable) return;\n",
              "\n",
              "          const docLinkHtml = 'Like what you see? Visit the ' +\n",
              "            '<a target=\"_blank\" href=https://colab.research.google.com/notebooks/data_table.ipynb>data table notebook</a>'\n",
              "            + ' to learn more about interactive tables.';\n",
              "          element.innerHTML = '';\n",
              "          dataTable['output_type'] = 'display_data';\n",
              "          await google.colab.output.renderOutput(dataTable, element);\n",
              "          const docLink = document.createElement('div');\n",
              "          docLink.innerHTML = docLinkHtml;\n",
              "          element.appendChild(docLink);\n",
              "        }\n",
              "      </script>\n",
              "    </div>\n",
              "  </div>\n",
              "  "
            ]
          },
          "metadata": {},
          "execution_count": 10
        }
      ]
    },
    {
      "cell_type": "code",
      "source": [
        "S_clus = df.groupby(['S'], as_index=False)\n",
        "S_clus['I'].size()"
      ],
      "metadata": {
        "id": "nRTeCbUZQGXd",
        "outputId": "8dc89619-3585-4144-a093-490c6b1ff83e",
        "colab": {
          "base_uri": "https://localhost:8080/",
          "height": 424
        }
      },
      "execution_count": null,
      "outputs": [
        {
          "output_type": "execute_result",
          "data": {
            "text/plain": [
              "         S  size\n",
              "0      317    36\n",
              "1      353     1\n",
              "2      354    25\n",
              "3      417     5\n",
              "4      875     1\n",
              "..     ...   ...\n",
              "828  14027    25\n",
              "829  14031    15\n",
              "830  14032    13\n",
              "831  14038     7\n",
              "832  14046     4\n",
              "\n",
              "[833 rows x 2 columns]"
            ],
            "text/html": [
              "\n",
              "  <div id=\"df-1f015613-f52c-4b20-9968-d52a72aab82e\">\n",
              "    <div class=\"colab-df-container\">\n",
              "      <div>\n",
              "<style scoped>\n",
              "    .dataframe tbody tr th:only-of-type {\n",
              "        vertical-align: middle;\n",
              "    }\n",
              "\n",
              "    .dataframe tbody tr th {\n",
              "        vertical-align: top;\n",
              "    }\n",
              "\n",
              "    .dataframe thead th {\n",
              "        text-align: right;\n",
              "    }\n",
              "</style>\n",
              "<table border=\"1\" class=\"dataframe\">\n",
              "  <thead>\n",
              "    <tr style=\"text-align: right;\">\n",
              "      <th></th>\n",
              "      <th>S</th>\n",
              "      <th>size</th>\n",
              "    </tr>\n",
              "  </thead>\n",
              "  <tbody>\n",
              "    <tr>\n",
              "      <th>0</th>\n",
              "      <td>317</td>\n",
              "      <td>36</td>\n",
              "    </tr>\n",
              "    <tr>\n",
              "      <th>1</th>\n",
              "      <td>353</td>\n",
              "      <td>1</td>\n",
              "    </tr>\n",
              "    <tr>\n",
              "      <th>2</th>\n",
              "      <td>354</td>\n",
              "      <td>25</td>\n",
              "    </tr>\n",
              "    <tr>\n",
              "      <th>3</th>\n",
              "      <td>417</td>\n",
              "      <td>5</td>\n",
              "    </tr>\n",
              "    <tr>\n",
              "      <th>4</th>\n",
              "      <td>875</td>\n",
              "      <td>1</td>\n",
              "    </tr>\n",
              "    <tr>\n",
              "      <th>...</th>\n",
              "      <td>...</td>\n",
              "      <td>...</td>\n",
              "    </tr>\n",
              "    <tr>\n",
              "      <th>828</th>\n",
              "      <td>14027</td>\n",
              "      <td>25</td>\n",
              "    </tr>\n",
              "    <tr>\n",
              "      <th>829</th>\n",
              "      <td>14031</td>\n",
              "      <td>15</td>\n",
              "    </tr>\n",
              "    <tr>\n",
              "      <th>830</th>\n",
              "      <td>14032</td>\n",
              "      <td>13</td>\n",
              "    </tr>\n",
              "    <tr>\n",
              "      <th>831</th>\n",
              "      <td>14038</td>\n",
              "      <td>7</td>\n",
              "    </tr>\n",
              "    <tr>\n",
              "      <th>832</th>\n",
              "      <td>14046</td>\n",
              "      <td>4</td>\n",
              "    </tr>\n",
              "  </tbody>\n",
              "</table>\n",
              "<p>833 rows × 2 columns</p>\n",
              "</div>\n",
              "      <button class=\"colab-df-convert\" onclick=\"convertToInteractive('df-1f015613-f52c-4b20-9968-d52a72aab82e')\"\n",
              "              title=\"Convert this dataframe to an interactive table.\"\n",
              "              style=\"display:none;\">\n",
              "        \n",
              "  <svg xmlns=\"http://www.w3.org/2000/svg\" height=\"24px\"viewBox=\"0 0 24 24\"\n",
              "       width=\"24px\">\n",
              "    <path d=\"M0 0h24v24H0V0z\" fill=\"none\"/>\n",
              "    <path d=\"M18.56 5.44l.94 2.06.94-2.06 2.06-.94-2.06-.94-.94-2.06-.94 2.06-2.06.94zm-11 1L8.5 8.5l.94-2.06 2.06-.94-2.06-.94L8.5 2.5l-.94 2.06-2.06.94zm10 10l.94 2.06.94-2.06 2.06-.94-2.06-.94-.94-2.06-.94 2.06-2.06.94z\"/><path d=\"M17.41 7.96l-1.37-1.37c-.4-.4-.92-.59-1.43-.59-.52 0-1.04.2-1.43.59L10.3 9.45l-7.72 7.72c-.78.78-.78 2.05 0 2.83L4 21.41c.39.39.9.59 1.41.59.51 0 1.02-.2 1.41-.59l7.78-7.78 2.81-2.81c.8-.78.8-2.07 0-2.86zM5.41 20L4 18.59l7.72-7.72 1.47 1.35L5.41 20z\"/>\n",
              "  </svg>\n",
              "      </button>\n",
              "      \n",
              "  <style>\n",
              "    .colab-df-container {\n",
              "      display:flex;\n",
              "      flex-wrap:wrap;\n",
              "      gap: 12px;\n",
              "    }\n",
              "\n",
              "    .colab-df-convert {\n",
              "      background-color: #E8F0FE;\n",
              "      border: none;\n",
              "      border-radius: 50%;\n",
              "      cursor: pointer;\n",
              "      display: none;\n",
              "      fill: #1967D2;\n",
              "      height: 32px;\n",
              "      padding: 0 0 0 0;\n",
              "      width: 32px;\n",
              "    }\n",
              "\n",
              "    .colab-df-convert:hover {\n",
              "      background-color: #E2EBFA;\n",
              "      box-shadow: 0px 1px 2px rgba(60, 64, 67, 0.3), 0px 1px 3px 1px rgba(60, 64, 67, 0.15);\n",
              "      fill: #174EA6;\n",
              "    }\n",
              "\n",
              "    [theme=dark] .colab-df-convert {\n",
              "      background-color: #3B4455;\n",
              "      fill: #D2E3FC;\n",
              "    }\n",
              "\n",
              "    [theme=dark] .colab-df-convert:hover {\n",
              "      background-color: #434B5C;\n",
              "      box-shadow: 0px 1px 3px 1px rgba(0, 0, 0, 0.15);\n",
              "      filter: drop-shadow(0px 1px 2px rgba(0, 0, 0, 0.3));\n",
              "      fill: #FFFFFF;\n",
              "    }\n",
              "  </style>\n",
              "\n",
              "      <script>\n",
              "        const buttonEl =\n",
              "          document.querySelector('#df-1f015613-f52c-4b20-9968-d52a72aab82e button.colab-df-convert');\n",
              "        buttonEl.style.display =\n",
              "          google.colab.kernel.accessAllowed ? 'block' : 'none';\n",
              "\n",
              "        async function convertToInteractive(key) {\n",
              "          const element = document.querySelector('#df-1f015613-f52c-4b20-9968-d52a72aab82e');\n",
              "          const dataTable =\n",
              "            await google.colab.kernel.invokeFunction('convertToInteractive',\n",
              "                                                     [key], {});\n",
              "          if (!dataTable) return;\n",
              "\n",
              "          const docLinkHtml = 'Like what you see? Visit the ' +\n",
              "            '<a target=\"_blank\" href=https://colab.research.google.com/notebooks/data_table.ipynb>data table notebook</a>'\n",
              "            + ' to learn more about interactive tables.';\n",
              "          element.innerHTML = '';\n",
              "          dataTable['output_type'] = 'display_data';\n",
              "          await google.colab.output.renderOutput(dataTable, element);\n",
              "          const docLink = document.createElement('div');\n",
              "          docLink.innerHTML = docLinkHtml;\n",
              "          element.appendChild(docLink);\n",
              "        }\n",
              "      </script>\n",
              "    </div>\n",
              "  </div>\n",
              "  "
            ]
          },
          "metadata": {},
          "execution_count": 7
        }
      ]
    },
    {
      "cell_type": "markdown",
      "source": [
        "RESULTS...\n",
        "- Some insights........"
      ],
      "metadata": {
        "id": "vF0EBJehgVpA"
      }
    },
    {
      "cell_type": "markdown",
      "source": [
        "# Save analysis results to your gDrive - OPTIONAL"
      ],
      "metadata": {
        "id": "ix6C4m6lMI4H"
      }
    },
    {
      "cell_type": "markdown",
      "source": [
        "Mount gDrive and create timestamped Experiment Folder"
      ],
      "metadata": {
        "id": "m9mE0i6lNk6L"
      }
    },
    {
      "cell_type": "code",
      "source": [
        "drive.mount('/content/drive')   # ignore warning if already mounted\n",
        "\n",
        "BASE_PATH = '/content/drive/MyDrive/CVA-SBERT/'\n",
        "EXP_PATH = BASE_PATH + 'Analysis-' + strftime(\"%Y%m%d-%H%M%S\", localtime())\n",
        "\n",
        "if path.exists(BASE_PATH) == False:\n",
        "    os.mkdir(BASE_PATH)\n",
        "if path.exists(EXP_PATH) == False:\n",
        "    os.mkdir(EXP_PATH)"
      ],
      "metadata": {
        "id": "-iZJ4HC0MSa7"
      },
      "execution_count": null,
      "outputs": []
    },
    {
      "cell_type": "markdown",
      "source": [
        "Save dataframes or other results to Experiment Folder"
      ],
      "metadata": {
        "id": "Ec7wkgVtNuBd"
      }
    },
    {
      "cell_type": "code",
      "source": [
        "# save initial two dataframes\n",
        "CVA_df.to_pickle(EXP_PATH + '/CVA_df.pkl')\n",
        "token_df.to_pickle(EXP_PATH + '/token_df.pkl')\n",
        "\n",
        "# ...or other saving of other results, like plots\n",
        "#"
      ],
      "metadata": {
        "id": "FdvEn6tMOKMy"
      },
      "execution_count": null,
      "outputs": []
    }
  ],
  "metadata": {
    "colab": {
      "provenance": [],
      "include_colab_link": true
    },
    "kernelspec": {
      "display_name": "Python 3.8.12 ('ESSL')",
      "language": "python",
      "name": "python3"
    },
    "language_info": {
      "name": "python",
      "version": "3.8.12"
    },
    "vscode": {
      "interpreter": {
        "hash": "033f8c6fda077bd21b7ae1b6f69c8e3d2300139e3a7502197592234d857a2a7b"
      }
    }
  },
  "nbformat": 4,
  "nbformat_minor": 0
}