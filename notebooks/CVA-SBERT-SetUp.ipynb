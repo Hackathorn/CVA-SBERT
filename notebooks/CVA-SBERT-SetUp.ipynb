{
  "cells": [
    {
      "cell_type": "markdown",
      "metadata": {
        "id": "AZSRG_0rm3t9"
      },
      "source": [
        "# Setup the environment"
      ]
    },
    {
      "cell_type": "markdown",
      "metadata": {
        "id": "zb34bPBHb38H"
      },
      "source": [
        "- The CSV file containing the CVS data is loaded into a dataframe. \n",
        "- TODO figure out how to insert image from GitHub"
      ]
    },
    {
      "cell_type": "markdown",
      "metadata": {
        "id": "tSUi_YQy_BXS"
      },
      "source": [
        "## Set notebook hyper-parameters\n",
        "\n",
        "- **SBERT_MODEL**: The pre-trained LLM fine-tuned from BERT. See the [many models available](https://huggingface.co/models?pipeline_tag=sentence-similarity&sort=downloads). The model [`paraphrase-MiniLM-L6-v2`](https://huggingface.co/sentence-transformers/paraphrase-MiniLM-L6-v2) is an early pretrained Sentence-Similiarity (S-S) model used in many examples. However, a more recent model [`all-MiniLM-L6-v2`](https://huggingface.co/sentence-transformers/all-MiniLM-L6-v2) has most Likes and most Downloads (2M/month!) of almost a thousand S-S models.\n",
        "\n",
        "- **USE_GDRIVE**: Default is FALSE implying you have not customized the following SetUp code. \n",
        "\n",
        "- **CLEAN_TEXT***: Default is TRUE implying that text string for Definitions and Items is changed by removing punctuation chars, eliminating whitespace, etc."
      ]
    },
    {
      "cell_type": "code",
      "execution_count": 30,
      "metadata": {
        "id": "rfLSyTe0_NSb"
      },
      "outputs": [],
      "source": [
        "# set model name to create SBERT model instance\n",
        "SBERT_MODEL = 'all-MiniLM-L6-v2'\n",
        "\n",
        "# do NOT save to your gDrive\n",
        "USE_GDRIVE = True\n",
        "\n",
        "# clean token text of punctuation etc\n",
        "CLEAN_TEXT = True"
      ]
    },
    {
      "cell_type": "markdown",
      "metadata": {
        "id": "0AFgrhkCVcVV"
      },
      "source": [
        "## Import SentenceTransformers"
      ]
    },
    {
      "cell_type": "code",
      "execution_count": 31,
      "metadata": {
        "id": "fu6FFvXGoa6p"
      },
      "outputs": [],
      "source": [
        "!pip install -q sentence_transformers"
      ]
    },
    {
      "cell_type": "markdown",
      "metadata": {
        "id": "hzoUz1FwWVvd"
      },
      "source": [
        "## Import various packages\n",
        "\n",
        "- ```sentence_transformers``` class plus others\n"
      ]
    },
    {
      "cell_type": "code",
      "execution_count": 32,
      "metadata": {
        "id": "bok6iQwnoy_f"
      },
      "outputs": [],
      "source": [
        "from sentence_transformers import SentenceTransformer\n",
        "from sklearn.metrics.pairwise import cosine_similarity, euclidean_distances\n",
        "\n",
        "import pandas as pd\n",
        "import numpy as np\n",
        "from pprint import pprint"
      ]
    },
    {
      "cell_type": "markdown",
      "metadata": {
        "id": "85dmTLslm5Vl"
      },
      "source": [
        "## Instantiate SentenceTransformer\n",
        "\n",
        "- Creates an instance of HuggingFace pipeline for the `SentenceTransformer` class, based upon the parameters (which are MANY). \n",
        "- See [SentenceTransformer](https://www.sbert.net/) documentation, particularly for [its parameters](https://www.sbert.net/docs/package_reference/SentenceTransformer.html) and for [Sentence Textual Similarity](https://www.sbert.net/docs/usage/semantic_textual_similarity.html).\n",
        "- TODO - explore these parameters. "
      ]
    },
    {
      "cell_type": "code",
      "execution_count": 33,
      "metadata": {
        "id": "-SCtETLipTwA"
      },
      "outputs": [],
      "source": [
        "model = SentenceTransformer(SBERT_MODEL)"
      ]
    },
    {
      "cell_type": "markdown",
      "metadata": {
        "id": "P1aaQ6B-IRZR"
      },
      "source": [
        "# Create CVA dataframe"
      ]
    },
    {
      "cell_type": "markdown",
      "metadata": {
        "id": "zd1FLW2gVfAa"
      },
      "source": [
        "## Clone CVA-SBERT GitHub "
      ]
    },
    {
      "cell_type": "code",
      "execution_count": 34,
      "metadata": {
        "colab": {
          "base_uri": "https://localhost:8080/"
        },
        "id": "vdnQd5jXVotB",
        "outputId": "760a3902-ee10-48f2-e46e-62a2dbc54f12"
      },
      "outputs": [
        {
          "output_type": "stream",
          "name": "stdout",
          "text": [
            "fatal: destination path 'CVA-SBERT' already exists and is not an empty directory.\n"
          ]
        }
      ],
      "source": [
        "!git clone https://github.com/Hackathorn/CVA-SBERT "
      ]
    },
    {
      "cell_type": "markdown",
      "metadata": {
        "id": "r3GR3La7WwPw"
      },
      "source": [
        "## Load dataframe from comma-delimited file\n",
        "\n",
        "- Use \n",
        "Add ```DataId``` column to maintain lineage to original dataset\n",
        "- Rename Item column for naming consistency"
      ]
    },
    {
      "cell_type": "code",
      "execution_count": 35,
      "metadata": {
        "colab": {
          "base_uri": "https://localhost:8080/"
        },
        "id": "BF_9Rs8uGl28",
        "outputId": "2a5c4591-1e30-41b5-8e6f-ab82b3fa09c4"
      },
      "outputs": [
        {
          "output_type": "stream",
          "name": "stdout",
          "text": [
            "------- Orginal Structure ---------\n",
            "<class 'pandas.core.frame.DataFrame'>\n",
            "RangeIndex: 28076 entries, 0 to 28075\n",
            "Data columns (total 4 columns):\n",
            " #   Column      Non-Null Count  Dtype \n",
            "---  ------      --------------  ----- \n",
            " 0   SourceId    28076 non-null  int64 \n",
            " 1   Target      28076 non-null  int64 \n",
            " 2   Definition  28076 non-null  object\n",
            " 3   Item_Text   28076 non-null  object\n",
            "dtypes: int64(2), object(2)\n",
            "memory usage: 877.5+ KB\n",
            "None\n",
            "------- Final Structure ---------\n",
            "<class 'pandas.core.frame.DataFrame'>\n",
            "RangeIndex: 28076 entries, 0 to 28075\n",
            "Data columns (total 5 columns):\n",
            " #   Column      Non-Null Count  Dtype \n",
            "---  ------      --------------  ----- \n",
            " 0   Index       28076 non-null  int64 \n",
            " 1   Source      28076 non-null  int64 \n",
            " 2   Target      28076 non-null  int64 \n",
            " 3   Definition  28076 non-null  object\n",
            " 4   Item        28076 non-null  object\n",
            "dtypes: int64(3), object(2)\n",
            "memory usage: 1.1+ MB\n",
            "None\n"
          ]
        }
      ],
      "source": [
        "# using clone repo data\n",
        "CVA_FileName = '/content/CVA-SBERT/data/CVA_Training_Data_Allv4_Richard.csv'\n",
        "CVA_df = pd.read_csv(CVA_FileName)\n",
        "\n",
        "###### TODO - explore direct URL to CVA data, thus avoiding repo cloning\n",
        "# data = pd.read_csv(\"https://github.com/Hackathorn/CVA-SBERT/blob/cc0df10ca1bb2a18f723cfc1f1e62ed79d368eee/data/CVA_Training_Data_Allv4_Richard.csv\")\n",
        "###### gets following error...\n",
        "###### ParserError: Error tokenizing data. C error: Expected 1 fields in line 28, saw 367\n",
        "\n",
        "# print original df structure\n",
        "print(\"------- Orginal Structure ---------\")\n",
        "print(CVA_df.info(verbose=True))\n",
        "\n",
        "# maintain lineage index to original lines in comma-delimited dataset \n",
        "CVA_df.insert(loc=0, column='Index', value=CVA_df.index)\n",
        "# OPTIONAL renaming for name consistency/simplication\n",
        "CVA_df.rename(columns = {\"Item_Text\":\"Item\"}, inplace = True)\n",
        "CVA_df.rename(columns = {\"SourceId\":\"Source\"}, inplace = True)\n",
        "\n",
        "# print final df structure\n",
        "print(\"------- Final Structure ---------\")\n",
        "print(CVA_df.info(verbose=True))"
      ]
    },
    {
      "cell_type": "markdown",
      "metadata": {
        "id": "VlGvFRGlvyKk"
      },
      "source": [
        "## Print various counts/ratios \n",
        "\n",
        "- about Source-Definition-Item columns"
      ]
    },
    {
      "cell_type": "code",
      "execution_count": 36,
      "metadata": {
        "colab": {
          "base_uri": "https://localhost:8080/"
        },
        "id": "Ly6npj4Wvh1I",
        "outputId": "4c5ae904-fa99-422d-c895-56327d0b2db9"
      },
      "outputs": [
        {
          "output_type": "stream",
          "name": "stdout",
          "text": [
            "-------- Unique Counts and Ratios --------\n",
            "Item count = 28,076\n",
            "Source count = 833 \n",
            "    with Items-per-Source = 33.70 \n",
            "    with Definitions-per-Source = 3.47\n",
            "Definition count = 2,887 \n",
            "    with Items-per-Definition = 9.72\n",
            "Target mean = 0.4999 \n",
            "    with count of ones = 14,036\n"
          ]
        }
      ],
      "source": [
        "ni = len(CVA_df)\n",
        "ns = CVA_df.Source.nunique()\n",
        "nd = CVA_df.Definition.nunique()\n",
        "print(\"-------- Unique Counts and Ratios --------\")\n",
        "print(f\"Item count = {ni:,d}\")\n",
        "print(f\"Source count = {ns:,d} \\n\" +\n",
        "      f\"    with Items-per-Source = {(len(CVA_df)/ns):.2f} \\n\" +\n",
        "      f\"    with Definitions-per-Source = {(nd/ns):.2f}\")\n",
        "print(f\"Definition count = {nd:,d} \\n\" +\n",
        "      f\"    with Items-per-Definition = {(len(CVA_df)/nd):.2f}\")\n",
        "print(f\"Target mean = {CVA_df.Target.mean():.4f} \\n\" +\n",
        "      f\"    with count of ones = {CVA_df.Target.sum():,d}\")"
      ]
    },
    {
      "cell_type": "markdown",
      "metadata": {
        "id": "w4cChZqMJtSh"
      },
      "source": [
        "## Explore the CVS dataset"
      ]
    },
    {
      "cell_type": "code",
      "execution_count": 37,
      "metadata": {
        "colab": {
          "base_uri": "https://localhost:8080/",
          "height": 424
        },
        "id": "Fk7WMyJfJtge",
        "outputId": "4ff8a45c-df7c-4280-8e07-d3a43e2def7d"
      },
      "outputs": [
        {
          "output_type": "execute_result",
          "data": {
            "text/plain": [
              "       Index  Source  Target  \\\n",
              "0          0    2978       1   \n",
              "1          1    1056       0   \n",
              "2          2    9900       0   \n",
              "3          3    1015       0   \n",
              "4          4    2988       0   \n",
              "...      ...     ...     ...   \n",
              "28071  28071   12822       1   \n",
              "28072  28072    3350       1   \n",
              "28073  28073   13668       0   \n",
              "28074  28074    2361       1   \n",
              "28075  28075    3093       1   \n",
              "\n",
              "                                              Definition  \\\n",
              "0      People whose past behavior is consistent with ...   \n",
              "1                      Facilitation from work to school.   \n",
              "2      The telemarketers ranked from 1 (most importan...   \n",
              "3             Employees? sense of belongingness at work.   \n",
              "4      How attracted members were to the crew and the...   \n",
              "...                                                  ...   \n",
              "28071  How characteristic each of the attractiveness ...   \n",
              "28072  Participants' explanations for why the seller ...   \n",
              "28073  The extent to which the employee perceived the...   \n",
              "28074  Newcomers? belief that good alternative work e...   \n",
              "28075  Employees? perceptions of the interpersonal tr...   \n",
              "\n",
              "                                                    Item  \n",
              "0      Have any of your current or previous partners ...  \n",
              "1                I enjoy being a student on this campus.  \n",
              "2                 To upgrade physical work environments.  \n",
              "3      Helps others when it is clear their workload i...  \n",
              "4      Managers rate each crew (low performance/high ...  \n",
              "...                                                  ...  \n",
              "28071                                              Wise.  \n",
              "28072                            The buyer is persuasive  \n",
              "28073  I have been able to express my views and feeli...  \n",
              "28074  To what extent have other co-workers influence...  \n",
              "28075                Employees? suggestions are ignored.  \n",
              "\n",
              "[28076 rows x 5 columns]"
            ],
            "text/html": [
              "\n",
              "  <div id=\"df-49824ac5-a27e-4d58-80a8-87e80232e377\">\n",
              "    <div class=\"colab-df-container\">\n",
              "      <div>\n",
              "<style scoped>\n",
              "    .dataframe tbody tr th:only-of-type {\n",
              "        vertical-align: middle;\n",
              "    }\n",
              "\n",
              "    .dataframe tbody tr th {\n",
              "        vertical-align: top;\n",
              "    }\n",
              "\n",
              "    .dataframe thead th {\n",
              "        text-align: right;\n",
              "    }\n",
              "</style>\n",
              "<table border=\"1\" class=\"dataframe\">\n",
              "  <thead>\n",
              "    <tr style=\"text-align: right;\">\n",
              "      <th></th>\n",
              "      <th>Index</th>\n",
              "      <th>Source</th>\n",
              "      <th>Target</th>\n",
              "      <th>Definition</th>\n",
              "      <th>Item</th>\n",
              "    </tr>\n",
              "  </thead>\n",
              "  <tbody>\n",
              "    <tr>\n",
              "      <th>0</th>\n",
              "      <td>0</td>\n",
              "      <td>2978</td>\n",
              "      <td>1</td>\n",
              "      <td>People whose past behavior is consistent with ...</td>\n",
              "      <td>Have any of your current or previous partners ...</td>\n",
              "    </tr>\n",
              "    <tr>\n",
              "      <th>1</th>\n",
              "      <td>1</td>\n",
              "      <td>1056</td>\n",
              "      <td>0</td>\n",
              "      <td>Facilitation from work to school.</td>\n",
              "      <td>I enjoy being a student on this campus.</td>\n",
              "    </tr>\n",
              "    <tr>\n",
              "      <th>2</th>\n",
              "      <td>2</td>\n",
              "      <td>9900</td>\n",
              "      <td>0</td>\n",
              "      <td>The telemarketers ranked from 1 (most importan...</td>\n",
              "      <td>To upgrade physical work environments.</td>\n",
              "    </tr>\n",
              "    <tr>\n",
              "      <th>3</th>\n",
              "      <td>3</td>\n",
              "      <td>1015</td>\n",
              "      <td>0</td>\n",
              "      <td>Employees? sense of belongingness at work.</td>\n",
              "      <td>Helps others when it is clear their workload i...</td>\n",
              "    </tr>\n",
              "    <tr>\n",
              "      <th>4</th>\n",
              "      <td>4</td>\n",
              "      <td>2988</td>\n",
              "      <td>0</td>\n",
              "      <td>How attracted members were to the crew and the...</td>\n",
              "      <td>Managers rate each crew (low performance/high ...</td>\n",
              "    </tr>\n",
              "    <tr>\n",
              "      <th>...</th>\n",
              "      <td>...</td>\n",
              "      <td>...</td>\n",
              "      <td>...</td>\n",
              "      <td>...</td>\n",
              "      <td>...</td>\n",
              "    </tr>\n",
              "    <tr>\n",
              "      <th>28071</th>\n",
              "      <td>28071</td>\n",
              "      <td>12822</td>\n",
              "      <td>1</td>\n",
              "      <td>How characteristic each of the attractiveness ...</td>\n",
              "      <td>Wise.</td>\n",
              "    </tr>\n",
              "    <tr>\n",
              "      <th>28072</th>\n",
              "      <td>28072</td>\n",
              "      <td>3350</td>\n",
              "      <td>1</td>\n",
              "      <td>Participants' explanations for why the seller ...</td>\n",
              "      <td>The buyer is persuasive</td>\n",
              "    </tr>\n",
              "    <tr>\n",
              "      <th>28073</th>\n",
              "      <td>28073</td>\n",
              "      <td>13668</td>\n",
              "      <td>0</td>\n",
              "      <td>The extent to which the employee perceived the...</td>\n",
              "      <td>I have been able to express my views and feeli...</td>\n",
              "    </tr>\n",
              "    <tr>\n",
              "      <th>28074</th>\n",
              "      <td>28074</td>\n",
              "      <td>2361</td>\n",
              "      <td>1</td>\n",
              "      <td>Newcomers? belief that good alternative work e...</td>\n",
              "      <td>To what extent have other co-workers influence...</td>\n",
              "    </tr>\n",
              "    <tr>\n",
              "      <th>28075</th>\n",
              "      <td>28075</td>\n",
              "      <td>3093</td>\n",
              "      <td>1</td>\n",
              "      <td>Employees? perceptions of the interpersonal tr...</td>\n",
              "      <td>Employees? suggestions are ignored.</td>\n",
              "    </tr>\n",
              "  </tbody>\n",
              "</table>\n",
              "<p>28076 rows × 5 columns</p>\n",
              "</div>\n",
              "      <button class=\"colab-df-convert\" onclick=\"convertToInteractive('df-49824ac5-a27e-4d58-80a8-87e80232e377')\"\n",
              "              title=\"Convert this dataframe to an interactive table.\"\n",
              "              style=\"display:none;\">\n",
              "        \n",
              "  <svg xmlns=\"http://www.w3.org/2000/svg\" height=\"24px\"viewBox=\"0 0 24 24\"\n",
              "       width=\"24px\">\n",
              "    <path d=\"M0 0h24v24H0V0z\" fill=\"none\"/>\n",
              "    <path d=\"M18.56 5.44l.94 2.06.94-2.06 2.06-.94-2.06-.94-.94-2.06-.94 2.06-2.06.94zm-11 1L8.5 8.5l.94-2.06 2.06-.94-2.06-.94L8.5 2.5l-.94 2.06-2.06.94zm10 10l.94 2.06.94-2.06 2.06-.94-2.06-.94-.94-2.06-.94 2.06-2.06.94z\"/><path d=\"M17.41 7.96l-1.37-1.37c-.4-.4-.92-.59-1.43-.59-.52 0-1.04.2-1.43.59L10.3 9.45l-7.72 7.72c-.78.78-.78 2.05 0 2.83L4 21.41c.39.39.9.59 1.41.59.51 0 1.02-.2 1.41-.59l7.78-7.78 2.81-2.81c.8-.78.8-2.07 0-2.86zM5.41 20L4 18.59l7.72-7.72 1.47 1.35L5.41 20z\"/>\n",
              "  </svg>\n",
              "      </button>\n",
              "      \n",
              "  <style>\n",
              "    .colab-df-container {\n",
              "      display:flex;\n",
              "      flex-wrap:wrap;\n",
              "      gap: 12px;\n",
              "    }\n",
              "\n",
              "    .colab-df-convert {\n",
              "      background-color: #E8F0FE;\n",
              "      border: none;\n",
              "      border-radius: 50%;\n",
              "      cursor: pointer;\n",
              "      display: none;\n",
              "      fill: #1967D2;\n",
              "      height: 32px;\n",
              "      padding: 0 0 0 0;\n",
              "      width: 32px;\n",
              "    }\n",
              "\n",
              "    .colab-df-convert:hover {\n",
              "      background-color: #E2EBFA;\n",
              "      box-shadow: 0px 1px 2px rgba(60, 64, 67, 0.3), 0px 1px 3px 1px rgba(60, 64, 67, 0.15);\n",
              "      fill: #174EA6;\n",
              "    }\n",
              "\n",
              "    [theme=dark] .colab-df-convert {\n",
              "      background-color: #3B4455;\n",
              "      fill: #D2E3FC;\n",
              "    }\n",
              "\n",
              "    [theme=dark] .colab-df-convert:hover {\n",
              "      background-color: #434B5C;\n",
              "      box-shadow: 0px 1px 3px 1px rgba(0, 0, 0, 0.15);\n",
              "      filter: drop-shadow(0px 1px 2px rgba(0, 0, 0, 0.3));\n",
              "      fill: #FFFFFF;\n",
              "    }\n",
              "  </style>\n",
              "\n",
              "      <script>\n",
              "        const buttonEl =\n",
              "          document.querySelector('#df-49824ac5-a27e-4d58-80a8-87e80232e377 button.colab-df-convert');\n",
              "        buttonEl.style.display =\n",
              "          google.colab.kernel.accessAllowed ? 'block' : 'none';\n",
              "\n",
              "        async function convertToInteractive(key) {\n",
              "          const element = document.querySelector('#df-49824ac5-a27e-4d58-80a8-87e80232e377');\n",
              "          const dataTable =\n",
              "            await google.colab.kernel.invokeFunction('convertToInteractive',\n",
              "                                                     [key], {});\n",
              "          if (!dataTable) return;\n",
              "\n",
              "          const docLinkHtml = 'Like what you see? Visit the ' +\n",
              "            '<a target=\"_blank\" href=https://colab.research.google.com/notebooks/data_table.ipynb>data table notebook</a>'\n",
              "            + ' to learn more about interactive tables.';\n",
              "          element.innerHTML = '';\n",
              "          dataTable['output_type'] = 'display_data';\n",
              "          await google.colab.output.renderOutput(dataTable, element);\n",
              "          const docLink = document.createElement('div');\n",
              "          docLink.innerHTML = docLinkHtml;\n",
              "          element.appendChild(docLink);\n",
              "        }\n",
              "      </script>\n",
              "    </div>\n",
              "  </div>\n",
              "  "
            ]
          },
          "metadata": {},
          "execution_count": 37
        }
      ],
      "source": [
        "CVA_df        # NOTE: limited to 20K rows"
      ]
    },
    {
      "cell_type": "markdown",
      "source": [
        "## Clean text string list of Def+Items\n",
        "\n",
        "- OPTIONALLY depending on hyperparm CLEAN_TEXT\n",
        "- TODO: insert space for each punc? delete extra spaces? "
      ],
      "metadata": {
        "id": "zSnwa3sB6RHu"
      }
    },
    {
      "cell_type": "code",
      "source": [
        "def clean_text(text):\n",
        "\n",
        "    if CLEAN_TEXT:\n",
        "        import string\n",
        "        # remove all string punctuation\n",
        "        text = text.translate(str.maketrans('', '', string.punctuation))\n",
        "        # remove all leading digits\n",
        "        text = text.lstrip(string.digits)\n",
        "        # remove all leading spaces\n",
        "        text = text.lstrip()\n",
        "\n",
        "    return(text)\n",
        "\n",
        "def clean_text_list(text_list):\n",
        "\n",
        "    # clean each text in text_list\n",
        "    text_list = [clean_text(s) for s in text_list]\n",
        "        \n",
        "    return(text_list)"
      ],
      "metadata": {
        "id": "Gcf9-r2l6Rhm"
      },
      "execution_count": 38,
      "outputs": []
    },
    {
      "cell_type": "markdown",
      "source": [
        "## Tokenize Definitions & Items text"
      ],
      "metadata": {
        "id": "G8dxdJ-Us4tC"
      }
    },
    {
      "cell_type": "code",
      "source": [
        "# collect all text strings from Def & Item\n",
        "text_list = list(CVA_df.Definition) + list(CVA_df.Item)\n",
        "\n",
        "# if CLEAN_TEXT parm, remove punc & leading digits/whitespace\n",
        "text_list = clean_text_list(text_list)\n",
        "\n",
        "# find unique text strings & sort\n",
        "token_list = sorted(set(text_list))\n",
        "\n",
        "len(text_list), len(token_list), token_list[:5] # testing"
      ],
      "metadata": {
        "id": "Iy3XFrtEs5Wa",
        "outputId": "f7cc5527-cf25-46b8-a0a9-8c8ad2467e88",
        "colab": {
          "base_uri": "https://localhost:8080/"
        }
      },
      "execution_count": 39,
      "outputs": [
        {
          "output_type": "execute_result",
          "data": {
            "text/plain": [
              "(56152,\n",
              " 11507,\n",
              " ['A CEOs perceived ability to provide valuable help on strategic matters based on focal CEO responses in models of identification and on responses of potential help recipients in models of the amount of strategic help provided',\n",
              "  'A behavior syndrome in which an individual adopts an active orientation that goes beyond formal work requirements',\n",
              "  'A behavioral observation scale for appraising the employees performance',\n",
              "  'A belief in ones capability to accomplish successfully certain trained tasks',\n",
              "  'A belief that ability is fixed and unchangeable'])"
            ]
          },
          "metadata": {},
          "execution_count": 39
        }
      ]
    },
    {
      "cell_type": "markdown",
      "source": [
        "Note that, instead of 56K text string to encode, we need only to encode 12K - That is more than 4x reduction.  \n",
        "Since we are doing pairwise comparisons, it becomes 16x for similarity matrices"
      ],
      "metadata": {
        "id": "gu9cYo9T5ra8"
      }
    },
    {
      "cell_type": "markdown",
      "source": [
        "# Create Token dataframe "
      ],
      "metadata": {
        "id": "dOa4-nTwBSAK"
      }
    },
    {
      "cell_type": "code",
      "source": [
        "token_df = pd.DataFrame(token_list, columns=['token_text'], dtype='str')\n",
        "print(token_df.info(), token_df.dtypes)\n",
        "\n",
        "# token_df.token_text = token_df.token_text.astype('str')\n",
        "# print(token_df.info(), token_df.dtypes)\n",
        "\n",
        "def token2text(token):\n",
        "    # return(token_df.iloc[token, 'token_text'])\n",
        "    return(token_df.iloc[token, 0])\n",
        "\n",
        "def text2token(text):\n",
        "    text = clean_text(text)\n",
        "    tokens = token_df.index[token_df['token_text'] == text].tolist()\n",
        "    assert len(tokens) == 1, \"text2token ERROR: Single unique text was not found\"\n",
        "    return(tokens[0])\n",
        "\n",
        "# testing...\n",
        "text = token2text(1)\n",
        "token = text2token(text)\n",
        "print(token, text)\n"
      ],
      "metadata": {
        "id": "-DkOCFBTKXBO",
        "outputId": "2e6a9e49-77e8-4db3-f289-98b668275f54",
        "colab": {
          "base_uri": "https://localhost:8080/"
        }
      },
      "execution_count": 40,
      "outputs": [
        {
          "output_type": "stream",
          "name": "stdout",
          "text": [
            "<class 'pandas.core.frame.DataFrame'>\n",
            "RangeIndex: 11507 entries, 0 to 11506\n",
            "Data columns (total 1 columns):\n",
            " #   Column      Non-Null Count  Dtype \n",
            "---  ------      --------------  ----- \n",
            " 0   token_text  11507 non-null  object\n",
            "dtypes: object(1)\n",
            "memory usage: 90.0+ KB\n",
            "None token_text    object\n",
            "dtype: object\n",
            "1 A behavior syndrome in which an individual adopts an active orientation that goes beyond formal work requirements\n"
          ]
        }
      ]
    },
    {
      "cell_type": "code",
      "source": [
        "token_df"
      ],
      "metadata": {
        "id": "4OD-gqLKB9x6",
        "outputId": "66d66d44-de77-4249-d077-c60b378371f7",
        "colab": {
          "base_uri": "https://localhost:8080/",
          "height": 424
        }
      },
      "execution_count": 41,
      "outputs": [
        {
          "output_type": "execute_result",
          "data": {
            "text/plain": [
              "                                              token_text\n",
              "0      A CEOs perceived ability to provide valuable h...\n",
              "1      A behavior syndrome in which an individual ado...\n",
              "2      A behavioral observation scale for appraising ...\n",
              "3      A belief in ones capability to accomplish succ...\n",
              "4        A belief that ability is fixed and unchangeable\n",
              "...                                                  ...\n",
              "11502  the fit between the requirements of ones role ...\n",
              "11503  this last year I have had opportunities at wor...\n",
              "11504                                very strongly agree\n",
              "11505  voluntary actual withdrawal from the organization\n",
              "11506            well below average 5 well above average\n",
              "\n",
              "[11507 rows x 1 columns]"
            ],
            "text/html": [
              "\n",
              "  <div id=\"df-49d487aa-1604-4adc-b28b-e226b86acceb\">\n",
              "    <div class=\"colab-df-container\">\n",
              "      <div>\n",
              "<style scoped>\n",
              "    .dataframe tbody tr th:only-of-type {\n",
              "        vertical-align: middle;\n",
              "    }\n",
              "\n",
              "    .dataframe tbody tr th {\n",
              "        vertical-align: top;\n",
              "    }\n",
              "\n",
              "    .dataframe thead th {\n",
              "        text-align: right;\n",
              "    }\n",
              "</style>\n",
              "<table border=\"1\" class=\"dataframe\">\n",
              "  <thead>\n",
              "    <tr style=\"text-align: right;\">\n",
              "      <th></th>\n",
              "      <th>token_text</th>\n",
              "    </tr>\n",
              "  </thead>\n",
              "  <tbody>\n",
              "    <tr>\n",
              "      <th>0</th>\n",
              "      <td>A CEOs perceived ability to provide valuable h...</td>\n",
              "    </tr>\n",
              "    <tr>\n",
              "      <th>1</th>\n",
              "      <td>A behavior syndrome in which an individual ado...</td>\n",
              "    </tr>\n",
              "    <tr>\n",
              "      <th>2</th>\n",
              "      <td>A behavioral observation scale for appraising ...</td>\n",
              "    </tr>\n",
              "    <tr>\n",
              "      <th>3</th>\n",
              "      <td>A belief in ones capability to accomplish succ...</td>\n",
              "    </tr>\n",
              "    <tr>\n",
              "      <th>4</th>\n",
              "      <td>A belief that ability is fixed and unchangeable</td>\n",
              "    </tr>\n",
              "    <tr>\n",
              "      <th>...</th>\n",
              "      <td>...</td>\n",
              "    </tr>\n",
              "    <tr>\n",
              "      <th>11502</th>\n",
              "      <td>the fit between the requirements of ones role ...</td>\n",
              "    </tr>\n",
              "    <tr>\n",
              "      <th>11503</th>\n",
              "      <td>this last year I have had opportunities at wor...</td>\n",
              "    </tr>\n",
              "    <tr>\n",
              "      <th>11504</th>\n",
              "      <td>very strongly agree</td>\n",
              "    </tr>\n",
              "    <tr>\n",
              "      <th>11505</th>\n",
              "      <td>voluntary actual withdrawal from the organization</td>\n",
              "    </tr>\n",
              "    <tr>\n",
              "      <th>11506</th>\n",
              "      <td>well below average 5 well above average</td>\n",
              "    </tr>\n",
              "  </tbody>\n",
              "</table>\n",
              "<p>11507 rows × 1 columns</p>\n",
              "</div>\n",
              "      <button class=\"colab-df-convert\" onclick=\"convertToInteractive('df-49d487aa-1604-4adc-b28b-e226b86acceb')\"\n",
              "              title=\"Convert this dataframe to an interactive table.\"\n",
              "              style=\"display:none;\">\n",
              "        \n",
              "  <svg xmlns=\"http://www.w3.org/2000/svg\" height=\"24px\"viewBox=\"0 0 24 24\"\n",
              "       width=\"24px\">\n",
              "    <path d=\"M0 0h24v24H0V0z\" fill=\"none\"/>\n",
              "    <path d=\"M18.56 5.44l.94 2.06.94-2.06 2.06-.94-2.06-.94-.94-2.06-.94 2.06-2.06.94zm-11 1L8.5 8.5l.94-2.06 2.06-.94-2.06-.94L8.5 2.5l-.94 2.06-2.06.94zm10 10l.94 2.06.94-2.06 2.06-.94-2.06-.94-.94-2.06-.94 2.06-2.06.94z\"/><path d=\"M17.41 7.96l-1.37-1.37c-.4-.4-.92-.59-1.43-.59-.52 0-1.04.2-1.43.59L10.3 9.45l-7.72 7.72c-.78.78-.78 2.05 0 2.83L4 21.41c.39.39.9.59 1.41.59.51 0 1.02-.2 1.41-.59l7.78-7.78 2.81-2.81c.8-.78.8-2.07 0-2.86zM5.41 20L4 18.59l7.72-7.72 1.47 1.35L5.41 20z\"/>\n",
              "  </svg>\n",
              "      </button>\n",
              "      \n",
              "  <style>\n",
              "    .colab-df-container {\n",
              "      display:flex;\n",
              "      flex-wrap:wrap;\n",
              "      gap: 12px;\n",
              "    }\n",
              "\n",
              "    .colab-df-convert {\n",
              "      background-color: #E8F0FE;\n",
              "      border: none;\n",
              "      border-radius: 50%;\n",
              "      cursor: pointer;\n",
              "      display: none;\n",
              "      fill: #1967D2;\n",
              "      height: 32px;\n",
              "      padding: 0 0 0 0;\n",
              "      width: 32px;\n",
              "    }\n",
              "\n",
              "    .colab-df-convert:hover {\n",
              "      background-color: #E2EBFA;\n",
              "      box-shadow: 0px 1px 2px rgba(60, 64, 67, 0.3), 0px 1px 3px 1px rgba(60, 64, 67, 0.15);\n",
              "      fill: #174EA6;\n",
              "    }\n",
              "\n",
              "    [theme=dark] .colab-df-convert {\n",
              "      background-color: #3B4455;\n",
              "      fill: #D2E3FC;\n",
              "    }\n",
              "\n",
              "    [theme=dark] .colab-df-convert:hover {\n",
              "      background-color: #434B5C;\n",
              "      box-shadow: 0px 1px 3px 1px rgba(0, 0, 0, 0.15);\n",
              "      filter: drop-shadow(0px 1px 2px rgba(0, 0, 0, 0.3));\n",
              "      fill: #FFFFFF;\n",
              "    }\n",
              "  </style>\n",
              "\n",
              "      <script>\n",
              "        const buttonEl =\n",
              "          document.querySelector('#df-49d487aa-1604-4adc-b28b-e226b86acceb button.colab-df-convert');\n",
              "        buttonEl.style.display =\n",
              "          google.colab.kernel.accessAllowed ? 'block' : 'none';\n",
              "\n",
              "        async function convertToInteractive(key) {\n",
              "          const element = document.querySelector('#df-49d487aa-1604-4adc-b28b-e226b86acceb');\n",
              "          const dataTable =\n",
              "            await google.colab.kernel.invokeFunction('convertToInteractive',\n",
              "                                                     [key], {});\n",
              "          if (!dataTable) return;\n",
              "\n",
              "          const docLinkHtml = 'Like what you see? Visit the ' +\n",
              "            '<a target=\"_blank\" href=https://colab.research.google.com/notebooks/data_table.ipynb>data table notebook</a>'\n",
              "            + ' to learn more about interactive tables.';\n",
              "          element.innerHTML = '';\n",
              "          dataTable['output_type'] = 'display_data';\n",
              "          await google.colab.output.renderOutput(dataTable, element);\n",
              "          const docLink = document.createElement('div');\n",
              "          docLink.innerHTML = docLinkHtml;\n",
              "          element.appendChild(docLink);\n",
              "        }\n",
              "      </script>\n",
              "    </div>\n",
              "  </div>\n",
              "  "
            ]
          },
          "metadata": {},
          "execution_count": 41
        }
      ]
    },
    {
      "cell_type": "markdown",
      "source": [
        "## Add tokens for Defintions and Items"
      ],
      "metadata": {
        "id": "t4WyEMto7gza"
      }
    },
    {
      "cell_type": "code",
      "source": [
        "# add token columns \n",
        "CVA_df['Def_token'] = [text2token(clean_text(text)) for text in CVA_df.Definition]\n",
        "CVA_df['Item_token'] = [text2token(clean_text(text)) for text in CVA_df.Item]\n",
        "\n",
        "# OPTIONALLY drop text columns for Def+Item ...but lose **token_list** \n",
        "# CVA_df.drop(columns=['Definition', 'Item'])\n",
        "\n",
        "CVA_df.info()"
      ],
      "metadata": {
        "id": "BVEI9-yK7hT3",
        "outputId": "e3f265e2-21f8-4475-afde-8360e7aedc53",
        "colab": {
          "base_uri": "https://localhost:8080/"
        }
      },
      "execution_count": 42,
      "outputs": [
        {
          "output_type": "stream",
          "name": "stdout",
          "text": [
            "<class 'pandas.core.frame.DataFrame'>\n",
            "RangeIndex: 28076 entries, 0 to 28075\n",
            "Data columns (total 7 columns):\n",
            " #   Column      Non-Null Count  Dtype \n",
            "---  ------      --------------  ----- \n",
            " 0   Index       28076 non-null  int64 \n",
            " 1   Source      28076 non-null  int64 \n",
            " 2   Target      28076 non-null  int64 \n",
            " 3   Definition  28076 non-null  object\n",
            " 4   Item        28076 non-null  object\n",
            " 5   Def_token   28076 non-null  int64 \n",
            " 6   Item_token  28076 non-null  int64 \n",
            "dtypes: int64(5), object(2)\n",
            "memory usage: 1.5+ MB\n"
          ]
        }
      ]
    },
    {
      "cell_type": "code",
      "source": [
        "CVA_df"
      ],
      "metadata": {
        "id": "CZTekBp9_3ov",
        "outputId": "4b800ac4-e4bf-42db-d97c-7bc6aa544fac",
        "colab": {
          "base_uri": "https://localhost:8080/",
          "height": 537
        }
      },
      "execution_count": 43,
      "outputs": [
        {
          "output_type": "execute_result",
          "data": {
            "text/plain": [
              "       Index  Source  Target  \\\n",
              "0          0    2978       1   \n",
              "1          1    1056       0   \n",
              "2          2    9900       0   \n",
              "3          3    1015       0   \n",
              "4          4    2988       0   \n",
              "...      ...     ...     ...   \n",
              "28071  28071   12822       1   \n",
              "28072  28072    3350       1   \n",
              "28073  28073   13668       0   \n",
              "28074  28074    2361       1   \n",
              "28075  28075    3093       1   \n",
              "\n",
              "                                              Definition  \\\n",
              "0      People whose past behavior is consistent with ...   \n",
              "1                      Facilitation from work to school.   \n",
              "2      The telemarketers ranked from 1 (most importan...   \n",
              "3             Employees? sense of belongingness at work.   \n",
              "4      How attracted members were to the crew and the...   \n",
              "...                                                  ...   \n",
              "28071  How characteristic each of the attractiveness ...   \n",
              "28072  Participants' explanations for why the seller ...   \n",
              "28073  The extent to which the employee perceived the...   \n",
              "28074  Newcomers? belief that good alternative work e...   \n",
              "28075  Employees? perceptions of the interpersonal tr...   \n",
              "\n",
              "                                                    Item  Def_token  \\\n",
              "0      Have any of your current or previous partners ...       7060   \n",
              "1                I enjoy being a student on this campus.       1900   \n",
              "2                 To upgrade physical work environments.       9762   \n",
              "3      Helps others when it is clear their workload i...       1743   \n",
              "4      Managers rate each crew (low performance/high ...       2398   \n",
              "...                                                  ...        ...   \n",
              "28071                                              Wise.       2404   \n",
              "28072                            The buyer is persuasive       6839   \n",
              "28073  I have been able to express my views and feeli...       8996   \n",
              "28074  To what extent have other co-workers influence...       6453   \n",
              "28075                Employees? suggestions are ignored.       1722   \n",
              "\n",
              "       Item_token  \n",
              "0            2240  \n",
              "1            3550  \n",
              "2           10362  \n",
              "3            2342  \n",
              "4            5841  \n",
              "...           ...  \n",
              "28071       11294  \n",
              "28072        8420  \n",
              "28073        3955  \n",
              "28074       10551  \n",
              "28075        1749  \n",
              "\n",
              "[28076 rows x 7 columns]"
            ],
            "text/html": [
              "\n",
              "  <div id=\"df-b12954d1-023e-4cf6-abf7-d81af98bc509\">\n",
              "    <div class=\"colab-df-container\">\n",
              "      <div>\n",
              "<style scoped>\n",
              "    .dataframe tbody tr th:only-of-type {\n",
              "        vertical-align: middle;\n",
              "    }\n",
              "\n",
              "    .dataframe tbody tr th {\n",
              "        vertical-align: top;\n",
              "    }\n",
              "\n",
              "    .dataframe thead th {\n",
              "        text-align: right;\n",
              "    }\n",
              "</style>\n",
              "<table border=\"1\" class=\"dataframe\">\n",
              "  <thead>\n",
              "    <tr style=\"text-align: right;\">\n",
              "      <th></th>\n",
              "      <th>Index</th>\n",
              "      <th>Source</th>\n",
              "      <th>Target</th>\n",
              "      <th>Definition</th>\n",
              "      <th>Item</th>\n",
              "      <th>Def_token</th>\n",
              "      <th>Item_token</th>\n",
              "    </tr>\n",
              "  </thead>\n",
              "  <tbody>\n",
              "    <tr>\n",
              "      <th>0</th>\n",
              "      <td>0</td>\n",
              "      <td>2978</td>\n",
              "      <td>1</td>\n",
              "      <td>People whose past behavior is consistent with ...</td>\n",
              "      <td>Have any of your current or previous partners ...</td>\n",
              "      <td>7060</td>\n",
              "      <td>2240</td>\n",
              "    </tr>\n",
              "    <tr>\n",
              "      <th>1</th>\n",
              "      <td>1</td>\n",
              "      <td>1056</td>\n",
              "      <td>0</td>\n",
              "      <td>Facilitation from work to school.</td>\n",
              "      <td>I enjoy being a student on this campus.</td>\n",
              "      <td>1900</td>\n",
              "      <td>3550</td>\n",
              "    </tr>\n",
              "    <tr>\n",
              "      <th>2</th>\n",
              "      <td>2</td>\n",
              "      <td>9900</td>\n",
              "      <td>0</td>\n",
              "      <td>The telemarketers ranked from 1 (most importan...</td>\n",
              "      <td>To upgrade physical work environments.</td>\n",
              "      <td>9762</td>\n",
              "      <td>10362</td>\n",
              "    </tr>\n",
              "    <tr>\n",
              "      <th>3</th>\n",
              "      <td>3</td>\n",
              "      <td>1015</td>\n",
              "      <td>0</td>\n",
              "      <td>Employees? sense of belongingness at work.</td>\n",
              "      <td>Helps others when it is clear their workload i...</td>\n",
              "      <td>1743</td>\n",
              "      <td>2342</td>\n",
              "    </tr>\n",
              "    <tr>\n",
              "      <th>4</th>\n",
              "      <td>4</td>\n",
              "      <td>2988</td>\n",
              "      <td>0</td>\n",
              "      <td>How attracted members were to the crew and the...</td>\n",
              "      <td>Managers rate each crew (low performance/high ...</td>\n",
              "      <td>2398</td>\n",
              "      <td>5841</td>\n",
              "    </tr>\n",
              "    <tr>\n",
              "      <th>...</th>\n",
              "      <td>...</td>\n",
              "      <td>...</td>\n",
              "      <td>...</td>\n",
              "      <td>...</td>\n",
              "      <td>...</td>\n",
              "      <td>...</td>\n",
              "      <td>...</td>\n",
              "    </tr>\n",
              "    <tr>\n",
              "      <th>28071</th>\n",
              "      <td>28071</td>\n",
              "      <td>12822</td>\n",
              "      <td>1</td>\n",
              "      <td>How characteristic each of the attractiveness ...</td>\n",
              "      <td>Wise.</td>\n",
              "      <td>2404</td>\n",
              "      <td>11294</td>\n",
              "    </tr>\n",
              "    <tr>\n",
              "      <th>28072</th>\n",
              "      <td>28072</td>\n",
              "      <td>3350</td>\n",
              "      <td>1</td>\n",
              "      <td>Participants' explanations for why the seller ...</td>\n",
              "      <td>The buyer is persuasive</td>\n",
              "      <td>6839</td>\n",
              "      <td>8420</td>\n",
              "    </tr>\n",
              "    <tr>\n",
              "      <th>28073</th>\n",
              "      <td>28073</td>\n",
              "      <td>13668</td>\n",
              "      <td>0</td>\n",
              "      <td>The extent to which the employee perceived the...</td>\n",
              "      <td>I have been able to express my views and feeli...</td>\n",
              "      <td>8996</td>\n",
              "      <td>3955</td>\n",
              "    </tr>\n",
              "    <tr>\n",
              "      <th>28074</th>\n",
              "      <td>28074</td>\n",
              "      <td>2361</td>\n",
              "      <td>1</td>\n",
              "      <td>Newcomers? belief that good alternative work e...</td>\n",
              "      <td>To what extent have other co-workers influence...</td>\n",
              "      <td>6453</td>\n",
              "      <td>10551</td>\n",
              "    </tr>\n",
              "    <tr>\n",
              "      <th>28075</th>\n",
              "      <td>28075</td>\n",
              "      <td>3093</td>\n",
              "      <td>1</td>\n",
              "      <td>Employees? perceptions of the interpersonal tr...</td>\n",
              "      <td>Employees? suggestions are ignored.</td>\n",
              "      <td>1722</td>\n",
              "      <td>1749</td>\n",
              "    </tr>\n",
              "  </tbody>\n",
              "</table>\n",
              "<p>28076 rows × 7 columns</p>\n",
              "</div>\n",
              "      <button class=\"colab-df-convert\" onclick=\"convertToInteractive('df-b12954d1-023e-4cf6-abf7-d81af98bc509')\"\n",
              "              title=\"Convert this dataframe to an interactive table.\"\n",
              "              style=\"display:none;\">\n",
              "        \n",
              "  <svg xmlns=\"http://www.w3.org/2000/svg\" height=\"24px\"viewBox=\"0 0 24 24\"\n",
              "       width=\"24px\">\n",
              "    <path d=\"M0 0h24v24H0V0z\" fill=\"none\"/>\n",
              "    <path d=\"M18.56 5.44l.94 2.06.94-2.06 2.06-.94-2.06-.94-.94-2.06-.94 2.06-2.06.94zm-11 1L8.5 8.5l.94-2.06 2.06-.94-2.06-.94L8.5 2.5l-.94 2.06-2.06.94zm10 10l.94 2.06.94-2.06 2.06-.94-2.06-.94-.94-2.06-.94 2.06-2.06.94z\"/><path d=\"M17.41 7.96l-1.37-1.37c-.4-.4-.92-.59-1.43-.59-.52 0-1.04.2-1.43.59L10.3 9.45l-7.72 7.72c-.78.78-.78 2.05 0 2.83L4 21.41c.39.39.9.59 1.41.59.51 0 1.02-.2 1.41-.59l7.78-7.78 2.81-2.81c.8-.78.8-2.07 0-2.86zM5.41 20L4 18.59l7.72-7.72 1.47 1.35L5.41 20z\"/>\n",
              "  </svg>\n",
              "      </button>\n",
              "      \n",
              "  <style>\n",
              "    .colab-df-container {\n",
              "      display:flex;\n",
              "      flex-wrap:wrap;\n",
              "      gap: 12px;\n",
              "    }\n",
              "\n",
              "    .colab-df-convert {\n",
              "      background-color: #E8F0FE;\n",
              "      border: none;\n",
              "      border-radius: 50%;\n",
              "      cursor: pointer;\n",
              "      display: none;\n",
              "      fill: #1967D2;\n",
              "      height: 32px;\n",
              "      padding: 0 0 0 0;\n",
              "      width: 32px;\n",
              "    }\n",
              "\n",
              "    .colab-df-convert:hover {\n",
              "      background-color: #E2EBFA;\n",
              "      box-shadow: 0px 1px 2px rgba(60, 64, 67, 0.3), 0px 1px 3px 1px rgba(60, 64, 67, 0.15);\n",
              "      fill: #174EA6;\n",
              "    }\n",
              "\n",
              "    [theme=dark] .colab-df-convert {\n",
              "      background-color: #3B4455;\n",
              "      fill: #D2E3FC;\n",
              "    }\n",
              "\n",
              "    [theme=dark] .colab-df-convert:hover {\n",
              "      background-color: #434B5C;\n",
              "      box-shadow: 0px 1px 3px 1px rgba(0, 0, 0, 0.15);\n",
              "      filter: drop-shadow(0px 1px 2px rgba(0, 0, 0, 0.3));\n",
              "      fill: #FFFFFF;\n",
              "    }\n",
              "  </style>\n",
              "\n",
              "      <script>\n",
              "        const buttonEl =\n",
              "          document.querySelector('#df-b12954d1-023e-4cf6-abf7-d81af98bc509 button.colab-df-convert');\n",
              "        buttonEl.style.display =\n",
              "          google.colab.kernel.accessAllowed ? 'block' : 'none';\n",
              "\n",
              "        async function convertToInteractive(key) {\n",
              "          const element = document.querySelector('#df-b12954d1-023e-4cf6-abf7-d81af98bc509');\n",
              "          const dataTable =\n",
              "            await google.colab.kernel.invokeFunction('convertToInteractive',\n",
              "                                                     [key], {});\n",
              "          if (!dataTable) return;\n",
              "\n",
              "          const docLinkHtml = 'Like what you see? Visit the ' +\n",
              "            '<a target=\"_blank\" href=https://colab.research.google.com/notebooks/data_table.ipynb>data table notebook</a>'\n",
              "            + ' to learn more about interactive tables.';\n",
              "          element.innerHTML = '';\n",
              "          dataTable['output_type'] = 'display_data';\n",
              "          await google.colab.output.renderOutput(dataTable, element);\n",
              "          const docLink = document.createElement('div');\n",
              "          docLink.innerHTML = docLinkHtml;\n",
              "          element.appendChild(docLink);\n",
              "        }\n",
              "      </script>\n",
              "    </div>\n",
              "  </div>\n",
              "  "
            ]
          },
          "metadata": {},
          "execution_count": 43
        }
      ]
    },
    {
      "cell_type": "markdown",
      "source": [
        "Testing whether tokens are working...\n",
        "- If token = ```10551```, text = ```To what extent have other co-workers influence...```"
      ],
      "metadata": {
        "id": "HueabZT4grcR"
      }
    },
    {
      "cell_type": "code",
      "source": [
        "token2text(10551)"
      ],
      "metadata": {
        "id": "FkN2pwFC_8Iq",
        "outputId": "f80a288e-3438-4196-f6de-11a60c95be01",
        "colab": {
          "base_uri": "https://localhost:8080/",
          "height": 36
        }
      },
      "execution_count": 44,
      "outputs": [
        {
          "output_type": "execute_result",
          "data": {
            "text/plain": [
              "'To what extent have other coworkers influenced what you see as most important to learn'"
            ],
            "application/vnd.google.colaboratory.intrinsic+json": {
              "type": "string"
            }
          },
          "metadata": {},
          "execution_count": 44
        }
      ]
    },
    {
      "cell_type": "markdown",
      "source": [
        "## Encode token_text into embeddings"
      ],
      "metadata": {
        "id": "eTyYM5luze_d"
      }
    },
    {
      "cell_type": "markdown",
      "source": [
        "NOTE: \n",
        "- Each encoding is 384-dim vector into the BERT latent/embedding space\n",
        "- In CVA_df, there are 28,076 Def/Item pairs, requiring 2x28076 encodings\n",
        "- There are 11,608 unique Def/Item text strings in token_list\n",
        "- The result is an array of shape 11608 x 384 indexed by token value  \n",
        "...instead of 28076x2x384 array\n",
        "- Performing these 12K encodings in bulk takes only a few minutes - amazing!"
      ],
      "metadata": {
        "id": "IksBX0A-euT6"
      }
    },
    {
      "cell_type": "code",
      "source": [
        "token_list = token_df.token_text.tolist()\n",
        "embeddings = model.encode(token_list, show_progress_bar=True)\n",
        "embeddings.shape"
      ],
      "metadata": {
        "id": "zcYYD1qH-E1U",
        "outputId": "ed174bce-dc92-472d-e75f-e26ee5ef93a8",
        "colab": {
          "base_uri": "https://localhost:8080/",
          "height": 67,
          "referenced_widgets": [
            "a1d56ac8ace44c89a5d89b6f59fb2b7b",
            "4b01e9442e92459b9089ae71f27cb42e",
            "bc4b24f9bebc4958a79834d655c0190c",
            "42e2de429bae4910a37e4be5a551f1ab",
            "e0e37ec5ad914e2ea437e9bc8f6013ac",
            "7c863270cacf40f58922486bd604279c",
            "553ac47d0c524de9939c9c5205186f6f",
            "0b075d8165a34b569c2ed806e236f977",
            "db0e6ea9758b48ff97d41e95006013ba",
            "2103483273dd4fc8acf262fb576f238b",
            "3fda0577aa6f47caa863858b8a306eab"
          ]
        }
      },
      "execution_count": 45,
      "outputs": [
        {
          "output_type": "display_data",
          "data": {
            "text/plain": [
              "Batches:   0%|          | 0/360 [00:00<?, ?it/s]"
            ],
            "application/vnd.jupyter.widget-view+json": {
              "version_major": 2,
              "version_minor": 0,
              "model_id": "a1d56ac8ace44c89a5d89b6f59fb2b7b"
            }
          },
          "metadata": {}
        },
        {
          "output_type": "execute_result",
          "data": {
            "text/plain": [
              "(11507, 384)"
            ]
          },
          "metadata": {},
          "execution_count": 45
        }
      ]
    },
    {
      "cell_type": "markdown",
      "source": [
        "Save embeddings as ```encoding``` as new column in token_df"
      ],
      "metadata": {
        "id": "IUJqDPieDxnd"
      }
    },
    {
      "cell_type": "code",
      "source": [
        "token_df['encoding'] = list(embeddings)"
      ],
      "metadata": {
        "id": "mNQ4RemGHoQ9"
      },
      "execution_count": 46,
      "outputs": []
    },
    {
      "cell_type": "markdown",
      "source": [
        "Examine the revised token dataframe"
      ],
      "metadata": {
        "id": "W20N4lY3ef1n"
      }
    },
    {
      "cell_type": "code",
      "source": [
        "token_df.info(), token_df"
      ],
      "metadata": {
        "id": "ZiWwi3S4EmIx",
        "outputId": "f352ee54-6670-4d84-e27b-cba7437ffe9b",
        "colab": {
          "base_uri": "https://localhost:8080/"
        }
      },
      "execution_count": 47,
      "outputs": [
        {
          "output_type": "stream",
          "name": "stdout",
          "text": [
            "<class 'pandas.core.frame.DataFrame'>\n",
            "RangeIndex: 11507 entries, 0 to 11506\n",
            "Data columns (total 2 columns):\n",
            " #   Column      Non-Null Count  Dtype \n",
            "---  ------      --------------  ----- \n",
            " 0   token_text  11507 non-null  object\n",
            " 1   encoding    11507 non-null  object\n",
            "dtypes: object(2)\n",
            "memory usage: 179.9+ KB\n"
          ]
        },
        {
          "output_type": "execute_result",
          "data": {
            "text/plain": [
              "(None,                                               token_text  \\\n",
              " 0      A CEOs perceived ability to provide valuable h...   \n",
              " 1      A behavior syndrome in which an individual ado...   \n",
              " 2      A behavioral observation scale for appraising ...   \n",
              " 3      A belief in ones capability to accomplish succ...   \n",
              " 4        A belief that ability is fixed and unchangeable   \n",
              " ...                                                  ...   \n",
              " 11502  the fit between the requirements of ones role ...   \n",
              " 11503  this last year I have had opportunities at wor...   \n",
              " 11504                                very strongly agree   \n",
              " 11505  voluntary actual withdrawal from the organization   \n",
              " 11506            well below average 5 well above average   \n",
              " \n",
              "                                                 encoding  \n",
              " 0      [0.03299552, 0.0003685815, 0.042408034, -0.049...  \n",
              " 1      [0.0138665335, 0.04801447, -0.0328765, 0.03009...  \n",
              " 2      [0.005355214, 0.052194264, -0.06584072, 0.0142...  \n",
              " 3      [-0.013321939, -0.0022369432, -0.0027794803, -...  \n",
              " 4      [-0.03419767, -0.0105969235, -0.045369353, 0.0...  \n",
              " ...                                                  ...  \n",
              " 11502  [0.062839404, 0.059090268, -0.034046922, -0.02...  \n",
              " 11503  [0.03224144, -0.027434688, 0.032654654, 0.0646...  \n",
              " 11504  [-0.025932878, 0.025362417, 0.038599156, -0.11...  \n",
              " 11505  [0.010117527, 0.04009168, 0.009271976, 0.00169...  \n",
              " 11506  [0.0421563, -0.060738213, 0.0898992, 0.0324719...  \n",
              " \n",
              " [11507 rows x 2 columns])"
            ]
          },
          "metadata": {},
          "execution_count": 47
        }
      ]
    },
    {
      "cell_type": "markdown",
      "source": [
        "##Compute Simularity metrics "
      ],
      "metadata": {
        "id": "pSu61kAnAXBr"
      }
    },
    {
      "cell_type": "markdown",
      "source": [
        "NOTE: When using encodings from token_df...\n",
        "- taking values of encoding column is 1D array of 1D arrays\n",
        "- this is confusing, but easy if you simply use double-indexing [i][j]\n",
        "```\n",
        ">>> enc = token_df.encoding.values\n",
        ">>> type(enc), enc.shape, type(enc[0]), enc[0].shape, enc[0][0]\n",
        "(numpy.ndarray, (11507,), numpy.ndarray, (384,), 0.03299552)\n",
        "```\n"
      ],
      "metadata": {
        "id": "--Ww-v1Aajx7"
      }
    },
    {
      "cell_type": "code",
      "source": [
        "# grab embeddings from token_df as list of arrays\n",
        "embed = token_df.encoding.values\n",
        "\n",
        "# allocate the metric arrays\n",
        "cos_sim = np.empty(len(CVA_df),)\n",
        "euc_sim = np.empty(len(CVA_df),)\n",
        "\n",
        "# loop thru all Defintion/Item pairs in CVA_df\n",
        "for i, pair in enumerate(CVA_df[['Def_token', 'Item_token']].values):\n",
        "\n",
        "    # find embeddings for pair & reshape to...\n",
        "    #   (no of samples = 1, 384-dim embed vector)\n",
        "    e1 = embed[pair[0]].reshape(1, -1)\n",
        "    e2 = embed[pair[1]].reshape(1, -1)\n",
        "\n",
        "    # calculate metrics\n",
        "    cos_sim[i] = cosine_similarity(e1, e2)\n",
        "    euc_sim[i] = euclidean_distances(e1, e2)"
      ],
      "metadata": {
        "id": "yF78z5k7AZIV"
      },
      "execution_count": 48,
      "outputs": []
    },
    {
      "cell_type": "markdown",
      "source": [
        "Insert new columns for metrics\n",
        "- TODO: save space with int32 & float32\n",
        "- REMEMBER: Def+Item string in CVA_df != token_text string in token_df"
      ],
      "metadata": {
        "id": "Y_Wymqe1ckah"
      }
    },
    {
      "cell_type": "code",
      "source": [
        "CVA_df['Cos_Sim'] = cos_sim.tolist()    # append COS similarity as new column\n",
        "CVA_df['Euc_Sim'] = euc_sim.tolist()    # append EUC similarity as new column\n",
        "\n",
        "embeddings.shape, cos_sim.shape, CVA_df.info()"
      ],
      "metadata": {
        "id": "MPPywH4EU3kF",
        "outputId": "e9842c83-2067-44b9-d8fa-91b8eca7ade9",
        "colab": {
          "base_uri": "https://localhost:8080/"
        }
      },
      "execution_count": 49,
      "outputs": [
        {
          "output_type": "stream",
          "name": "stdout",
          "text": [
            "<class 'pandas.core.frame.DataFrame'>\n",
            "RangeIndex: 28076 entries, 0 to 28075\n",
            "Data columns (total 9 columns):\n",
            " #   Column      Non-Null Count  Dtype  \n",
            "---  ------      --------------  -----  \n",
            " 0   Index       28076 non-null  int64  \n",
            " 1   Source      28076 non-null  int64  \n",
            " 2   Target      28076 non-null  int64  \n",
            " 3   Definition  28076 non-null  object \n",
            " 4   Item        28076 non-null  object \n",
            " 5   Def_token   28076 non-null  int64  \n",
            " 6   Item_token  28076 non-null  int64  \n",
            " 7   Cos_Sim     28076 non-null  float64\n",
            " 8   Euc_Sim     28076 non-null  float64\n",
            "dtypes: float64(2), int64(5), object(2)\n",
            "memory usage: 1.9+ MB\n"
          ]
        },
        {
          "output_type": "execute_result",
          "data": {
            "text/plain": [
              "((11507, 384), (28076,), None)"
            ]
          },
          "metadata": {},
          "execution_count": 49
        }
      ]
    },
    {
      "cell_type": "markdown",
      "metadata": {
        "id": "0OIxTbFxWPpV"
      },
      "source": [
        "# Split into 80/20 Train/Validate\n",
        "\n",
        "NOTE: This Train/Validate split may NOT be needed b/c Target labels are ignore  \n",
        "within this pre-trained self-supervised BERT model. Needs discussion!"
      ]
    },
    {
      "cell_type": "markdown",
      "source": [
        "- split based on Source groups of Def-Items\n",
        "- create list of unique Sources\n",
        "- random shuffle of Sources\n",
        "- find split cut-point at ```split_ratio = 0.8```\n",
        "- add new column ```is_train``` as True/False or 1/0"
      ],
      "metadata": {
        "id": "d0sVXCexiTLs"
      }
    },
    {
      "cell_type": "code",
      "execution_count": 59,
      "metadata": {
        "colab": {
          "base_uri": "https://localhost:8080/"
        },
        "id": "EkjQCiyIXk4Q",
        "outputId": "5aeb833a-6b79-4684-aa01-33bd78a29bcf"
      },
      "outputs": [
        {
          "output_type": "stream",
          "name": "stdout",
          "text": [
            "<class 'pandas.core.frame.DataFrame'>\n",
            "RangeIndex: 28076 entries, 0 to 28075\n",
            "Data columns (total 10 columns):\n",
            " #   Column      Non-Null Count  Dtype  \n",
            "---  ------      --------------  -----  \n",
            " 0   Index       28076 non-null  int64  \n",
            " 1   Source      28076 non-null  int64  \n",
            " 2   Target      28076 non-null  int64  \n",
            " 3   Definition  28076 non-null  object \n",
            " 4   Item        28076 non-null  object \n",
            " 5   Def_token   28076 non-null  int64  \n",
            " 6   Item_token  28076 non-null  int64  \n",
            " 7   Cos_Sim     28076 non-null  float64\n",
            " 8   Euc_Sim     28076 non-null  float64\n",
            " 9   is_train    28076 non-null  bool   \n",
            "dtypes: bool(1), float64(2), int64(5), object(2)\n",
            "memory usage: 2.0+ MB\n"
          ]
        }
      ],
      "source": [
        "# set split ratio\n",
        "split_ratio = 0.8\n",
        "\n",
        "# find unique SourceId values\n",
        "unique_Source = CVA_df.Source.unique()\n",
        "\n",
        "# find split cut-point\n",
        "split_Source = int(split_ratio * len(unique_Source))+1\n",
        "\n",
        "# randomly shuffe & convert array -> list\n",
        "np.random.shuffle(unique_Source)\n",
        "SourceId_list = list(unique_Source)\n",
        "\n",
        "# create list of Sources for train set\n",
        "train_SourceIds = SourceId_list[:split_Source]\n",
        "\n",
        "# create boolean list for is_train\n",
        "is_train_list = [True if Source in train_SourceIds else False \n",
        "                 for Source in CVA_df.Source.values]\n",
        "\n",
        "# insert new column \n",
        "CVA_df['is_train'] = is_train_list\n",
        "\n",
        "CVA_df.info()"
      ]
    },
    {
      "cell_type": "markdown",
      "metadata": {
        "id": "42_NegRoKp-y"
      },
      "source": [
        "## Examine Train/Valid split\n",
        "\n",
        "- If sigificantly different from 80/20 ratio, can re-shuffe above\n",
        "- TODO check for valid results amid the shuffle\n",
        "- TODO set random seed for reproductable results"
      ]
    },
    {
      "cell_type": "code",
      "execution_count": 69,
      "metadata": {
        "colab": {
          "base_uri": "https://localhost:8080/"
        },
        "id": "mPfqic-3Kq1h",
        "outputId": "08fe4e27-b1a1-4e58-b7f1-ffb889bc2eb5"
      },
      "outputs": [
        {
          "output_type": "stream",
          "name": "stdout",
          "text": [
            ">>> Count of all data rows = 28,076\n",
            ">>> Count of unique Sources = 833 split 80%/20% into Train/Valid of {lst} {lsv}\n",
            ">>> Count of Train/Valid rows = 22,783 (81.1%) and {lv} ({lv/(lt+lv):.1%}) with total = {lt+lv:,d}\n"
          ]
        }
      ],
      "source": [
        "ld = len(CVA_df)\n",
        "ls = CVA_df.Source.nunique()\n",
        "lst = len(train_SourceIds)\n",
        "lsv = ls - lst\n",
        "lt = sum(CVA_df.is_train)\n",
        "lv = ld - lt\n",
        "\n",
        "print(f\">>> Count of all data rows = {ld:,d}\")\n",
        "print(f\">>> Count of unique Sources = {ls} split {lst/(ls):.0%}/{lsv/(ls):.0%} \" + \n",
        "      \"into Train/Valid of {lst} {lsv}\")\n",
        "print(f\">>> Count of Train/Valid rows = {lt:,d} ({lt/(lt+lv):.1%}) and \" + \n",
        "      \"{lv} ({lv/(lt+lv):.1%}) with total = {lt+lv:,d}\")"
      ]
    },
    {
      "cell_type": "markdown",
      "metadata": {
        "id": "jqABDAzjhSzK"
      },
      "source": [
        "# Save results to gDrive"
      ]
    },
    {
      "cell_type": "markdown",
      "metadata": {
        "id": "M5sAlgnwq5lj"
      },
      "source": [
        "Mount gDrive and create folders"
      ]
    },
    {
      "cell_type": "code",
      "execution_count": 71,
      "metadata": {
        "colab": {
          "base_uri": "https://localhost:8080/"
        },
        "id": "EskSirphhTUN",
        "outputId": "d709434e-9edf-4bdc-9b89-8f31e3f3d748"
      },
      "outputs": [
        {
          "output_type": "stream",
          "name": "stdout",
          "text": [
            "Drive already mounted at /content/drive; to attempt to forcibly remount, call drive.mount(\"/content/drive\", force_remount=True).\n"
          ]
        }
      ],
      "source": [
        "##### Only execute to save results\n",
        "import os.path\n",
        "from os import path\n",
        "from time import strftime, localtime\n",
        "from google.colab import drive\n",
        "\n",
        "if USE_GDRIVE: \n",
        "    drive.mount('/content/drive')   # ignore warning if already mounted\n",
        "\n",
        "    BASE_PATH = '/content/drive/MyDrive/CVA-SBERT/'\n",
        "    EXP_PATH = BASE_PATH + 'Analysis-' + strftime(\"%Y%m%d-%H%M%S\", localtime())\n",
        "\n",
        "    if path.exists(BASE_PATH) == False:\n",
        "        os.mkdir(BASE_PATH)\n",
        "    if path.exists(EXP_PATH) == False:\n",
        "        os.mkdir(EXP_PATH)"
      ]
    },
    {
      "cell_type": "markdown",
      "metadata": {
        "id": "T__7GvgytGk3"
      },
      "source": [
        "\n",
        "Save Train/Valid datasets "
      ]
    },
    {
      "cell_type": "code",
      "execution_count": 74,
      "metadata": {
        "id": "i5CM_-q_kpAN"
      },
      "outputs": [],
      "source": [
        "# Save dataframes to gDrive ...IF exists EXP_PATH with USE_GDRIVE=TRUE\n",
        "\n",
        "if USE_GDRIVE and 'EXP_PATH' in globals():\n",
        "\n",
        "    CVA_df.to_pickle(EXP_PATH + '/CVA_df.pkl')\n",
        "    token_df.to_pickle(EXP_PATH + '/token_df.pkl')"
      ]
    },
    {
      "cell_type": "code",
      "execution_count": null,
      "metadata": {
        "id": "wZu9Ipju_X6a"
      },
      "outputs": [],
      "source": [
        "# Reload data from gDrive ...IF exists EXP_PATH with USE_GDRIVE=TRUE\n",
        "\n",
        "if USE_GDRIVE and 'EXP_PATH' in globals():\n",
        "\n",
        "    CVA_df = pd.read_pickle(EXP_PATH + '/CVA_df.pkl')\n",
        "    token_df = pd.read_pickle(EXP_PATH + '/token_df.pkl')"
      ]
    }
  ],
  "metadata": {
    "colab": {
      "provenance": []
    },
    "kernelspec": {
      "display_name": "Python 3.8.12 ('ESSL')",
      "language": "python",
      "name": "python3"
    },
    "language_info": {
      "name": "python",
      "version": "3.8.12"
    },
    "vscode": {
      "interpreter": {
        "hash": "033f8c6fda077bd21b7ae1b6f69c8e3d2300139e3a7502197592234d857a2a7b"
      }
    },
    "widgets": {
      "application/vnd.jupyter.widget-state+json": {
        "a1d56ac8ace44c89a5d89b6f59fb2b7b": {
          "model_module": "@jupyter-widgets/controls",
          "model_name": "HBoxModel",
          "model_module_version": "1.5.0",
          "state": {
            "_dom_classes": [],
            "_model_module": "@jupyter-widgets/controls",
            "_model_module_version": "1.5.0",
            "_model_name": "HBoxModel",
            "_view_count": null,
            "_view_module": "@jupyter-widgets/controls",
            "_view_module_version": "1.5.0",
            "_view_name": "HBoxView",
            "box_style": "",
            "children": [
              "IPY_MODEL_4b01e9442e92459b9089ae71f27cb42e",
              "IPY_MODEL_bc4b24f9bebc4958a79834d655c0190c",
              "IPY_MODEL_42e2de429bae4910a37e4be5a551f1ab"
            ],
            "layout": "IPY_MODEL_e0e37ec5ad914e2ea437e9bc8f6013ac"
          }
        },
        "4b01e9442e92459b9089ae71f27cb42e": {
          "model_module": "@jupyter-widgets/controls",
          "model_name": "HTMLModel",
          "model_module_version": "1.5.0",
          "state": {
            "_dom_classes": [],
            "_model_module": "@jupyter-widgets/controls",
            "_model_module_version": "1.5.0",
            "_model_name": "HTMLModel",
            "_view_count": null,
            "_view_module": "@jupyter-widgets/controls",
            "_view_module_version": "1.5.0",
            "_view_name": "HTMLView",
            "description": "",
            "description_tooltip": null,
            "layout": "IPY_MODEL_7c863270cacf40f58922486bd604279c",
            "placeholder": "​",
            "style": "IPY_MODEL_553ac47d0c524de9939c9c5205186f6f",
            "value": "Batches: 100%"
          }
        },
        "bc4b24f9bebc4958a79834d655c0190c": {
          "model_module": "@jupyter-widgets/controls",
          "model_name": "FloatProgressModel",
          "model_module_version": "1.5.0",
          "state": {
            "_dom_classes": [],
            "_model_module": "@jupyter-widgets/controls",
            "_model_module_version": "1.5.0",
            "_model_name": "FloatProgressModel",
            "_view_count": null,
            "_view_module": "@jupyter-widgets/controls",
            "_view_module_version": "1.5.0",
            "_view_name": "ProgressView",
            "bar_style": "success",
            "description": "",
            "description_tooltip": null,
            "layout": "IPY_MODEL_0b075d8165a34b569c2ed806e236f977",
            "max": 360,
            "min": 0,
            "orientation": "horizontal",
            "style": "IPY_MODEL_db0e6ea9758b48ff97d41e95006013ba",
            "value": 360
          }
        },
        "42e2de429bae4910a37e4be5a551f1ab": {
          "model_module": "@jupyter-widgets/controls",
          "model_name": "HTMLModel",
          "model_module_version": "1.5.0",
          "state": {
            "_dom_classes": [],
            "_model_module": "@jupyter-widgets/controls",
            "_model_module_version": "1.5.0",
            "_model_name": "HTMLModel",
            "_view_count": null,
            "_view_module": "@jupyter-widgets/controls",
            "_view_module_version": "1.5.0",
            "_view_name": "HTMLView",
            "description": "",
            "description_tooltip": null,
            "layout": "IPY_MODEL_2103483273dd4fc8acf262fb576f238b",
            "placeholder": "​",
            "style": "IPY_MODEL_3fda0577aa6f47caa863858b8a306eab",
            "value": " 360/360 [01:50&lt;00:00, 11.23it/s]"
          }
        },
        "e0e37ec5ad914e2ea437e9bc8f6013ac": {
          "model_module": "@jupyter-widgets/base",
          "model_name": "LayoutModel",
          "model_module_version": "1.2.0",
          "state": {
            "_model_module": "@jupyter-widgets/base",
            "_model_module_version": "1.2.0",
            "_model_name": "LayoutModel",
            "_view_count": null,
            "_view_module": "@jupyter-widgets/base",
            "_view_module_version": "1.2.0",
            "_view_name": "LayoutView",
            "align_content": null,
            "align_items": null,
            "align_self": null,
            "border": null,
            "bottom": null,
            "display": null,
            "flex": null,
            "flex_flow": null,
            "grid_area": null,
            "grid_auto_columns": null,
            "grid_auto_flow": null,
            "grid_auto_rows": null,
            "grid_column": null,
            "grid_gap": null,
            "grid_row": null,
            "grid_template_areas": null,
            "grid_template_columns": null,
            "grid_template_rows": null,
            "height": null,
            "justify_content": null,
            "justify_items": null,
            "left": null,
            "margin": null,
            "max_height": null,
            "max_width": null,
            "min_height": null,
            "min_width": null,
            "object_fit": null,
            "object_position": null,
            "order": null,
            "overflow": null,
            "overflow_x": null,
            "overflow_y": null,
            "padding": null,
            "right": null,
            "top": null,
            "visibility": null,
            "width": null
          }
        },
        "7c863270cacf40f58922486bd604279c": {
          "model_module": "@jupyter-widgets/base",
          "model_name": "LayoutModel",
          "model_module_version": "1.2.0",
          "state": {
            "_model_module": "@jupyter-widgets/base",
            "_model_module_version": "1.2.0",
            "_model_name": "LayoutModel",
            "_view_count": null,
            "_view_module": "@jupyter-widgets/base",
            "_view_module_version": "1.2.0",
            "_view_name": "LayoutView",
            "align_content": null,
            "align_items": null,
            "align_self": null,
            "border": null,
            "bottom": null,
            "display": null,
            "flex": null,
            "flex_flow": null,
            "grid_area": null,
            "grid_auto_columns": null,
            "grid_auto_flow": null,
            "grid_auto_rows": null,
            "grid_column": null,
            "grid_gap": null,
            "grid_row": null,
            "grid_template_areas": null,
            "grid_template_columns": null,
            "grid_template_rows": null,
            "height": null,
            "justify_content": null,
            "justify_items": null,
            "left": null,
            "margin": null,
            "max_height": null,
            "max_width": null,
            "min_height": null,
            "min_width": null,
            "object_fit": null,
            "object_position": null,
            "order": null,
            "overflow": null,
            "overflow_x": null,
            "overflow_y": null,
            "padding": null,
            "right": null,
            "top": null,
            "visibility": null,
            "width": null
          }
        },
        "553ac47d0c524de9939c9c5205186f6f": {
          "model_module": "@jupyter-widgets/controls",
          "model_name": "DescriptionStyleModel",
          "model_module_version": "1.5.0",
          "state": {
            "_model_module": "@jupyter-widgets/controls",
            "_model_module_version": "1.5.0",
            "_model_name": "DescriptionStyleModel",
            "_view_count": null,
            "_view_module": "@jupyter-widgets/base",
            "_view_module_version": "1.2.0",
            "_view_name": "StyleView",
            "description_width": ""
          }
        },
        "0b075d8165a34b569c2ed806e236f977": {
          "model_module": "@jupyter-widgets/base",
          "model_name": "LayoutModel",
          "model_module_version": "1.2.0",
          "state": {
            "_model_module": "@jupyter-widgets/base",
            "_model_module_version": "1.2.0",
            "_model_name": "LayoutModel",
            "_view_count": null,
            "_view_module": "@jupyter-widgets/base",
            "_view_module_version": "1.2.0",
            "_view_name": "LayoutView",
            "align_content": null,
            "align_items": null,
            "align_self": null,
            "border": null,
            "bottom": null,
            "display": null,
            "flex": null,
            "flex_flow": null,
            "grid_area": null,
            "grid_auto_columns": null,
            "grid_auto_flow": null,
            "grid_auto_rows": null,
            "grid_column": null,
            "grid_gap": null,
            "grid_row": null,
            "grid_template_areas": null,
            "grid_template_columns": null,
            "grid_template_rows": null,
            "height": null,
            "justify_content": null,
            "justify_items": null,
            "left": null,
            "margin": null,
            "max_height": null,
            "max_width": null,
            "min_height": null,
            "min_width": null,
            "object_fit": null,
            "object_position": null,
            "order": null,
            "overflow": null,
            "overflow_x": null,
            "overflow_y": null,
            "padding": null,
            "right": null,
            "top": null,
            "visibility": null,
            "width": null
          }
        },
        "db0e6ea9758b48ff97d41e95006013ba": {
          "model_module": "@jupyter-widgets/controls",
          "model_name": "ProgressStyleModel",
          "model_module_version": "1.5.0",
          "state": {
            "_model_module": "@jupyter-widgets/controls",
            "_model_module_version": "1.5.0",
            "_model_name": "ProgressStyleModel",
            "_view_count": null,
            "_view_module": "@jupyter-widgets/base",
            "_view_module_version": "1.2.0",
            "_view_name": "StyleView",
            "bar_color": null,
            "description_width": ""
          }
        },
        "2103483273dd4fc8acf262fb576f238b": {
          "model_module": "@jupyter-widgets/base",
          "model_name": "LayoutModel",
          "model_module_version": "1.2.0",
          "state": {
            "_model_module": "@jupyter-widgets/base",
            "_model_module_version": "1.2.0",
            "_model_name": "LayoutModel",
            "_view_count": null,
            "_view_module": "@jupyter-widgets/base",
            "_view_module_version": "1.2.0",
            "_view_name": "LayoutView",
            "align_content": null,
            "align_items": null,
            "align_self": null,
            "border": null,
            "bottom": null,
            "display": null,
            "flex": null,
            "flex_flow": null,
            "grid_area": null,
            "grid_auto_columns": null,
            "grid_auto_flow": null,
            "grid_auto_rows": null,
            "grid_column": null,
            "grid_gap": null,
            "grid_row": null,
            "grid_template_areas": null,
            "grid_template_columns": null,
            "grid_template_rows": null,
            "height": null,
            "justify_content": null,
            "justify_items": null,
            "left": null,
            "margin": null,
            "max_height": null,
            "max_width": null,
            "min_height": null,
            "min_width": null,
            "object_fit": null,
            "object_position": null,
            "order": null,
            "overflow": null,
            "overflow_x": null,
            "overflow_y": null,
            "padding": null,
            "right": null,
            "top": null,
            "visibility": null,
            "width": null
          }
        },
        "3fda0577aa6f47caa863858b8a306eab": {
          "model_module": "@jupyter-widgets/controls",
          "model_name": "DescriptionStyleModel",
          "model_module_version": "1.5.0",
          "state": {
            "_model_module": "@jupyter-widgets/controls",
            "_model_module_version": "1.5.0",
            "_model_name": "DescriptionStyleModel",
            "_view_count": null,
            "_view_module": "@jupyter-widgets/base",
            "_view_module_version": "1.2.0",
            "_view_name": "StyleView",
            "description_width": ""
          }
        }
      }
    }
  },
  "nbformat": 4,
  "nbformat_minor": 0
}