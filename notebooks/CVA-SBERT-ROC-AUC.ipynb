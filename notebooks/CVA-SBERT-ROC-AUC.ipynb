{
  "cells": [
    {
      "cell_type": "markdown",
      "source": [
        "# Analyzes ROC & AUC using similarity metrics for valid_data. \n",
        "\n",
        "- [ ] change SetUp to generate train_SouDef + train_Item df plus their valid_data versions\n",
        "- [ ] change YourOwn to optionally load the extra train/valid df\n",
        "- [ ] copy YourOwn to CM-AUC notebook\n",
        "- [ ] create binary classifier using average or median sim scores on ONLY train\n",
        "- [ ] create CM for valid df and plot\n",
        "- [ ] create AUC + PrecisionRecall and plot"
      ],
      "metadata": {
        "id": "Ps4LDam0XMic"
      }
    },
    {
      "cell_type": "markdown",
      "metadata": {
        "id": "AZSRG_0rm3t9"
      },
      "source": [
        "# Setup Environment"
      ]
    },
    {
      "cell_type": "markdown",
      "source": [
        "## Set Notebook Parameters"
      ],
      "metadata": {
        "id": "v4HpIXy15osX"
      }
    },
    {
      "cell_type": "code",
      "source": [
        "# use gDrive if you previously saved train_data, etc.\n",
        "# otherwise, use pre-generated data from repos (Default)\n",
        "USE_GDRIVE = False\n",
        "\n",
        "# if using gDrive, then the path to the checkpoint folder must be specified.\n",
        "# After mounting your gDrive, view /content/drive and \"copy path\" to FOLDER, like...\n",
        "CP_PATH = '/content/drive/MyDrive/CVA-SBERT-Analyses/20221119-183356' # something like this\n",
        "\n",
        "# save analysis plots if customized\n",
        "SAVE_PLOT = False"
      ],
      "metadata": {
        "id": "xLjXg6zv5tUY"
      },
      "execution_count": 1,
      "outputs": []
    },
    {
      "cell_type": "markdown",
      "metadata": {
        "id": "hzoUz1FwWVvd"
      },
      "source": [
        "## Import various packages\n"
      ]
    },
    {
      "cell_type": "code",
      "execution_count": 2,
      "metadata": {
        "id": "bok6iQwnoy_f"
      },
      "outputs": [],
      "source": [
        "import pandas as pd\n",
        "import numpy as np"
      ]
    },
    {
      "cell_type": "markdown",
      "metadata": {
        "id": "zd1FLW2gVfAa"
      },
      "source": [
        "## Clone CVA-SBERT GitHub or mount gDrive"
      ]
    },
    {
      "cell_type": "code",
      "execution_count": 7,
      "metadata": {
        "colab": {
          "base_uri": "https://localhost:8080/"
        },
        "id": "vdnQd5jXVotB",
        "outputId": "24fb3d48-d905-49e5-ab7e-0fb0009aec5f"
      },
      "outputs": [
        {
          "output_type": "stream",
          "name": "stdout",
          "text": [
            "fatal: destination path 'CVA-SBERT' already exists and is not an empty directory.\n"
          ]
        }
      ],
      "source": [
        "import os.path\n",
        "from os import path\n",
        "from time import strftime, localtime\n",
        "from google.colab import drive\n",
        "\n",
        "if USE_GDRIVE:\n",
        "    drive.mount('/content/drive')           # mount gDrive\n",
        "\n",
        "else:\n",
        "    !git clone https://github.com/Hackathorn/CVA-SBERT  # clone repo\n",
        "    CP_PATH = '/content/CVA-SBERT/data/post_setup_data'"
      ]
    },
    {
      "cell_type": "markdown",
      "source": [
        "## Read CVA datasets into ```train_data``` dataframe"
      ],
      "metadata": {
        "id": "2hm3JjxQhrY-"
      }
    },
    {
      "cell_type": "code",
      "source": [
        "train_data = pd.read_csv(CP_PATH+'/train_data.csv')\n",
        "train_data"
      ],
      "metadata": {
        "id": "cgpcSDJqWC1f",
        "outputId": "5bb27c73-699a-4f61-8226-e236abbb514c",
        "colab": {
          "base_uri": "https://localhost:8080/",
          "height": 423
        }
      },
      "execution_count": 8,
      "outputs": [
        {
          "output_type": "execute_result",
          "data": {
            "text/plain": [
              "       DataId  SourceId  Target  \\\n",
              "0           0      2978       1   \n",
              "1           1      1056       0   \n",
              "2           3      1015       0   \n",
              "3           4      2988       0   \n",
              "4           7      3130       0   \n",
              "...       ...       ...     ...   \n",
              "23030   28070     12341       0   \n",
              "23031   28071     12822       1   \n",
              "23032   28072      3350       1   \n",
              "23033   28074      2361       1   \n",
              "23034   28075      3093       1   \n",
              "\n",
              "                                              Definition  \\\n",
              "0      People whose past behavior is consistent with ...   \n",
              "1                      Facilitation from work to school.   \n",
              "2             Employees? sense of belongingness at work.   \n",
              "3      How attracted members were to the crew and the...   \n",
              "4                                Things Manny didn?t do.   \n",
              "...                                                  ...   \n",
              "23030  The extent to which reputations were observabl...   \n",
              "23031  How characteristic each of the attractiveness ...   \n",
              "23032  Participants' explanations for why the seller ...   \n",
              "23033  Newcomers? belief that good alternative work e...   \n",
              "23034  Employees? perceptions of the interpersonal tr...   \n",
              "\n",
              "                                                    Item   Cos_Sim   Euc_Sim  \n",
              "0      Have any of your current or previous partners ...  0.183756  1.277688  \n",
              "1                I enjoy being a student on this campus.  0.292208  1.189783  \n",
              "2      Helps others when it is clear their workload i...  0.322255  1.164255  \n",
              "3      Managers rate each crew (low performance/high ...  0.446235  1.052393  \n",
              "4       Did Manny tear the book while he was reading it?  0.565577  0.932119  \n",
              "...                                                  ...       ...       ...  \n",
              "23030  The project required close working relationshi...  0.213506  1.254188  \n",
              "23031                                              Wise.  0.147961  1.305403  \n",
              "23032                            The buyer is persuasive  0.569600  0.927793  \n",
              "23033  To what extent have other co-workers influence...  0.447036  1.051631  \n",
              "23034                Employees? suggestions are ignored.  0.443676  1.054822  \n",
              "\n",
              "[23035 rows x 7 columns]"
            ],
            "text/html": [
              "\n",
              "  <div id=\"df-2c17375f-fa1c-46e0-bfdc-f0caf2759483\">\n",
              "    <div class=\"colab-df-container\">\n",
              "      <div>\n",
              "<style scoped>\n",
              "    .dataframe tbody tr th:only-of-type {\n",
              "        vertical-align: middle;\n",
              "    }\n",
              "\n",
              "    .dataframe tbody tr th {\n",
              "        vertical-align: top;\n",
              "    }\n",
              "\n",
              "    .dataframe thead th {\n",
              "        text-align: right;\n",
              "    }\n",
              "</style>\n",
              "<table border=\"1\" class=\"dataframe\">\n",
              "  <thead>\n",
              "    <tr style=\"text-align: right;\">\n",
              "      <th></th>\n",
              "      <th>DataId</th>\n",
              "      <th>SourceId</th>\n",
              "      <th>Target</th>\n",
              "      <th>Definition</th>\n",
              "      <th>Item</th>\n",
              "      <th>Cos_Sim</th>\n",
              "      <th>Euc_Sim</th>\n",
              "    </tr>\n",
              "  </thead>\n",
              "  <tbody>\n",
              "    <tr>\n",
              "      <th>0</th>\n",
              "      <td>0</td>\n",
              "      <td>2978</td>\n",
              "      <td>1</td>\n",
              "      <td>People whose past behavior is consistent with ...</td>\n",
              "      <td>Have any of your current or previous partners ...</td>\n",
              "      <td>0.183756</td>\n",
              "      <td>1.277688</td>\n",
              "    </tr>\n",
              "    <tr>\n",
              "      <th>1</th>\n",
              "      <td>1</td>\n",
              "      <td>1056</td>\n",
              "      <td>0</td>\n",
              "      <td>Facilitation from work to school.</td>\n",
              "      <td>I enjoy being a student on this campus.</td>\n",
              "      <td>0.292208</td>\n",
              "      <td>1.189783</td>\n",
              "    </tr>\n",
              "    <tr>\n",
              "      <th>2</th>\n",
              "      <td>3</td>\n",
              "      <td>1015</td>\n",
              "      <td>0</td>\n",
              "      <td>Employees? sense of belongingness at work.</td>\n",
              "      <td>Helps others when it is clear their workload i...</td>\n",
              "      <td>0.322255</td>\n",
              "      <td>1.164255</td>\n",
              "    </tr>\n",
              "    <tr>\n",
              "      <th>3</th>\n",
              "      <td>4</td>\n",
              "      <td>2988</td>\n",
              "      <td>0</td>\n",
              "      <td>How attracted members were to the crew and the...</td>\n",
              "      <td>Managers rate each crew (low performance/high ...</td>\n",
              "      <td>0.446235</td>\n",
              "      <td>1.052393</td>\n",
              "    </tr>\n",
              "    <tr>\n",
              "      <th>4</th>\n",
              "      <td>7</td>\n",
              "      <td>3130</td>\n",
              "      <td>0</td>\n",
              "      <td>Things Manny didn?t do.</td>\n",
              "      <td>Did Manny tear the book while he was reading it?</td>\n",
              "      <td>0.565577</td>\n",
              "      <td>0.932119</td>\n",
              "    </tr>\n",
              "    <tr>\n",
              "      <th>...</th>\n",
              "      <td>...</td>\n",
              "      <td>...</td>\n",
              "      <td>...</td>\n",
              "      <td>...</td>\n",
              "      <td>...</td>\n",
              "      <td>...</td>\n",
              "      <td>...</td>\n",
              "    </tr>\n",
              "    <tr>\n",
              "      <th>23030</th>\n",
              "      <td>28070</td>\n",
              "      <td>12341</td>\n",
              "      <td>0</td>\n",
              "      <td>The extent to which reputations were observabl...</td>\n",
              "      <td>The project required close working relationshi...</td>\n",
              "      <td>0.213506</td>\n",
              "      <td>1.254188</td>\n",
              "    </tr>\n",
              "    <tr>\n",
              "      <th>23031</th>\n",
              "      <td>28071</td>\n",
              "      <td>12822</td>\n",
              "      <td>1</td>\n",
              "      <td>How characteristic each of the attractiveness ...</td>\n",
              "      <td>Wise.</td>\n",
              "      <td>0.147961</td>\n",
              "      <td>1.305403</td>\n",
              "    </tr>\n",
              "    <tr>\n",
              "      <th>23032</th>\n",
              "      <td>28072</td>\n",
              "      <td>3350</td>\n",
              "      <td>1</td>\n",
              "      <td>Participants' explanations for why the seller ...</td>\n",
              "      <td>The buyer is persuasive</td>\n",
              "      <td>0.569600</td>\n",
              "      <td>0.927793</td>\n",
              "    </tr>\n",
              "    <tr>\n",
              "      <th>23033</th>\n",
              "      <td>28074</td>\n",
              "      <td>2361</td>\n",
              "      <td>1</td>\n",
              "      <td>Newcomers? belief that good alternative work e...</td>\n",
              "      <td>To what extent have other co-workers influence...</td>\n",
              "      <td>0.447036</td>\n",
              "      <td>1.051631</td>\n",
              "    </tr>\n",
              "    <tr>\n",
              "      <th>23034</th>\n",
              "      <td>28075</td>\n",
              "      <td>3093</td>\n",
              "      <td>1</td>\n",
              "      <td>Employees? perceptions of the interpersonal tr...</td>\n",
              "      <td>Employees? suggestions are ignored.</td>\n",
              "      <td>0.443676</td>\n",
              "      <td>1.054822</td>\n",
              "    </tr>\n",
              "  </tbody>\n",
              "</table>\n",
              "<p>23035 rows × 7 columns</p>\n",
              "</div>\n",
              "      <button class=\"colab-df-convert\" onclick=\"convertToInteractive('df-2c17375f-fa1c-46e0-bfdc-f0caf2759483')\"\n",
              "              title=\"Convert this dataframe to an interactive table.\"\n",
              "              style=\"display:none;\">\n",
              "        \n",
              "  <svg xmlns=\"http://www.w3.org/2000/svg\" height=\"24px\"viewBox=\"0 0 24 24\"\n",
              "       width=\"24px\">\n",
              "    <path d=\"M0 0h24v24H0V0z\" fill=\"none\"/>\n",
              "    <path d=\"M18.56 5.44l.94 2.06.94-2.06 2.06-.94-2.06-.94-.94-2.06-.94 2.06-2.06.94zm-11 1L8.5 8.5l.94-2.06 2.06-.94-2.06-.94L8.5 2.5l-.94 2.06-2.06.94zm10 10l.94 2.06.94-2.06 2.06-.94-2.06-.94-.94-2.06-.94 2.06-2.06.94z\"/><path d=\"M17.41 7.96l-1.37-1.37c-.4-.4-.92-.59-1.43-.59-.52 0-1.04.2-1.43.59L10.3 9.45l-7.72 7.72c-.78.78-.78 2.05 0 2.83L4 21.41c.39.39.9.59 1.41.59.51 0 1.02-.2 1.41-.59l7.78-7.78 2.81-2.81c.8-.78.8-2.07 0-2.86zM5.41 20L4 18.59l7.72-7.72 1.47 1.35L5.41 20z\"/>\n",
              "  </svg>\n",
              "      </button>\n",
              "      \n",
              "  <style>\n",
              "    .colab-df-container {\n",
              "      display:flex;\n",
              "      flex-wrap:wrap;\n",
              "      gap: 12px;\n",
              "    }\n",
              "\n",
              "    .colab-df-convert {\n",
              "      background-color: #E8F0FE;\n",
              "      border: none;\n",
              "      border-radius: 50%;\n",
              "      cursor: pointer;\n",
              "      display: none;\n",
              "      fill: #1967D2;\n",
              "      height: 32px;\n",
              "      padding: 0 0 0 0;\n",
              "      width: 32px;\n",
              "    }\n",
              "\n",
              "    .colab-df-convert:hover {\n",
              "      background-color: #E2EBFA;\n",
              "      box-shadow: 0px 1px 2px rgba(60, 64, 67, 0.3), 0px 1px 3px 1px rgba(60, 64, 67, 0.15);\n",
              "      fill: #174EA6;\n",
              "    }\n",
              "\n",
              "    [theme=dark] .colab-df-convert {\n",
              "      background-color: #3B4455;\n",
              "      fill: #D2E3FC;\n",
              "    }\n",
              "\n",
              "    [theme=dark] .colab-df-convert:hover {\n",
              "      background-color: #434B5C;\n",
              "      box-shadow: 0px 1px 3px 1px rgba(0, 0, 0, 0.15);\n",
              "      filter: drop-shadow(0px 1px 2px rgba(0, 0, 0, 0.3));\n",
              "      fill: #FFFFFF;\n",
              "    }\n",
              "  </style>\n",
              "\n",
              "      <script>\n",
              "        const buttonEl =\n",
              "          document.querySelector('#df-2c17375f-fa1c-46e0-bfdc-f0caf2759483 button.colab-df-convert');\n",
              "        buttonEl.style.display =\n",
              "          google.colab.kernel.accessAllowed ? 'block' : 'none';\n",
              "\n",
              "        async function convertToInteractive(key) {\n",
              "          const element = document.querySelector('#df-2c17375f-fa1c-46e0-bfdc-f0caf2759483');\n",
              "          const dataTable =\n",
              "            await google.colab.kernel.invokeFunction('convertToInteractive',\n",
              "                                                     [key], {});\n",
              "          if (!dataTable) return;\n",
              "\n",
              "          const docLinkHtml = 'Like what you see? Visit the ' +\n",
              "            '<a target=\"_blank\" href=https://colab.research.google.com/notebooks/data_table.ipynb>data table notebook</a>'\n",
              "            + ' to learn more about interactive tables.';\n",
              "          element.innerHTML = '';\n",
              "          dataTable['output_type'] = 'display_data';\n",
              "          await google.colab.output.renderOutput(dataTable, element);\n",
              "          const docLink = document.createElement('div');\n",
              "          docLink.innerHTML = docLinkHtml;\n",
              "          element.appendChild(docLink);\n",
              "        }\n",
              "      </script>\n",
              "    </div>\n",
              "  </div>\n",
              "  "
            ]
          },
          "metadata": {},
          "execution_count": 8
        }
      ]
    },
    {
      "cell_type": "markdown",
      "source": [
        "RESULTS...\n",
        "- DataId should match with original CSV dataset rows   # TODO - check!\n",
        "- TODO - more comments on above"
      ],
      "metadata": {
        "id": "6cVYaaEWgbGH"
      }
    },
    {
      "cell_type": "markdown",
      "source": [
        "## Optionally load other CVA results like ```embeddings```\n",
        "\n",
        "- Assuming USE_GDRIVE==False or optional data is from repo clone\n",
        "- Other 'post_setup_data' are numpy arrays for: valid_data, embeddings, cos_sim, euc_sim\n"
      ],
      "metadata": {
        "id": "cxPchibBjXdf"
      }
    },
    {
      "cell_type": "code",
      "source": [
        "# ##### uncomment as appropriate\n",
        "\n",
        "valid_data = pd.read_csv(CP_PATH+'/valid_data.csv')\n",
        "# embeddings = np.load(CP_PATH+'/embeddings.npz')\n",
        "# cos_sim = np.load(CP_PATH+'/cos_sim.npy')\n",
        "# euc_sim = np.load(CP_PATH+'/euc_sim.npy')\n"
      ],
      "metadata": {
        "id": "E1P2V8jTjYEC"
      },
      "execution_count": 9,
      "outputs": []
    },
    {
      "cell_type": "code",
      "source": [
        "valid_data"
      ],
      "metadata": {
        "id": "kdBvfBZO5fTA",
        "outputId": "5c8c2ba7-4b05-4d17-ea12-27f10b73798d",
        "colab": {
          "base_uri": "https://localhost:8080/",
          "height": 423
        }
      },
      "execution_count": 10,
      "outputs": [
        {
          "output_type": "execute_result",
          "data": {
            "text/plain": [
              "      DataId  SourceId  Target  \\\n",
              "0          2      9900       0   \n",
              "1          5      9900       0   \n",
              "2          6      3169       1   \n",
              "3         10      2045       0   \n",
              "4         23      9503       0   \n",
              "...      ...       ...     ...   \n",
              "5036   28047      9417       1   \n",
              "5037   28057     12366       0   \n",
              "5038   28059      1022       1   \n",
              "5039   28062     12399       0   \n",
              "5040   28073     13668       0   \n",
              "\n",
              "                                             Definition  \\\n",
              "0     The telemarketers ranked from 1 (most importan...   \n",
              "1     The production workers ranked from 1 (most imp...   \n",
              "2     Informal rewards and recognition that particip...   \n",
              "3     The extent to which individuals internalize ju...   \n",
              "4           Constructing a false heterosexual identity.   \n",
              "...                                                 ...   \n",
              "5036  Participants' personal independence and self-r...   \n",
              "5037  Respondents indicated the extent to which they...   \n",
              "5038  The quality of exchange relationships among co...   \n",
              "5039  A supervisor rated how characteristic each of ...   \n",
              "5040  The extent to which the employee perceived the...   \n",
              "\n",
              "                                                   Item  \n",
              "0                To upgrade physical work environments.  \n",
              "1                           To produce error-free work.  \n",
              "2     In the last few years (1994 to the present), h...  \n",
              "3     [The organization] treats me with dignity and ...  \n",
              "4     People, regardless of their sexual orientation...  \n",
              "...                                                 ...  \n",
              "5036  If you want something done right, you?ve got t...  \n",
              "5037       Extensive off-the-job training was provided.  \n",
              "5038        Other group members understand my problems.  \n",
              "5039  I am currently engaged in my tasks because I e...  \n",
              "5040  I have been able to express my views and feeli...  \n",
              "\n",
              "[5041 rows x 5 columns]"
            ],
            "text/html": [
              "\n",
              "  <div id=\"df-b03bb6ea-8687-4e40-8a2f-b993eb06c9f0\">\n",
              "    <div class=\"colab-df-container\">\n",
              "      <div>\n",
              "<style scoped>\n",
              "    .dataframe tbody tr th:only-of-type {\n",
              "        vertical-align: middle;\n",
              "    }\n",
              "\n",
              "    .dataframe tbody tr th {\n",
              "        vertical-align: top;\n",
              "    }\n",
              "\n",
              "    .dataframe thead th {\n",
              "        text-align: right;\n",
              "    }\n",
              "</style>\n",
              "<table border=\"1\" class=\"dataframe\">\n",
              "  <thead>\n",
              "    <tr style=\"text-align: right;\">\n",
              "      <th></th>\n",
              "      <th>DataId</th>\n",
              "      <th>SourceId</th>\n",
              "      <th>Target</th>\n",
              "      <th>Definition</th>\n",
              "      <th>Item</th>\n",
              "    </tr>\n",
              "  </thead>\n",
              "  <tbody>\n",
              "    <tr>\n",
              "      <th>0</th>\n",
              "      <td>2</td>\n",
              "      <td>9900</td>\n",
              "      <td>0</td>\n",
              "      <td>The telemarketers ranked from 1 (most importan...</td>\n",
              "      <td>To upgrade physical work environments.</td>\n",
              "    </tr>\n",
              "    <tr>\n",
              "      <th>1</th>\n",
              "      <td>5</td>\n",
              "      <td>9900</td>\n",
              "      <td>0</td>\n",
              "      <td>The production workers ranked from 1 (most imp...</td>\n",
              "      <td>To produce error-free work.</td>\n",
              "    </tr>\n",
              "    <tr>\n",
              "      <th>2</th>\n",
              "      <td>6</td>\n",
              "      <td>3169</td>\n",
              "      <td>1</td>\n",
              "      <td>Informal rewards and recognition that particip...</td>\n",
              "      <td>In the last few years (1994 to the present), h...</td>\n",
              "    </tr>\n",
              "    <tr>\n",
              "      <th>3</th>\n",
              "      <td>10</td>\n",
              "      <td>2045</td>\n",
              "      <td>0</td>\n",
              "      <td>The extent to which individuals internalize ju...</td>\n",
              "      <td>[The organization] treats me with dignity and ...</td>\n",
              "    </tr>\n",
              "    <tr>\n",
              "      <th>4</th>\n",
              "      <td>23</td>\n",
              "      <td>9503</td>\n",
              "      <td>0</td>\n",
              "      <td>Constructing a false heterosexual identity.</td>\n",
              "      <td>People, regardless of their sexual orientation...</td>\n",
              "    </tr>\n",
              "    <tr>\n",
              "      <th>...</th>\n",
              "      <td>...</td>\n",
              "      <td>...</td>\n",
              "      <td>...</td>\n",
              "      <td>...</td>\n",
              "      <td>...</td>\n",
              "    </tr>\n",
              "    <tr>\n",
              "      <th>5036</th>\n",
              "      <td>28047</td>\n",
              "      <td>9417</td>\n",
              "      <td>1</td>\n",
              "      <td>Participants' personal independence and self-r...</td>\n",
              "      <td>If you want something done right, you?ve got t...</td>\n",
              "    </tr>\n",
              "    <tr>\n",
              "      <th>5037</th>\n",
              "      <td>28057</td>\n",
              "      <td>12366</td>\n",
              "      <td>0</td>\n",
              "      <td>Respondents indicated the extent to which they...</td>\n",
              "      <td>Extensive off-the-job training was provided.</td>\n",
              "    </tr>\n",
              "    <tr>\n",
              "      <th>5038</th>\n",
              "      <td>28059</td>\n",
              "      <td>1022</td>\n",
              "      <td>1</td>\n",
              "      <td>The quality of exchange relationships among co...</td>\n",
              "      <td>Other group members understand my problems.</td>\n",
              "    </tr>\n",
              "    <tr>\n",
              "      <th>5039</th>\n",
              "      <td>28062</td>\n",
              "      <td>12399</td>\n",
              "      <td>0</td>\n",
              "      <td>A supervisor rated how characteristic each of ...</td>\n",
              "      <td>I am currently engaged in my tasks because I e...</td>\n",
              "    </tr>\n",
              "    <tr>\n",
              "      <th>5040</th>\n",
              "      <td>28073</td>\n",
              "      <td>13668</td>\n",
              "      <td>0</td>\n",
              "      <td>The extent to which the employee perceived the...</td>\n",
              "      <td>I have been able to express my views and feeli...</td>\n",
              "    </tr>\n",
              "  </tbody>\n",
              "</table>\n",
              "<p>5041 rows × 5 columns</p>\n",
              "</div>\n",
              "      <button class=\"colab-df-convert\" onclick=\"convertToInteractive('df-b03bb6ea-8687-4e40-8a2f-b993eb06c9f0')\"\n",
              "              title=\"Convert this dataframe to an interactive table.\"\n",
              "              style=\"display:none;\">\n",
              "        \n",
              "  <svg xmlns=\"http://www.w3.org/2000/svg\" height=\"24px\"viewBox=\"0 0 24 24\"\n",
              "       width=\"24px\">\n",
              "    <path d=\"M0 0h24v24H0V0z\" fill=\"none\"/>\n",
              "    <path d=\"M18.56 5.44l.94 2.06.94-2.06 2.06-.94-2.06-.94-.94-2.06-.94 2.06-2.06.94zm-11 1L8.5 8.5l.94-2.06 2.06-.94-2.06-.94L8.5 2.5l-.94 2.06-2.06.94zm10 10l.94 2.06.94-2.06 2.06-.94-2.06-.94-.94-2.06-.94 2.06-2.06.94z\"/><path d=\"M17.41 7.96l-1.37-1.37c-.4-.4-.92-.59-1.43-.59-.52 0-1.04.2-1.43.59L10.3 9.45l-7.72 7.72c-.78.78-.78 2.05 0 2.83L4 21.41c.39.39.9.59 1.41.59.51 0 1.02-.2 1.41-.59l7.78-7.78 2.81-2.81c.8-.78.8-2.07 0-2.86zM5.41 20L4 18.59l7.72-7.72 1.47 1.35L5.41 20z\"/>\n",
              "  </svg>\n",
              "      </button>\n",
              "      \n",
              "  <style>\n",
              "    .colab-df-container {\n",
              "      display:flex;\n",
              "      flex-wrap:wrap;\n",
              "      gap: 12px;\n",
              "    }\n",
              "\n",
              "    .colab-df-convert {\n",
              "      background-color: #E8F0FE;\n",
              "      border: none;\n",
              "      border-radius: 50%;\n",
              "      cursor: pointer;\n",
              "      display: none;\n",
              "      fill: #1967D2;\n",
              "      height: 32px;\n",
              "      padding: 0 0 0 0;\n",
              "      width: 32px;\n",
              "    }\n",
              "\n",
              "    .colab-df-convert:hover {\n",
              "      background-color: #E2EBFA;\n",
              "      box-shadow: 0px 1px 2px rgba(60, 64, 67, 0.3), 0px 1px 3px 1px rgba(60, 64, 67, 0.15);\n",
              "      fill: #174EA6;\n",
              "    }\n",
              "\n",
              "    [theme=dark] .colab-df-convert {\n",
              "      background-color: #3B4455;\n",
              "      fill: #D2E3FC;\n",
              "    }\n",
              "\n",
              "    [theme=dark] .colab-df-convert:hover {\n",
              "      background-color: #434B5C;\n",
              "      box-shadow: 0px 1px 3px 1px rgba(0, 0, 0, 0.15);\n",
              "      filter: drop-shadow(0px 1px 2px rgba(0, 0, 0, 0.3));\n",
              "      fill: #FFFFFF;\n",
              "    }\n",
              "  </style>\n",
              "\n",
              "      <script>\n",
              "        const buttonEl =\n",
              "          document.querySelector('#df-b03bb6ea-8687-4e40-8a2f-b993eb06c9f0 button.colab-df-convert');\n",
              "        buttonEl.style.display =\n",
              "          google.colab.kernel.accessAllowed ? 'block' : 'none';\n",
              "\n",
              "        async function convertToInteractive(key) {\n",
              "          const element = document.querySelector('#df-b03bb6ea-8687-4e40-8a2f-b993eb06c9f0');\n",
              "          const dataTable =\n",
              "            await google.colab.kernel.invokeFunction('convertToInteractive',\n",
              "                                                     [key], {});\n",
              "          if (!dataTable) return;\n",
              "\n",
              "          const docLinkHtml = 'Like what you see? Visit the ' +\n",
              "            '<a target=\"_blank\" href=https://colab.research.google.com/notebooks/data_table.ipynb>data table notebook</a>'\n",
              "            + ' to learn more about interactive tables.';\n",
              "          element.innerHTML = '';\n",
              "          dataTable['output_type'] = 'display_data';\n",
              "          await google.colab.output.renderOutput(dataTable, element);\n",
              "          const docLink = document.createElement('div');\n",
              "          docLink.innerHTML = docLinkHtml;\n",
              "          element.appendChild(docLink);\n",
              "        }\n",
              "      </script>\n",
              "    </div>\n",
              "  </div>\n",
              "  "
            ]
          },
          "metadata": {},
          "execution_count": 10
        }
      ]
    },
    {
      "cell_type": "markdown",
      "metadata": {
        "id": "Jpc-anfNgFzt"
      },
      "source": [
        "# Apply ```soc_auc_score``` with y_true from Target & y_score from [Cos-Sim, Euc-Sim]\n",
        "\n",
        "- Note that y_score is a **probablity estimate** of Target as 0 or 1 \n",
        "- However, both similarity metrics are NOT. Range is not [0,1] and 0.5 is not a true random estimate.\n",
        "- What to do??????"
      ]
    },
    {
      "cell_type": "markdown",
      "source": [
        "## Setup y_true & y_score\n",
        "\n",
        "- NOTE: valid_data DOES NOT contain similarity metrics  ######### TODO"
      ],
      "metadata": {
        "id": "kgfBuNTpcZ6Z"
      }
    },
    {
      "cell_type": "code",
      "source": [
        "# create y_true\n",
        "y_true = train_data.Target.array        ######### TODO use valid_data\n",
        "\n",
        "# create y_score\n",
        "y_score = train_data.Cos_Sim.array      ######### TODO transform to probablity estimate\n",
        "\n",
        "print(\"Same shape?\", y_true.shape, y_score.shape)"
      ],
      "metadata": {
        "id": "hOVupb6lt9xO",
        "outputId": "18059d24-220f-4d76-f1d5-a37ad7508d08",
        "colab": {
          "base_uri": "https://localhost:8080/"
        }
      },
      "execution_count": 16,
      "outputs": [
        {
          "output_type": "stream",
          "name": "stdout",
          "text": [
            "Same shape? (23035,) (23035,)\n"
          ]
        }
      ]
    },
    {
      "cell_type": "markdown",
      "source": [
        "## Display arbitrary Confusion Matrix"
      ],
      "metadata": {
        "id": "OhW45cwYC3o1"
      }
    },
    {
      "cell_type": "code",
      "source": [
        "from sklearn.metrics import confusion_matrix, ConfusionMatrixDisplay\n",
        "\n",
        "# set arbitrary cutoff score\n",
        "cutoff = 0.5\n",
        "\n",
        "# define function to compute/display CM\n",
        "def compute_CM(y_true, y_score, cutoff):\n",
        "    \n",
        "    # transform score to binary prediction\n",
        "    y_pred = np.where(y_score > cutoff, 1, 0)\n",
        "\n",
        "    # compute/display CM\n",
        "    cm = confusion_matrix(y_true, y_pred)\n",
        "    # print('CM = ', cm)\n",
        "    cm_display = ConfusionMatrixDisplay(cm).plot()\n",
        "\n",
        "compute_CM(y_true, y_score, cutoff)"
      ],
      "metadata": {
        "id": "glbFe6OIC4Ic",
        "outputId": "fc741a4c-add5-4df4-a484-48d14f433b20",
        "colab": {
          "base_uri": "https://localhost:8080/",
          "height": 279
        }
      },
      "execution_count": 36,
      "outputs": [
        {
          "output_type": "display_data",
          "data": {
            "text/plain": [
              "<Figure size 432x288 with 2 Axes>"
            ],
            "image/png": "[encoded data removed]"
          },
          "metadata": {
            "needs_background": "light"
          }
        }
      ]
    },
    {
      "cell_type": "markdown",
      "source": [
        "## Compute/Plot ROC, PR, AUC, CM"
      ],
      "metadata": {
        "id": "_wBdGB-T-Y22"
      }
    },
    {
      "cell_type": "code",
      "source": [
        "import matplotlib.pyplot as plt\n",
        "from sklearn.metrics import roc_curve, RocCurveDisplay, roc_auc_score\n",
        "from sklearn.metrics import precision_recall_curve, PrecisionRecallDisplay\n",
        "\n",
        "# compute roc curve\n",
        "fpr, tpr, _ = roc_curve(y_true, y_score)\n",
        "auc = roc_auc_score(y_true, y_score)\n",
        "print(\"AUC =\", auc)\n",
        "roc_display = RocCurveDisplay(fpr=fpr, tpr=tpr, roc_auc=auc)\n",
        "\n",
        "# # Compute ROC AUC score\n",
        "# auc = roc_auc_score(y_true, y_score)\n",
        "# print(\"AUC =\", auc)\n",
        "\n",
        "prec, recall, _ = precision_recall_curve(y_true, y_score)\n",
        "pr_display = PrecisionRecallDisplay(precision=prec, recall=recall)\n",
        "\n",
        "fig, (ax1, ax2) = plt.subplots(1, 2, figsize=(12, 8))\n",
        "roc_display.plot(ax=ax1)\n",
        "pr_display.plot(ax=ax2)\n",
        "plt.show()"
      ],
      "metadata": {
        "id": "hRi-C5Db-ZXs",
        "outputId": "608ee2ee-2f70-4fd3-cf95-9a64579ef6ef",
        "colab": {
          "base_uri": "https://localhost:8080/",
          "height": 515
        }
      },
      "execution_count": 27,
      "outputs": [
        {
          "output_type": "stream",
          "name": "stdout",
          "text": [
            "AUC = 0.6415559912352317\n"
          ]
        },
        {
          "output_type": "display_data",
          "data": {
            "text/plain": [
              "<Figure size 864x576 with 2 Axes>"
            ],
            "image/png": "[encoded data removed]"
          },
          "metadata": {
            "needs_background": "light"
          }
        }
      ]
    },
    {
      "cell_type": "markdown",
      "source": [
        "## Find the optimal threshold from ROC and its CM\n",
        "\n",
        "- _The optimal cut off point would be where “true positive rate” is high and the “false positive rate” is low._\n",
        "- Ref: https://stackoverflow.com/questions/56203889/how-to-get-the-optimal-threshold-from-roc-curve-in-python"
      ],
      "metadata": {
        "id": "5GAIo3CbNQG9"
      }
    },
    {
      "cell_type": "code",
      "source": [
        "def Find_Optimal_Cutoff(target, predicted):\n",
        "    fpr, tpr, threshold = roc_curve(target, predicted)\n",
        "    i = np.arange(len(tpr)) \n",
        "    roc = pd.DataFrame({'tf' : pd.Series(tpr-(1-fpr), index=i), 'threshold' : pd.Series(threshold, index=i)})\n",
        "    roc_t = roc.iloc[(roc.tf-0).abs().argsort()[:1]]\n",
        "\n",
        "    return list(roc_t['threshold']) \n",
        "\n",
        "cutoff = Find_Optimal_Cutoff(y_true, y_score)[0]\n",
        "print(\"Optimal Cutoff = \", cutoff)\n",
        "compute_CM(y_true, y_score, cutoff)"
      ],
      "metadata": {
        "id": "wQPul5-iNQtY",
        "outputId": "46fe6f2c-18fe-4c70-da9a-bcbece618d6c",
        "colab": {
          "base_uri": "https://localhost:8080/",
          "height": 297
        }
      },
      "execution_count": 37,
      "outputs": [
        {
          "output_type": "stream",
          "name": "stdout",
          "text": [
            "Optimal Cutoff =  0.3001006543636322\n"
          ]
        },
        {
          "output_type": "display_data",
          "data": {
            "text/plain": [
              "<Figure size 432x288 with 2 Axes>"
            ],
            "image/png": "[encoded data removed]"
          },
          "metadata": {
            "needs_background": "light"
          }
        }
      ]
    },
    {
      "cell_type": "markdown",
      "source": [
        "RESULTS...\n",
        "- Slightly better than random ??? "
      ],
      "metadata": {
        "id": "vF0EBJehgVpA"
      }
    }
  ],
  "metadata": {
    "colab": {
      "provenance": []
    },
    "kernelspec": {
      "display_name": "Python 3.8.12 ('ESSL')",
      "language": "python",
      "name": "python3"
    },
    "language_info": {
      "name": "python",
      "version": "3.8.12"
    },
    "vscode": {
      "interpreter": {
        "hash": "033f8c6fda077bd21b7ae1b6f69c8e3d2300139e3a7502197592234d857a2a7b"
      }
    }
  },
  "nbformat": 4,
  "nbformat_minor": 0
}