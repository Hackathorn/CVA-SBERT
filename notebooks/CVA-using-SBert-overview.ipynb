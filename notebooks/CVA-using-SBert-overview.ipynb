{
  "nbformat": 4,
  "nbformat_minor": 0,
  "metadata": {
    "colab": {
      "provenance": [],
      "collapsed_sections": [],
      "toc_visible": true
    },
    "kernelspec": {
      "name": "python3",
      "display_name": "Python 3"
    },
    "language_info": {
      "name": "python"
    }
  },
  "cells": [
    {
      "cell_type": "markdown",
      "source": [
        "# Development Plan"
      ],
      "metadata": {
        "id": "5LDCQJiy2Z_-"
      }
    },
    {
      "cell_type": "markdown",
      "source": [
        "## Revise CVA-SBERT notebook...\n",
        "- ✅ Create public GitHub for notebooks and dataset\n",
        "- ✅ Split fullv4 dataset into 80/20 Training/Validation based on Source.\n",
        "- For all Items, compute latent vectors.\n",
        "- For all unique Definitions, compute latent vectors.  \n",
        "- For Training by each Definition, compute pairwise similarities among its Items."
      ],
      "metadata": {
        "id": "hCi2jnpD21wx"
      }
    },
    {
      "cell_type": "markdown",
      "source": [
        "## Try experiments...\n",
        "- Compute similarity stats. Browse extreme similarities for patterns in text.  \n",
        "- Based on pairwise equality of Target values, plot similarity (and spread) distributions. Clear classification?\n",
        "- UMAP hierarchical clustering of latent vectors. May have to use a small sample."
      ],
      "metadata": {
        "id": "ZmhHf-S-26tj"
      }
    },
    {
      "cell_type": "markdown",
      "source": [
        "\n",
        "## Research S-BERT...\n",
        "- Relationship with [HuggingFace Hub](https://www.sbert.net/docs/hugging_face.html)  \n",
        "- [model comparisons](https://www.sbert.net/docs/pretrained_models.html), like **all-MiniLM-L6-v2** for good quick results\n",
        "- [unsupervised learning](https://www.sbert.net/examples/unsupervised_learning/README.html) plus [domain adaptation](https://www.sbert.net/examples/domain_adaptation/README.html) by fine tuning on labeled training data  \n",
        "- [evaluation classes](https://www.sbert.net/docs/package_reference/evaluation.html) like BinaryClassificationEvaluator\n",
        "- understand parameters for [SentenceTransformer](https://www.sbert.net/docs/package_reference/SentenceTransformer.html) class & encoder method\n",
        "- understand/test differences between [Cross-Encoders versus Bi-Encoders](https://www.sbert.net/examples/applications/cross-encoder/README.html)\n",
        "- S-BERT clustering approaches like [topic modeling](https://towardsdatascience.com/topic-modeling-with-bert-779f7db187e6) (w UMAP) and [BERTopic](https://github.com/MaartenGr/BERTopic)\n"
      ],
      "metadata": {
        "id": "2c7nLU-BhYON"
      }
    },
    {
      "cell_type": "markdown",
      "source": [
        "## References\n",
        "\n",
        "This notebook derives \n",
        "\n"
      ],
      "metadata": {
        "id": "8smCbLk23LyU"
      }
    },
    {
      "cell_type": "markdown",
      "metadata": {
        "id": "AZSRG_0rm3t9"
      },
      "source": [
        "# Setup Environment"
      ]
    },
    {
      "cell_type": "markdown",
      "source": [
        "## Clone CVA-SBERT GitHub \n",
        "\n",
        "- from [repository](https://github.com/Hackathorn/CVA-SBERT) and install [dependencies](https://github.com/Hackathorn/CVA-SBERT/blob/master/requirements.txt)"
      ],
      "metadata": {
        "id": "zd1FLW2gVfAa"
      }
    },
    {
      "cell_type": "code",
      "source": [
        "!git clone https://github.com/Hackathorn/CVA-SBERT  # clone\n",
        "%cd CVA-SBERT\n",
        "### %pip install -qr requirements.txt  #### TODO"
      ],
      "metadata": {
        "id": "vdnQd5jXVotB",
        "outputId": "207c3393-a72b-454b-dbc5-c0a2c257ab77",
        "colab": {
          "base_uri": "https://localhost:8080/"
        }
      },
      "execution_count": 17,
      "outputs": [
        {
          "output_type": "stream",
          "name": "stdout",
          "text": [
            "Cloning into 'CVA-SBERT'...\n",
            "remote: Enumerating objects: 68, done.\u001b[K\n",
            "remote: Counting objects: 100% (68/68), done.\u001b[K\n",
            "remote: Compressing objects: 100% (64/64), done.\u001b[K\n",
            "remote: Total 68 (delta 37), reused 10 (delta 3), pack-reused 0\u001b[K\n",
            "Unpacking objects: 100% (68/68), done.\n",
            "/content/CVA-SBERT/CVA-SBERT\n"
          ]
        }
      ]
    },
    {
      "cell_type": "markdown",
      "source": [
        "## Import SentenceTransformers"
      ],
      "metadata": {
        "id": "0AFgrhkCVcVV"
      }
    },
    {
      "cell_type": "code",
      "metadata": {
        "id": "fu6FFvXGoa6p"
      },
      "source": [
        "!pip install -q sentence_transformers"
      ],
      "execution_count": 18,
      "outputs": []
    },
    {
      "cell_type": "markdown",
      "source": [
        "## Import various packages\n",
        "\n",
        "- ```sentence_transformers``` class plus others\n"
      ],
      "metadata": {
        "id": "hzoUz1FwWVvd"
      }
    },
    {
      "cell_type": "code",
      "metadata": {
        "id": "bok6iQwnoy_f"
      },
      "source": [
        "from sentence_transformers import SentenceTransformer\n",
        "from sklearn.metrics.pairwise import cosine_similarity\n",
        "\n",
        "import pandas as pd\n",
        "import numpy as np\n",
        "from pprint import pprint"
      ],
      "execution_count": 19,
      "outputs": []
    },
    {
      "cell_type": "markdown",
      "metadata": {
        "id": "85dmTLslm5Vl"
      },
      "source": [
        "## Instantiate SentenceTransformer\n",
        "\n",
        "The HuggingFace pipeline `SentenceTransformer` is ...\n",
        "\n",
        "The model `paraphrase-MiniLM-L6-v2` is ..."
      ]
    },
    {
      "cell_type": "code",
      "metadata": {
        "id": "-SCtETLipTwA"
      },
      "source": [
        "model = SentenceTransformer('paraphrase-MiniLM-L6-v2')      #### TODO find current best model"
      ],
      "execution_count": 20,
      "outputs": []
    },
    {
      "cell_type": "markdown",
      "source": [
        "# Create Train/Valid Datasets"
      ],
      "metadata": {
        "id": "P1aaQ6B-IRZR"
      }
    },
    {
      "cell_type": "markdown",
      "source": [
        "## Create dataframe from CSV file"
      ],
      "metadata": {
        "id": "r3GR3La7WwPw"
      }
    },
    {
      "cell_type": "code",
      "source": [
        "CSV_FileName = 'CVA Training Data Allv4_Richard.csv'\n",
        "\n",
        "data = pd.read_csv('/content/CVA-SBERT/data/' + CSV_FileName)\n",
        "\n",
        "print(data.info(verbose=True))"
      ],
      "metadata": {
        "id": "BF_9Rs8uGl28",
        "colab": {
          "base_uri": "https://localhost:8080/"
        },
        "outputId": "43fd3ffc-50e5-422b-c1c0-879a201c519f"
      },
      "execution_count": 21,
      "outputs": [
        {
          "output_type": "stream",
          "name": "stdout",
          "text": [
            "<class 'pandas.core.frame.DataFrame'>\n",
            "RangeIndex: 28076 entries, 0 to 28075\n",
            "Data columns (total 4 columns):\n",
            " #   Column      Non-Null Count  Dtype \n",
            "---  ------      --------------  ----- \n",
            " 0   SourceId    28076 non-null  int64 \n",
            " 1   Target      28076 non-null  int64 \n",
            " 2   Definition  28076 non-null  object\n",
            " 3   Item_Text   28076 non-null  object\n",
            "dtypes: int64(2), object(2)\n",
            "memory usage: 877.5+ KB\n",
            "None\n"
          ]
        }
      ]
    },
    {
      "cell_type": "markdown",
      "source": [
        "- print count uniques of columns"
      ],
      "metadata": {
        "id": "VlGvFRGlvyKk"
      }
    },
    {
      "cell_type": "code",
      "source": [
        "ni = len(data)\n",
        "ns = data.SourceId.nunique()\n",
        "nd = data.Definition.nunique()\n",
        "\n",
        "print(f\"Item count = {ni:,d}\")\n",
        "print(f\"SourceId count = {ns:,d} with Items-per-Source = {(len(data)/ns):.2f}\")\n",
        "print(f\"Definition count = {nd:,d} with Items-per-Defintion = {(len(data)/nd):.2f}\")\n",
        "print(f\"Target mean = {data.Target.mean():.4f} with count of ones = {data.Target.sum():,d}\")"
      ],
      "metadata": {
        "id": "Ly6npj4Wvh1I",
        "outputId": "d0e257a0-0afe-4b3c-f343-58583f13b347",
        "colab": {
          "base_uri": "https://localhost:8080/"
        }
      },
      "execution_count": 22,
      "outputs": [
        {
          "output_type": "stream",
          "name": "stdout",
          "text": [
            "Item count = 28,076\n",
            "SourceId count = 833 with Items-per-Source = 33.70\n",
            "Definition count = 2,887 with Items-per-Defintion = 9.72\n",
            "Target mean = 0.4999 with count of ones = 14,036\n"
          ]
        }
      ]
    },
    {
      "cell_type": "markdown",
      "source": [
        "## Explore with Colab Data Table Display"
      ],
      "metadata": {
        "id": "w4cChZqMJtSh"
      }
    },
    {
      "cell_type": "code",
      "source": [
        "data        # limited to 20K rows"
      ],
      "metadata": {
        "id": "Fk7WMyJfJtge",
        "outputId": "ac91f6ef-e8f9-4cab-c385-2b138a3fa985",
        "colab": {
          "base_uri": "https://localhost:8080/",
          "height": 424
        }
      },
      "execution_count": 23,
      "outputs": [
        {
          "output_type": "execute_result",
          "data": {
            "text/plain": [
              "       SourceId  Target                                         Definition  \\\n",
              "0          2978       1  People whose past behavior is consistent with ...   \n",
              "1          1056       0                  Facilitation from work to school.   \n",
              "2          9900       0  The telemarketers ranked from 1 (most importan...   \n",
              "3          1015       0         Employees? sense of belongingness at work.   \n",
              "4          2988       0  How attracted members were to the crew and the...   \n",
              "...         ...     ...                                                ...   \n",
              "28071     12822       1  How characteristic each of the attractiveness ...   \n",
              "28072      3350       1  Participants' explanations for why the seller ...   \n",
              "28073     13668       0  The extent to which the employee perceived the...   \n",
              "28074      2361       1  Newcomers? belief that good alternative work e...   \n",
              "28075      3093       1  Employees? perceptions of the interpersonal tr...   \n",
              "\n",
              "                                               Item_Text  \n",
              "0      Have any of your current or previous partners ...  \n",
              "1                I enjoy being a student on this campus.  \n",
              "2                 To upgrade physical work environments.  \n",
              "3      Helps others when it is clear their workload i...  \n",
              "4      Managers rate each crew (low performance/high ...  \n",
              "...                                                  ...  \n",
              "28071                                              Wise.  \n",
              "28072                            The buyer is persuasive  \n",
              "28073  I have been able to express my views and feeli...  \n",
              "28074  To what extent have other co-workers influence...  \n",
              "28075                Employees? suggestions are ignored.  \n",
              "\n",
              "[28076 rows x 4 columns]"
            ],
            "text/html": [
              "\n",
              "  <div id=\"df-e852a2c3-7f59-47e8-8921-d3d39fec3292\">\n",
              "    <div class=\"colab-df-container\">\n",
              "      <div>\n",
              "<style scoped>\n",
              "    .dataframe tbody tr th:only-of-type {\n",
              "        vertical-align: middle;\n",
              "    }\n",
              "\n",
              "    .dataframe tbody tr th {\n",
              "        vertical-align: top;\n",
              "    }\n",
              "\n",
              "    .dataframe thead th {\n",
              "        text-align: right;\n",
              "    }\n",
              "</style>\n",
              "<table border=\"1\" class=\"dataframe\">\n",
              "  <thead>\n",
              "    <tr style=\"text-align: right;\">\n",
              "      <th></th>\n",
              "      <th>SourceId</th>\n",
              "      <th>Target</th>\n",
              "      <th>Definition</th>\n",
              "      <th>Item_Text</th>\n",
              "    </tr>\n",
              "  </thead>\n",
              "  <tbody>\n",
              "    <tr>\n",
              "      <th>0</th>\n",
              "      <td>2978</td>\n",
              "      <td>1</td>\n",
              "      <td>People whose past behavior is consistent with ...</td>\n",
              "      <td>Have any of your current or previous partners ...</td>\n",
              "    </tr>\n",
              "    <tr>\n",
              "      <th>1</th>\n",
              "      <td>1056</td>\n",
              "      <td>0</td>\n",
              "      <td>Facilitation from work to school.</td>\n",
              "      <td>I enjoy being a student on this campus.</td>\n",
              "    </tr>\n",
              "    <tr>\n",
              "      <th>2</th>\n",
              "      <td>9900</td>\n",
              "      <td>0</td>\n",
              "      <td>The telemarketers ranked from 1 (most importan...</td>\n",
              "      <td>To upgrade physical work environments.</td>\n",
              "    </tr>\n",
              "    <tr>\n",
              "      <th>3</th>\n",
              "      <td>1015</td>\n",
              "      <td>0</td>\n",
              "      <td>Employees? sense of belongingness at work.</td>\n",
              "      <td>Helps others when it is clear their workload i...</td>\n",
              "    </tr>\n",
              "    <tr>\n",
              "      <th>4</th>\n",
              "      <td>2988</td>\n",
              "      <td>0</td>\n",
              "      <td>How attracted members were to the crew and the...</td>\n",
              "      <td>Managers rate each crew (low performance/high ...</td>\n",
              "    </tr>\n",
              "    <tr>\n",
              "      <th>...</th>\n",
              "      <td>...</td>\n",
              "      <td>...</td>\n",
              "      <td>...</td>\n",
              "      <td>...</td>\n",
              "    </tr>\n",
              "    <tr>\n",
              "      <th>28071</th>\n",
              "      <td>12822</td>\n",
              "      <td>1</td>\n",
              "      <td>How characteristic each of the attractiveness ...</td>\n",
              "      <td>Wise.</td>\n",
              "    </tr>\n",
              "    <tr>\n",
              "      <th>28072</th>\n",
              "      <td>3350</td>\n",
              "      <td>1</td>\n",
              "      <td>Participants' explanations for why the seller ...</td>\n",
              "      <td>The buyer is persuasive</td>\n",
              "    </tr>\n",
              "    <tr>\n",
              "      <th>28073</th>\n",
              "      <td>13668</td>\n",
              "      <td>0</td>\n",
              "      <td>The extent to which the employee perceived the...</td>\n",
              "      <td>I have been able to express my views and feeli...</td>\n",
              "    </tr>\n",
              "    <tr>\n",
              "      <th>28074</th>\n",
              "      <td>2361</td>\n",
              "      <td>1</td>\n",
              "      <td>Newcomers? belief that good alternative work e...</td>\n",
              "      <td>To what extent have other co-workers influence...</td>\n",
              "    </tr>\n",
              "    <tr>\n",
              "      <th>28075</th>\n",
              "      <td>3093</td>\n",
              "      <td>1</td>\n",
              "      <td>Employees? perceptions of the interpersonal tr...</td>\n",
              "      <td>Employees? suggestions are ignored.</td>\n",
              "    </tr>\n",
              "  </tbody>\n",
              "</table>\n",
              "<p>28076 rows × 4 columns</p>\n",
              "</div>\n",
              "      <button class=\"colab-df-convert\" onclick=\"convertToInteractive('df-e852a2c3-7f59-47e8-8921-d3d39fec3292')\"\n",
              "              title=\"Convert this dataframe to an interactive table.\"\n",
              "              style=\"display:none;\">\n",
              "        \n",
              "  <svg xmlns=\"http://www.w3.org/2000/svg\" height=\"24px\"viewBox=\"0 0 24 24\"\n",
              "       width=\"24px\">\n",
              "    <path d=\"M0 0h24v24H0V0z\" fill=\"none\"/>\n",
              "    <path d=\"M18.56 5.44l.94 2.06.94-2.06 2.06-.94-2.06-.94-.94-2.06-.94 2.06-2.06.94zm-11 1L8.5 8.5l.94-2.06 2.06-.94-2.06-.94L8.5 2.5l-.94 2.06-2.06.94zm10 10l.94 2.06.94-2.06 2.06-.94-2.06-.94-.94-2.06-.94 2.06-2.06.94z\"/><path d=\"M17.41 7.96l-1.37-1.37c-.4-.4-.92-.59-1.43-.59-.52 0-1.04.2-1.43.59L10.3 9.45l-7.72 7.72c-.78.78-.78 2.05 0 2.83L4 21.41c.39.39.9.59 1.41.59.51 0 1.02-.2 1.41-.59l7.78-7.78 2.81-2.81c.8-.78.8-2.07 0-2.86zM5.41 20L4 18.59l7.72-7.72 1.47 1.35L5.41 20z\"/>\n",
              "  </svg>\n",
              "      </button>\n",
              "      \n",
              "  <style>\n",
              "    .colab-df-container {\n",
              "      display:flex;\n",
              "      flex-wrap:wrap;\n",
              "      gap: 12px;\n",
              "    }\n",
              "\n",
              "    .colab-df-convert {\n",
              "      background-color: #E8F0FE;\n",
              "      border: none;\n",
              "      border-radius: 50%;\n",
              "      cursor: pointer;\n",
              "      display: none;\n",
              "      fill: #1967D2;\n",
              "      height: 32px;\n",
              "      padding: 0 0 0 0;\n",
              "      width: 32px;\n",
              "    }\n",
              "\n",
              "    .colab-df-convert:hover {\n",
              "      background-color: #E2EBFA;\n",
              "      box-shadow: 0px 1px 2px rgba(60, 64, 67, 0.3), 0px 1px 3px 1px rgba(60, 64, 67, 0.15);\n",
              "      fill: #174EA6;\n",
              "    }\n",
              "\n",
              "    [theme=dark] .colab-df-convert {\n",
              "      background-color: #3B4455;\n",
              "      fill: #D2E3FC;\n",
              "    }\n",
              "\n",
              "    [theme=dark] .colab-df-convert:hover {\n",
              "      background-color: #434B5C;\n",
              "      box-shadow: 0px 1px 3px 1px rgba(0, 0, 0, 0.15);\n",
              "      filter: drop-shadow(0px 1px 2px rgba(0, 0, 0, 0.3));\n",
              "      fill: #FFFFFF;\n",
              "    }\n",
              "  </style>\n",
              "\n",
              "      <script>\n",
              "        const buttonEl =\n",
              "          document.querySelector('#df-e852a2c3-7f59-47e8-8921-d3d39fec3292 button.colab-df-convert');\n",
              "        buttonEl.style.display =\n",
              "          google.colab.kernel.accessAllowed ? 'block' : 'none';\n",
              "\n",
              "        async function convertToInteractive(key) {\n",
              "          const element = document.querySelector('#df-e852a2c3-7f59-47e8-8921-d3d39fec3292');\n",
              "          const dataTable =\n",
              "            await google.colab.kernel.invokeFunction('convertToInteractive',\n",
              "                                                     [key], {});\n",
              "          if (!dataTable) return;\n",
              "\n",
              "          const docLinkHtml = 'Like what you see? Visit the ' +\n",
              "            '<a target=\"_blank\" href=https://colab.research.google.com/notebooks/data_table.ipynb>data table notebook</a>'\n",
              "            + ' to learn more about interactive tables.';\n",
              "          element.innerHTML = '';\n",
              "          dataTable['output_type'] = 'display_data';\n",
              "          await google.colab.output.renderOutput(dataTable, element);\n",
              "          const docLink = document.createElement('div');\n",
              "          docLink.innerHTML = docLinkHtml;\n",
              "          element.appendChild(docLink);\n",
              "        }\n",
              "      </script>\n",
              "    </div>\n",
              "  </div>\n",
              "  "
            ]
          },
          "metadata": {},
          "execution_count": 23
        }
      ]
    },
    {
      "cell_type": "markdown",
      "source": [
        "## Clean data\n",
        "\n",
        "- remove dash at beginning of string\n",
        "- remove/change question marks within strings\n",
        "- ???"
      ],
      "metadata": {
        "id": "nwm0ofQmJZdQ"
      }
    },
    {
      "cell_type": "code",
      "source": [
        "#### TODO"
      ],
      "metadata": {
        "id": "NeXsDn3OJaci"
      },
      "execution_count": 24,
      "outputs": []
    },
    {
      "cell_type": "markdown",
      "source": [
        "## Split into 80/20 Train/Validate sets \n",
        "\n",
        "- based on SourceId groups of Items"
      ],
      "metadata": {
        "id": "0OIxTbFxWPpV"
      }
    },
    {
      "cell_type": "code",
      "source": [
        "unique_SourceId = data.SourceId.unique()            # find unique SourceId values\n",
        "split_SourceId = int(0.8 * len(unique_SourceId))+1\n",
        "\n",
        "np.random.shuffle(unique_SourceId)                  # randomly shuffe\n",
        "SourceId_list = list(unique_SourceId)               # array -> list\n",
        "\n",
        "train_SourceIds = SourceId_list[:split_SourceId]    # create index lists\n",
        "valid_SourceIds = SourceId_list[split_SourceId:]\n",
        "\n",
        "train_data = data[data.SourceId.isin(train_SourceIds)]  # split dataset\n",
        "valid_data = data[data.SourceId.isin(valid_SourceIds)]"
      ],
      "metadata": {
        "id": "EkjQCiyIXk4Q"
      },
      "execution_count": 25,
      "outputs": []
    },
    {
      "cell_type": "markdown",
      "source": [
        "## Examine split of Train/Valid datasets\n",
        "\n",
        "- Note the split in rows below. If off 80/20 ratio, re-shuffe above"
      ],
      "metadata": {
        "id": "42_NegRoKp-y"
      }
    },
    {
      "cell_type": "code",
      "source": [
        "ld = len(data)\n",
        "ls = len(unique_SourceId)\n",
        "lst = len(train_SourceIds)\n",
        "lsv = len(valid_SourceIds)\n",
        "lt = len(train_data)\n",
        "lv = len(valid_data)\n",
        "\n",
        "print(f\">>> Count of all data rows = {ld:,d}\")\n",
        "print(f\">>> Count of unique Sources = {ls} split 80/20 into Train/Valid of {lst} {lsv}\")\n",
        "print(f\">>> Count of Train/Valid rows = {lt:,d} ({lt/(lt+lv):.1%}) and {lv} ({lv/(lt+lv):.1%}) with total = {lt+lv:,d}\")"
      ],
      "metadata": {
        "id": "mPfqic-3Kq1h",
        "outputId": "0dc80a22-b8b6-45a8-d8f5-8460f7e6be8e",
        "colab": {
          "base_uri": "https://localhost:8080/"
        }
      },
      "execution_count": 26,
      "outputs": [
        {
          "output_type": "stream",
          "name": "stdout",
          "text": [
            ">>> Count of all data rows = 28,076\n",
            ">>> Count of unique Sources = 833 split 80/20 into Train/Valid of 667 166\n",
            ">>> Count of Train/Valid rows = 21,774 (77.6%) and 6302 (22.4%) with total = 28,076\n"
          ]
        }
      ]
    },
    {
      "cell_type": "markdown",
      "source": [
        "## Save experiment data to gDrive\n",
        "- OPTIONAL"
      ],
      "metadata": {
        "id": "jqABDAzjhSzK"
      }
    },
    {
      "cell_type": "code",
      "source": [
        "##### Only execute to save results\n",
        "import os.path\n",
        "from os import path\n",
        "from time import strftime, localtime\n",
        "\n",
        "from google.colab import drive\n",
        "drive.mount('/content/drive')\n",
        "\n",
        "BASE_PATH = '/content/drive/MyDrive/CVA-SBERT-Experiments/'\n",
        "EXP_PATH = BASE_PATH + strftime(\"%Y%m%d-%H%M%S\", localtime())\n",
        "\n",
        "if path.exists(BASE_PATH) == False:\n",
        "    os.mkdir(BASE_PATH)\n",
        "if path.exists(EXP_PATH) == False:\n",
        "    os.mkdir(EXP_PATH)"
      ],
      "metadata": {
        "id": "EskSirphhTUN",
        "outputId": "79e075fb-5f0d-4b6c-f2a0-5197cf51c5fa",
        "colab": {
          "base_uri": "https://localhost:8080/"
        }
      },
      "execution_count": 27,
      "outputs": [
        {
          "output_type": "stream",
          "name": "stdout",
          "text": [
            "Drive already mounted at /content/drive; to attempt to forcibly remount, call drive.mount(\"/content/drive\", force_remount=True).\n"
          ]
        }
      ]
    },
    {
      "cell_type": "code",
      "source": [
        "# Save Train/Valid data ...IF exists EXP_PATH\n",
        "\n",
        "if 'EXP_PATH' in globals():\n",
        "    train_data.to_csv(EXP_PATH+'/train_data.csv', index=True)\n",
        "    valid_data.to_csv(EXP_PATH+'/valid_data.csv', index=True)"
      ],
      "metadata": {
        "id": "i5CM_-q_kpAN"
      },
      "execution_count": 28,
      "outputs": []
    },
    {
      "cell_type": "markdown",
      "source": [
        "# Encode Definition/Item sentences"
      ],
      "metadata": {
        "id": "kYJZEHVdYk0v"
      }
    },
    {
      "cell_type": "markdown",
      "source": [
        "- Each encoding is 384-dim vector into the BERT latent/embedding space\n",
        "- There are 833 Definitions and 28,076 Items, each with an encoding\n",
        "- Result is two arrays: Def_encodings (833x384) and Item_encodings (28076x384)\n",
        "- Plus... need table to link each Definition to its Items for pairwise comparisons"
      ],
      "metadata": {
        "id": "Re5Z75tuAsH0"
      }
    },
    {
      "cell_type": "markdown",
      "source": [
        "## Do a simple approach...\n",
        "\n",
        "- save/commit train_data & valid_data TS to GitHub\n",
        "- take train_data with 20,874 items\n",
        "- create list of Sources\n",
        "- for each Source, create list of Definitions\n",
        "- for each Definition, create df of Items \n",
        "- for each Item, encode both Def & Items sentences into array"
      ],
      "metadata": {
        "id": "wVPhc8sJFnsV"
      }
    },
    {
      "cell_type": "code",
      "source": [
        "source_list = list(train_data.SourceId.unique())\n",
        "source_list.sort()\n",
        "type(source_list), len(source_list), source_list[:5]\n",
        "\n",
        "for source in source_list:\n",
        "    definition_list = train_data.Definition[[train_data.SourceId == source]]\n",
        "    print(definition_list)\n",
        "    break"
      ],
      "metadata": {
        "id": "LSMh_IR_Fo6e",
        "outputId": "565b1552-cf42-4b4c-8d81-e3ad7d7cc84a",
        "colab": {
          "base_uri": "https://localhost:8080/",
          "height": 462
        }
      },
      "execution_count": 39,
      "outputs": [
        {
          "output_type": "error",
          "ename": "KeyError",
          "evalue": "ignored",
          "traceback": [
            "\u001b[0;31m---------------------------------------------------------------------------\u001b[0m",
            "\u001b[0;31mKeyError\u001b[0m                                  Traceback (most recent call last)",
            "\u001b[0;32m<ipython-input-39-f62b15698eea>\u001b[0m in \u001b[0;36m<module>\u001b[0;34m\u001b[0m\n\u001b[1;32m      4\u001b[0m \u001b[0;34m\u001b[0m\u001b[0m\n\u001b[1;32m      5\u001b[0m \u001b[0;32mfor\u001b[0m \u001b[0msource\u001b[0m \u001b[0;32min\u001b[0m \u001b[0msource_list\u001b[0m\u001b[0;34m:\u001b[0m\u001b[0;34m\u001b[0m\u001b[0;34m\u001b[0m\u001b[0m\n\u001b[0;32m----> 6\u001b[0;31m     \u001b[0mdefinition_list\u001b[0m \u001b[0;34m=\u001b[0m \u001b[0mtrain_data\u001b[0m\u001b[0;34m.\u001b[0m\u001b[0mDefinition\u001b[0m\u001b[0;34m[\u001b[0m\u001b[0;34m[\u001b[0m\u001b[0mtrain_data\u001b[0m\u001b[0;34m.\u001b[0m\u001b[0mSourceId\u001b[0m \u001b[0;34m==\u001b[0m \u001b[0msource\u001b[0m\u001b[0;34m]\u001b[0m\u001b[0;34m]\u001b[0m\u001b[0;34m\u001b[0m\u001b[0;34m\u001b[0m\u001b[0m\n\u001b[0m\u001b[1;32m      7\u001b[0m     \u001b[0mprint\u001b[0m\u001b[0;34m(\u001b[0m\u001b[0mdefinition_list\u001b[0m\u001b[0;34m)\u001b[0m\u001b[0;34m\u001b[0m\u001b[0;34m\u001b[0m\u001b[0m\n\u001b[1;32m      8\u001b[0m     \u001b[0;32mbreak\u001b[0m\u001b[0;34m\u001b[0m\u001b[0;34m\u001b[0m\u001b[0m\n",
            "\u001b[0;32m/usr/local/lib/python3.7/dist-packages/pandas/core/series.py\u001b[0m in \u001b[0;36m__getitem__\u001b[0;34m(self, key)\u001b[0m\n\u001b[1;32m    964\u001b[0m             \u001b[0;32mreturn\u001b[0m \u001b[0mself\u001b[0m\u001b[0;34m.\u001b[0m\u001b[0m_get_values\u001b[0m\u001b[0;34m(\u001b[0m\u001b[0mkey\u001b[0m\u001b[0;34m)\u001b[0m\u001b[0;34m\u001b[0m\u001b[0;34m\u001b[0m\u001b[0m\n\u001b[1;32m    965\u001b[0m \u001b[0;34m\u001b[0m\u001b[0m\n\u001b[0;32m--> 966\u001b[0;31m         \u001b[0;32mreturn\u001b[0m \u001b[0mself\u001b[0m\u001b[0;34m.\u001b[0m\u001b[0m_get_with\u001b[0m\u001b[0;34m(\u001b[0m\u001b[0mkey\u001b[0m\u001b[0;34m)\u001b[0m\u001b[0;34m\u001b[0m\u001b[0;34m\u001b[0m\u001b[0m\n\u001b[0m\u001b[1;32m    967\u001b[0m \u001b[0;34m\u001b[0m\u001b[0m\n\u001b[1;32m    968\u001b[0m     \u001b[0;32mdef\u001b[0m \u001b[0m_get_with\u001b[0m\u001b[0;34m(\u001b[0m\u001b[0mself\u001b[0m\u001b[0;34m,\u001b[0m \u001b[0mkey\u001b[0m\u001b[0;34m)\u001b[0m\u001b[0;34m:\u001b[0m\u001b[0;34m\u001b[0m\u001b[0;34m\u001b[0m\u001b[0m\n",
            "\u001b[0;32m/usr/local/lib/python3.7/dist-packages/pandas/core/series.py\u001b[0m in \u001b[0;36m_get_with\u001b[0;34m(self, key)\u001b[0m\n\u001b[1;32m   1004\u001b[0m \u001b[0;34m\u001b[0m\u001b[0m\n\u001b[1;32m   1005\u001b[0m         \u001b[0;31m# handle the dup indexing case GH#4246\u001b[0m\u001b[0;34m\u001b[0m\u001b[0;34m\u001b[0m\u001b[0;34m\u001b[0m\u001b[0m\n\u001b[0;32m-> 1006\u001b[0;31m         \u001b[0;32mreturn\u001b[0m \u001b[0mself\u001b[0m\u001b[0;34m.\u001b[0m\u001b[0mloc\u001b[0m\u001b[0;34m[\u001b[0m\u001b[0mkey\u001b[0m\u001b[0;34m]\u001b[0m\u001b[0;34m\u001b[0m\u001b[0;34m\u001b[0m\u001b[0m\n\u001b[0m\u001b[1;32m   1007\u001b[0m \u001b[0;34m\u001b[0m\u001b[0m\n\u001b[1;32m   1008\u001b[0m     \u001b[0;32mdef\u001b[0m \u001b[0m_get_values_tuple\u001b[0m\u001b[0;34m(\u001b[0m\u001b[0mself\u001b[0m\u001b[0;34m,\u001b[0m \u001b[0mkey\u001b[0m\u001b[0;34m)\u001b[0m\u001b[0;34m:\u001b[0m\u001b[0;34m\u001b[0m\u001b[0;34m\u001b[0m\u001b[0m\n",
            "\u001b[0;32m/usr/local/lib/python3.7/dist-packages/pandas/core/indexing.py\u001b[0m in \u001b[0;36m__getitem__\u001b[0;34m(self, key)\u001b[0m\n\u001b[1;32m    929\u001b[0m \u001b[0;34m\u001b[0m\u001b[0m\n\u001b[1;32m    930\u001b[0m             \u001b[0mmaybe_callable\u001b[0m \u001b[0;34m=\u001b[0m \u001b[0mcom\u001b[0m\u001b[0;34m.\u001b[0m\u001b[0mapply_if_callable\u001b[0m\u001b[0;34m(\u001b[0m\u001b[0mkey\u001b[0m\u001b[0;34m,\u001b[0m \u001b[0mself\u001b[0m\u001b[0;34m.\u001b[0m\u001b[0mobj\u001b[0m\u001b[0;34m)\u001b[0m\u001b[0;34m\u001b[0m\u001b[0;34m\u001b[0m\u001b[0m\n\u001b[0;32m--> 931\u001b[0;31m             \u001b[0;32mreturn\u001b[0m \u001b[0mself\u001b[0m\u001b[0;34m.\u001b[0m\u001b[0m_getitem_axis\u001b[0m\u001b[0;34m(\u001b[0m\u001b[0mmaybe_callable\u001b[0m\u001b[0;34m,\u001b[0m \u001b[0maxis\u001b[0m\u001b[0;34m=\u001b[0m\u001b[0maxis\u001b[0m\u001b[0;34m)\u001b[0m\u001b[0;34m\u001b[0m\u001b[0;34m\u001b[0m\u001b[0m\n\u001b[0m\u001b[1;32m    932\u001b[0m \u001b[0;34m\u001b[0m\u001b[0m\n\u001b[1;32m    933\u001b[0m     \u001b[0;32mdef\u001b[0m \u001b[0m_is_scalar_access\u001b[0m\u001b[0;34m(\u001b[0m\u001b[0mself\u001b[0m\u001b[0;34m,\u001b[0m \u001b[0mkey\u001b[0m\u001b[0;34m:\u001b[0m \u001b[0mtuple\u001b[0m\u001b[0;34m)\u001b[0m\u001b[0;34m:\u001b[0m\u001b[0;34m\u001b[0m\u001b[0;34m\u001b[0m\u001b[0m\n",
            "\u001b[0;32m/usr/local/lib/python3.7/dist-packages/pandas/core/indexing.py\u001b[0m in \u001b[0;36m_getitem_axis\u001b[0;34m(self, key, axis)\u001b[0m\n\u001b[1;32m   1151\u001b[0m                     \u001b[0;32mraise\u001b[0m \u001b[0mValueError\u001b[0m\u001b[0;34m(\u001b[0m\u001b[0;34m\"Cannot index with multidimensional key\"\u001b[0m\u001b[0;34m)\u001b[0m\u001b[0;34m\u001b[0m\u001b[0;34m\u001b[0m\u001b[0m\n\u001b[1;32m   1152\u001b[0m \u001b[0;34m\u001b[0m\u001b[0m\n\u001b[0;32m-> 1153\u001b[0;31m                 \u001b[0;32mreturn\u001b[0m \u001b[0mself\u001b[0m\u001b[0;34m.\u001b[0m\u001b[0m_getitem_iterable\u001b[0m\u001b[0;34m(\u001b[0m\u001b[0mkey\u001b[0m\u001b[0;34m,\u001b[0m \u001b[0maxis\u001b[0m\u001b[0;34m=\u001b[0m\u001b[0maxis\u001b[0m\u001b[0;34m)\u001b[0m\u001b[0;34m\u001b[0m\u001b[0;34m\u001b[0m\u001b[0m\n\u001b[0m\u001b[1;32m   1154\u001b[0m \u001b[0;34m\u001b[0m\u001b[0m\n\u001b[1;32m   1155\u001b[0m             \u001b[0;31m# nested tuple slicing\u001b[0m\u001b[0;34m\u001b[0m\u001b[0;34m\u001b[0m\u001b[0;34m\u001b[0m\u001b[0m\n",
            "\u001b[0;32m/usr/local/lib/python3.7/dist-packages/pandas/core/indexing.py\u001b[0m in \u001b[0;36m_getitem_iterable\u001b[0;34m(self, key, axis)\u001b[0m\n\u001b[1;32m   1091\u001b[0m \u001b[0;34m\u001b[0m\u001b[0m\n\u001b[1;32m   1092\u001b[0m         \u001b[0;31m# A collection of keys\u001b[0m\u001b[0;34m\u001b[0m\u001b[0;34m\u001b[0m\u001b[0;34m\u001b[0m\u001b[0m\n\u001b[0;32m-> 1093\u001b[0;31m         \u001b[0mkeyarr\u001b[0m\u001b[0;34m,\u001b[0m \u001b[0mindexer\u001b[0m \u001b[0;34m=\u001b[0m \u001b[0mself\u001b[0m\u001b[0;34m.\u001b[0m\u001b[0m_get_listlike_indexer\u001b[0m\u001b[0;34m(\u001b[0m\u001b[0mkey\u001b[0m\u001b[0;34m,\u001b[0m \u001b[0maxis\u001b[0m\u001b[0;34m)\u001b[0m\u001b[0;34m\u001b[0m\u001b[0;34m\u001b[0m\u001b[0m\n\u001b[0m\u001b[1;32m   1094\u001b[0m         return self.obj._reindex_with_indexers(\n\u001b[1;32m   1095\u001b[0m             \u001b[0;34m{\u001b[0m\u001b[0maxis\u001b[0m\u001b[0;34m:\u001b[0m \u001b[0;34m[\u001b[0m\u001b[0mkeyarr\u001b[0m\u001b[0;34m,\u001b[0m \u001b[0mindexer\u001b[0m\u001b[0;34m]\u001b[0m\u001b[0;34m}\u001b[0m\u001b[0;34m,\u001b[0m \u001b[0mcopy\u001b[0m\u001b[0;34m=\u001b[0m\u001b[0;32mTrue\u001b[0m\u001b[0;34m,\u001b[0m \u001b[0mallow_dups\u001b[0m\u001b[0;34m=\u001b[0m\u001b[0;32mTrue\u001b[0m\u001b[0;34m\u001b[0m\u001b[0;34m\u001b[0m\u001b[0m\n",
            "\u001b[0;32m/usr/local/lib/python3.7/dist-packages/pandas/core/indexing.py\u001b[0m in \u001b[0;36m_get_listlike_indexer\u001b[0;34m(self, key, axis)\u001b[0m\n\u001b[1;32m   1312\u001b[0m             \u001b[0mkeyarr\u001b[0m\u001b[0;34m,\u001b[0m \u001b[0mindexer\u001b[0m\u001b[0;34m,\u001b[0m \u001b[0mnew_indexer\u001b[0m \u001b[0;34m=\u001b[0m \u001b[0max\u001b[0m\u001b[0;34m.\u001b[0m\u001b[0m_reindex_non_unique\u001b[0m\u001b[0;34m(\u001b[0m\u001b[0mkeyarr\u001b[0m\u001b[0;34m)\u001b[0m\u001b[0;34m\u001b[0m\u001b[0;34m\u001b[0m\u001b[0m\n\u001b[1;32m   1313\u001b[0m \u001b[0;34m\u001b[0m\u001b[0m\n\u001b[0;32m-> 1314\u001b[0;31m         \u001b[0mself\u001b[0m\u001b[0;34m.\u001b[0m\u001b[0m_validate_read_indexer\u001b[0m\u001b[0;34m(\u001b[0m\u001b[0mkeyarr\u001b[0m\u001b[0;34m,\u001b[0m \u001b[0mindexer\u001b[0m\u001b[0;34m,\u001b[0m \u001b[0maxis\u001b[0m\u001b[0;34m)\u001b[0m\u001b[0;34m\u001b[0m\u001b[0;34m\u001b[0m\u001b[0m\n\u001b[0m\u001b[1;32m   1315\u001b[0m \u001b[0;34m\u001b[0m\u001b[0m\n\u001b[1;32m   1316\u001b[0m         if needs_i8_conversion(ax.dtype) or isinstance(\n",
            "\u001b[0;32m/usr/local/lib/python3.7/dist-packages/pandas/core/indexing.py\u001b[0m in \u001b[0;36m_validate_read_indexer\u001b[0;34m(self, key, indexer, axis)\u001b[0m\n\u001b[1;32m   1372\u001b[0m                 \u001b[0;32mif\u001b[0m \u001b[0muse_interval_msg\u001b[0m\u001b[0;34m:\u001b[0m\u001b[0;34m\u001b[0m\u001b[0;34m\u001b[0m\u001b[0m\n\u001b[1;32m   1373\u001b[0m                     \u001b[0mkey\u001b[0m \u001b[0;34m=\u001b[0m \u001b[0mlist\u001b[0m\u001b[0;34m(\u001b[0m\u001b[0mkey\u001b[0m\u001b[0;34m)\u001b[0m\u001b[0;34m\u001b[0m\u001b[0;34m\u001b[0m\u001b[0m\n\u001b[0;32m-> 1374\u001b[0;31m                 \u001b[0;32mraise\u001b[0m \u001b[0mKeyError\u001b[0m\u001b[0;34m(\u001b[0m\u001b[0;34mf\"None of [{key}] are in the [{axis_name}]\"\u001b[0m\u001b[0;34m)\u001b[0m\u001b[0;34m\u001b[0m\u001b[0;34m\u001b[0m\u001b[0m\n\u001b[0m\u001b[1;32m   1375\u001b[0m \u001b[0;34m\u001b[0m\u001b[0m\n\u001b[1;32m   1376\u001b[0m             \u001b[0mnot_found\u001b[0m \u001b[0;34m=\u001b[0m \u001b[0mlist\u001b[0m\u001b[0;34m(\u001b[0m\u001b[0mensure_index\u001b[0m\u001b[0;34m(\u001b[0m\u001b[0mkey\u001b[0m\u001b[0;34m)\u001b[0m\u001b[0;34m[\u001b[0m\u001b[0mmissing_mask\u001b[0m\u001b[0;34m.\u001b[0m\u001b[0mnonzero\u001b[0m\u001b[0;34m(\u001b[0m\u001b[0;34m)\u001b[0m\u001b[0;34m[\u001b[0m\u001b[0;36m0\u001b[0m\u001b[0;34m]\u001b[0m\u001b[0;34m]\u001b[0m\u001b[0;34m.\u001b[0m\u001b[0munique\u001b[0m\u001b[0;34m(\u001b[0m\u001b[0;34m)\u001b[0m\u001b[0;34m)\u001b[0m\u001b[0;34m\u001b[0m\u001b[0;34m\u001b[0m\u001b[0m\n",
            "\u001b[0;31mKeyError\u001b[0m: \"None of [Index([(False, False, False, False, False, False, False, False, False, False, False, False, False, False, False, False, False, False, False, False, False, False, False, False, False, False, False, False, False, False, False, False, False, False, False, False, False, False, False, False, False, False, False, False, False, False, False, False, False, False, False, False, False, False, False, False, False, False, False, False, False, False, False, False, False, False, False, False, False, False, False, False, False, False, False, False, False, False, False, False, False, False, False, False, False, False, False, False, False, False, False, False, False, False, False, False, False, False, False, False, ...)], dtype='object')] are in the [index]\""
          ]
        }
      ]
    },
    {
      "cell_type": "markdown",
      "source": [
        "Once sentence_pairs is encoded by model, the result embeddings is a list of list, each element is an latent vector of shape (384,). "
      ],
      "metadata": {
        "id": "M2FzydwNkHQy"
      }
    },
    {
      "cell_type": "code",
      "metadata": {
        "id": "qtAiS7u4s91W",
        "colab": {
          "base_uri": "https://localhost:8080/"
        },
        "outputId": "ba1a32e3-bc45-409d-a993-d3f624e9f764"
      },
      "source": [
        "embeddings = []\n",
        "for pair in sentence_pairs:\n",
        "    embeddings.append(model.encode(pair))\n",
        "\n",
        "type(embeddings), len(embeddings), len(embeddings[0]), type(embeddings[0][0]), embeddings[0][0].shape"
      ],
      "execution_count": null,
      "outputs": [
        {
          "output_type": "execute_result",
          "data": {
            "text/plain": [
              "(list, 4, 3, numpy.ndarray, (384,))"
            ]
          },
          "metadata": {},
          "execution_count": 47
        }
      ]
    },
    {
      "cell_type": "markdown",
      "source": [
        "## Construct index table/query of Items-Definitions-Sources"
      ],
      "metadata": {
        "id": "GPECwVSzsQkn"
      }
    },
    {
      "cell_type": "code",
      "source": [
        "######## TODO"
      ],
      "metadata": {
        "id": "NAfKC6nbYlNl"
      },
      "execution_count": null,
      "outputs": []
    },
    {
      "cell_type": "markdown",
      "source": [],
      "metadata": {
        "id": "YknvhAdpyBgZ"
      }
    },
    {
      "cell_type": "code",
      "source": [
        "######## TODO"
      ],
      "metadata": {
        "id": "0HqCtCStyCI3"
      },
      "execution_count": null,
      "outputs": []
    },
    {
      "cell_type": "markdown",
      "source": [
        "Manually scan and picked four Definitions that seems to make sense. "
      ],
      "metadata": {
        "id": "dCFyJWRoqpHg"
      }
    },
    {
      "cell_type": "code",
      "source": [
        "definition_samples = [\n",
        "    \"A combination of temporal planning and temporal reminders modified to be leader-specific.\",\n",
        "    \"A behavioral observation scale for appraising the employee's performance\",\n",
        "    \"A belief that ability is fixed and unchangeable.\",\n",
        "    \"A deep sense of moral obligation associated with animal care.\",\n",
        "]"
      ],
      "metadata": {
        "id": "wCv19zHoaxU4"
      },
      "execution_count": null,
      "outputs": []
    },
    {
      "cell_type": "markdown",
      "source": [
        "For the first pass, I choose only the second sample to process"
      ],
      "metadata": {
        "id": "eIfoNwc2qhW_"
      }
    },
    {
      "cell_type": "code",
      "source": [
        "data_sample = data[data['Definition'] == definition_samples[1]]\n",
        "data_sample"
      ],
      "metadata": {
        "colab": {
          "base_uri": "https://localhost:8080/",
          "height": 175
        },
        "id": "Pb8qcZk3h-lO",
        "outputId": "bcfac560-e10a-42e2-bcfa-81d8f4094de0"
      },
      "execution_count": null,
      "outputs": [
        {
          "output_type": "execute_result",
          "data": {
            "text/plain": [
              "       SourceId  Target                                         Definition  \\\n",
              "427        1930       1  A behavioral observation scale for appraising ...   \n",
              "1634       1930       1  A behavioral observation scale for appraising ...   \n",
              "6887       1930       0  A behavioral observation scale for appraising ...   \n",
              "18047      1930       0  A behavioral observation scale for appraising ...   \n",
              "\n",
              "                                               Item_Text  \n",
              "427    The employee influences others in a way that r...  \n",
              "1634   The employee adapts personal style to the need...  \n",
              "6887   People can substantially change the kind of pe...  \n",
              "18047  Everyone is a certain kind of person, and ther...  "
            ],
            "text/html": [
              "\n",
              "  <div id=\"df-13c86d64-4dd7-4ce4-aab9-ab3175bb13f3\">\n",
              "    <div class=\"colab-df-container\">\n",
              "      <div>\n",
              "<style scoped>\n",
              "    .dataframe tbody tr th:only-of-type {\n",
              "        vertical-align: middle;\n",
              "    }\n",
              "\n",
              "    .dataframe tbody tr th {\n",
              "        vertical-align: top;\n",
              "    }\n",
              "\n",
              "    .dataframe thead th {\n",
              "        text-align: right;\n",
              "    }\n",
              "</style>\n",
              "<table border=\"1\" class=\"dataframe\">\n",
              "  <thead>\n",
              "    <tr style=\"text-align: right;\">\n",
              "      <th></th>\n",
              "      <th>SourceId</th>\n",
              "      <th>Target</th>\n",
              "      <th>Definition</th>\n",
              "      <th>Item_Text</th>\n",
              "    </tr>\n",
              "  </thead>\n",
              "  <tbody>\n",
              "    <tr>\n",
              "      <th>427</th>\n",
              "      <td>1930</td>\n",
              "      <td>1</td>\n",
              "      <td>A behavioral observation scale for appraising ...</td>\n",
              "      <td>The employee influences others in a way that r...</td>\n",
              "    </tr>\n",
              "    <tr>\n",
              "      <th>1634</th>\n",
              "      <td>1930</td>\n",
              "      <td>1</td>\n",
              "      <td>A behavioral observation scale for appraising ...</td>\n",
              "      <td>The employee adapts personal style to the need...</td>\n",
              "    </tr>\n",
              "    <tr>\n",
              "      <th>6887</th>\n",
              "      <td>1930</td>\n",
              "      <td>0</td>\n",
              "      <td>A behavioral observation scale for appraising ...</td>\n",
              "      <td>People can substantially change the kind of pe...</td>\n",
              "    </tr>\n",
              "    <tr>\n",
              "      <th>18047</th>\n",
              "      <td>1930</td>\n",
              "      <td>0</td>\n",
              "      <td>A behavioral observation scale for appraising ...</td>\n",
              "      <td>Everyone is a certain kind of person, and ther...</td>\n",
              "    </tr>\n",
              "  </tbody>\n",
              "</table>\n",
              "</div>\n",
              "      <button class=\"colab-df-convert\" onclick=\"convertToInteractive('df-13c86d64-4dd7-4ce4-aab9-ab3175bb13f3')\"\n",
              "              title=\"Convert this dataframe to an interactive table.\"\n",
              "              style=\"display:none;\">\n",
              "        \n",
              "  <svg xmlns=\"http://www.w3.org/2000/svg\" height=\"24px\"viewBox=\"0 0 24 24\"\n",
              "       width=\"24px\">\n",
              "    <path d=\"M0 0h24v24H0V0z\" fill=\"none\"/>\n",
              "    <path d=\"M18.56 5.44l.94 2.06.94-2.06 2.06-.94-2.06-.94-.94-2.06-.94 2.06-2.06.94zm-11 1L8.5 8.5l.94-2.06 2.06-.94-2.06-.94L8.5 2.5l-.94 2.06-2.06.94zm10 10l.94 2.06.94-2.06 2.06-.94-2.06-.94-.94-2.06-.94 2.06-2.06.94z\"/><path d=\"M17.41 7.96l-1.37-1.37c-.4-.4-.92-.59-1.43-.59-.52 0-1.04.2-1.43.59L10.3 9.45l-7.72 7.72c-.78.78-.78 2.05 0 2.83L4 21.41c.39.39.9.59 1.41.59.51 0 1.02-.2 1.41-.59l7.78-7.78 2.81-2.81c.8-.78.8-2.07 0-2.86zM5.41 20L4 18.59l7.72-7.72 1.47 1.35L5.41 20z\"/>\n",
              "  </svg>\n",
              "      </button>\n",
              "      \n",
              "  <style>\n",
              "    .colab-df-container {\n",
              "      display:flex;\n",
              "      flex-wrap:wrap;\n",
              "      gap: 12px;\n",
              "    }\n",
              "\n",
              "    .colab-df-convert {\n",
              "      background-color: #E8F0FE;\n",
              "      border: none;\n",
              "      border-radius: 50%;\n",
              "      cursor: pointer;\n",
              "      display: none;\n",
              "      fill: #1967D2;\n",
              "      height: 32px;\n",
              "      padding: 0 0 0 0;\n",
              "      width: 32px;\n",
              "    }\n",
              "\n",
              "    .colab-df-convert:hover {\n",
              "      background-color: #E2EBFA;\n",
              "      box-shadow: 0px 1px 2px rgba(60, 64, 67, 0.3), 0px 1px 3px 1px rgba(60, 64, 67, 0.15);\n",
              "      fill: #174EA6;\n",
              "    }\n",
              "\n",
              "    [theme=dark] .colab-df-convert {\n",
              "      background-color: #3B4455;\n",
              "      fill: #D2E3FC;\n",
              "    }\n",
              "\n",
              "    [theme=dark] .colab-df-convert:hover {\n",
              "      background-color: #434B5C;\n",
              "      box-shadow: 0px 1px 3px 1px rgba(0, 0, 0, 0.15);\n",
              "      filter: drop-shadow(0px 1px 2px rgba(0, 0, 0, 0.3));\n",
              "      fill: #FFFFFF;\n",
              "    }\n",
              "  </style>\n",
              "\n",
              "      <script>\n",
              "        const buttonEl =\n",
              "          document.querySelector('#df-13c86d64-4dd7-4ce4-aab9-ab3175bb13f3 button.colab-df-convert');\n",
              "        buttonEl.style.display =\n",
              "          google.colab.kernel.accessAllowed ? 'block' : 'none';\n",
              "\n",
              "        async function convertToInteractive(key) {\n",
              "          const element = document.querySelector('#df-13c86d64-4dd7-4ce4-aab9-ab3175bb13f3');\n",
              "          const dataTable =\n",
              "            await google.colab.kernel.invokeFunction('convertToInteractive',\n",
              "                                                     [key], {});\n",
              "          if (!dataTable) return;\n",
              "\n",
              "          const docLinkHtml = 'Like what you see? Visit the ' +\n",
              "            '<a target=\"_blank\" href=https://colab.research.google.com/notebooks/data_table.ipynb>data table notebook</a>'\n",
              "            + ' to learn more about interactive tables.';\n",
              "          element.innerHTML = '';\n",
              "          dataTable['output_type'] = 'display_data';\n",
              "          await google.colab.output.renderOutput(dataTable, element);\n",
              "          const docLink = document.createElement('div');\n",
              "          docLink.innerHTML = docLinkHtml;\n",
              "          element.appendChild(docLink);\n",
              "        }\n",
              "      </script>\n",
              "    </div>\n",
              "  </div>\n",
              "  "
            ]
          },
          "metadata": {},
          "execution_count": 6
        }
      ]
    },
    {
      "cell_type": "markdown",
      "metadata": {
        "id": "I0a8nuJ9m8BQ"
      },
      "source": [
        "## Construct Sentences-Pairs"
      ]
    },
    {
      "cell_type": "markdown",
      "source": [
        "This section takes the `data_sample` from the previous section. This consists of: N sentence-pairs, first is ***Definition*** of a specific topic that a survey instrument is studies, while the second is the ***Item*** that the respondent rates. \n",
        "\n",
        "Each pair is encoded into a 384-dim latent/embedding vector and a cosine similarity is calculated for the pair."
      ],
      "metadata": {
        "id": "bCFGSEoZML41"
      }
    },
    {
      "cell_type": "markdown",
      "source": [
        "The `sentence_pairs` is a list of pair_lists from the `data_sample` df"
      ],
      "metadata": {
        "id": "phRsEleVOzZd"
      }
    },
    {
      "cell_type": "code",
      "source": [
        "sentence_pairs = data_sample[['Definition', 'Item_Text', 'Target']].values.tolist()\n",
        "sentence_pairs"
      ],
      "metadata": {
        "colab": {
          "base_uri": "https://localhost:8080/"
        },
        "id": "vFEEVb15OE3N",
        "outputId": "aeb4c940-0ac2-48a0-ddbb-2a5c04e53be1"
      },
      "execution_count": null,
      "outputs": [
        {
          "output_type": "execute_result",
          "data": {
            "text/plain": [
              "[[\"A behavioral observation scale for appraising the employee's performance\",\n",
              "  'The employee influences others in a way that results in agreement',\n",
              "  1],\n",
              " [\"A behavioral observation scale for appraising the employee's performance\",\n",
              "  'The employee adapts personal style to the needs of different situations',\n",
              "  1],\n",
              " [\"A behavioral observation scale for appraising the employee's performance\",\n",
              "  'People can substantially change the kind of person they are.',\n",
              "  0],\n",
              " [\"A behavioral observation scale for appraising the employee's performance\",\n",
              "  'Everyone is a certain kind of person, and there is not much they can really change about that.',\n",
              "  0]]"
            ]
          },
          "metadata": {},
          "execution_count": 46
        }
      ]
    },
    {
      "cell_type": "markdown",
      "source": [
        "# Compute pairwise similarities\n",
        "\n",
        "- For Training by each Definition, compute pairwise similarities among its Items."
      ],
      "metadata": {
        "id": "NBbwAcFyX_bQ"
      }
    },
    {
      "cell_type": "markdown",
      "source": [
        "Using [Cosine Similarity function](https://scikit-learn.org/stable/modules/generated/sklearn.metrics.pairwise.cosine_similarity.html)  from sklearn, ..."
      ],
      "metadata": {
        "id": "sJ-CsoDWnE3g"
      }
    },
    {
      "cell_type": "code",
      "source": [
        "for i, pair in enumerate(embeddings):\n",
        "    print(sentence_pairs[i][0])\n",
        "    print(sentence_pairs[i][1])\n",
        "    sim = cosine_similarity(pair[0].reshape(1, -1), pair[1].reshape(1, -1))\n",
        "    print(\"   Similarity:\", sim, \"Target:\", sentence_pairs[i][2])\n",
        "    print()\n"
      ],
      "metadata": {
        "colab": {
          "base_uri": "https://localhost:8080/"
        },
        "id": "sRRILxY3lXvm",
        "outputId": "ec9ccd06-21b0-4327-ea8a-b0c3c8e3cbe9"
      },
      "execution_count": null,
      "outputs": [
        {
          "output_type": "stream",
          "name": "stdout",
          "text": [
            "A behavioral observation scale for appraising the employee's performance\n",
            "The employee influences others in a way that results in agreement\n",
            "   Simularity: [[0.59870344]] Target: 1\n",
            "\n",
            "A behavioral observation scale for appraising the employee's performance\n",
            "The employee adapts personal style to the needs of different situations\n",
            "   Simularity: [[0.55898446]] Target: 1\n",
            "\n",
            "A behavioral observation scale for appraising the employee's performance\n",
            "People can substantially change the kind of person they are.\n",
            "   Simularity: [[0.31225926]] Target: 0\n",
            "\n",
            "A behavioral observation scale for appraising the employee's performance\n",
            "Everyone is a certain kind of person, and there is not much they can really change about that.\n",
            "   Simularity: [[0.20095041]] Target: 0\n",
            "\n"
          ]
        }
      ]
    }
  ]
}